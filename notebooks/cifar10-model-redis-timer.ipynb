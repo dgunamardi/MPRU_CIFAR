{
 "cells": [
  {
   "cell_type": "code",
   "execution_count": 1,
   "id": "c6a4080d",
   "metadata": {},
   "outputs": [
    {
     "name": "stderr",
     "output_type": "stream",
     "text": [
      "Seed 42:  40%|████      | 4/10 [00:00<00:00, 30.95it/s]"
     ]
    },
    {
     "name": "stdout",
     "output_type": "stream",
     "text": [
      "[Saved] ../results/redis_cifar10/cifar_resnet_s42_e50_rd0.npz\n",
      "[Saved] ../results/redis_cifar10/cifar_resnet_s42_e50_rd1.npz\n",
      "[Saved] ../results/redis_cifar10/cifar_resnet_s42_e50_rd2.npz\n",
      "[Saved] ../results/redis_cifar10/cifar_resnet_s42_e50_rd3.npz\n",
      "[Saved] ../results/redis_cifar10/cifar_resnet_s42_e50_rd4.npz\n",
      "[Saved] ../results/redis_cifar10/cifar_resnet_s42_e50_rd5.npz\n",
      "[Saved] ../results/redis_cifar10/cifar_resnet_s42_e50_rd6.npz\n"
     ]
    },
    {
     "name": "stderr",
     "output_type": "stream",
     "text": [
      "                                                       \r"
     ]
    },
    {
     "name": "stdout",
     "output_type": "stream",
     "text": [
      "[Saved] ../results/redis_cifar10/cifar_resnet_s42_e50_rd7.npz\n",
      "[Saved] ../results/redis_cifar10/cifar_resnet_s42_e50_rd8.npz\n",
      "[Saved] ../results/redis_cifar10/cifar_resnet_s42_e50_rd9.npz\n"
     ]
    },
    {
     "name": "stderr",
     "output_type": "stream",
     "text": [
      "Seed 602:   0%|          | 0/10 [00:00<?, ?it/s]"
     ]
    },
    {
     "name": "stdout",
     "output_type": "stream",
     "text": [
      "[Saved] ../results/redis_cifar10/cifar_resnet_s602_e50_rd0.npz\n",
      "[Saved] ../results/redis_cifar10/cifar_resnet_s602_e50_rd1.npz\n",
      "[Saved] ../results/redis_cifar10/cifar_resnet_s602_e50_rd2.npz\n"
     ]
    },
    {
     "name": "stderr",
     "output_type": "stream",
     "text": [
      "Seed 602:  40%|████      | 4/10 [00:00<00:00, 32.77it/s]"
     ]
    },
    {
     "name": "stdout",
     "output_type": "stream",
     "text": [
      "[Saved] ../results/redis_cifar10/cifar_resnet_s602_e50_rd3.npz\n",
      "[Saved] ../results/redis_cifar10/cifar_resnet_s602_e50_rd4.npz\n",
      "[Saved] ../results/redis_cifar10/cifar_resnet_s602_e50_rd5.npz\n",
      "[Saved] ../results/redis_cifar10/cifar_resnet_s602_e50_rd6.npz\n"
     ]
    },
    {
     "name": "stderr",
     "output_type": "stream",
     "text": [
      "                                                        \r"
     ]
    },
    {
     "name": "stdout",
     "output_type": "stream",
     "text": [
      "[Saved] ../results/redis_cifar10/cifar_resnet_s602_e50_rd7.npz\n",
      "[Saved] ../results/redis_cifar10/cifar_resnet_s602_e50_rd8.npz\n",
      "[Saved] ../results/redis_cifar10/cifar_resnet_s602_e50_rd9.npz\n"
     ]
    },
    {
     "name": "stderr",
     "output_type": "stream",
     "text": [
      "Seed 311:   0%|          | 0/10 [00:00<?, ?it/s]"
     ]
    },
    {
     "name": "stdout",
     "output_type": "stream",
     "text": [
      "[Saved] ../results/redis_cifar10/cifar_resnet_s311_e50_rd0.npz\n",
      "[Saved] ../results/redis_cifar10/cifar_resnet_s311_e50_rd1.npz\n",
      "[Saved] ../results/redis_cifar10/cifar_resnet_s311_e50_rd2.npz\n"
     ]
    },
    {
     "name": "stderr",
     "output_type": "stream",
     "text": [
      "Seed 311:  40%|████      | 4/10 [00:00<00:00, 34.14it/s]"
     ]
    },
    {
     "name": "stdout",
     "output_type": "stream",
     "text": [
      "[Saved] ../results/redis_cifar10/cifar_resnet_s311_e50_rd3.npz\n",
      "[Saved] ../results/redis_cifar10/cifar_resnet_s311_e50_rd4.npz\n",
      "[Saved] ../results/redis_cifar10/cifar_resnet_s311_e50_rd5.npz\n",
      "[Saved] ../results/redis_cifar10/cifar_resnet_s311_e50_rd6.npz\n"
     ]
    },
    {
     "name": "stderr",
     "output_type": "stream",
     "text": [
      "                                                        \r"
     ]
    },
    {
     "name": "stdout",
     "output_type": "stream",
     "text": [
      "[Saved] ../results/redis_cifar10/cifar_resnet_s311_e50_rd7.npz\n",
      "[Saved] ../results/redis_cifar10/cifar_resnet_s311_e50_rd8.npz\n",
      "[Saved] ../results/redis_cifar10/cifar_resnet_s311_e50_rd9.npz\n"
     ]
    },
    {
     "name": "stderr",
     "output_type": "stream",
     "text": [
      "Seed 637:  40%|████      | 4/10 [00:00<00:00, 34.36it/s]"
     ]
    },
    {
     "name": "stdout",
     "output_type": "stream",
     "text": [
      "[Saved] ../results/redis_cifar10/cifar_resnet_s637_e50_rd0.npz\n",
      "[Saved] ../results/redis_cifar10/cifar_resnet_s637_e50_rd1.npz\n",
      "[Saved] ../results/redis_cifar10/cifar_resnet_s637_e50_rd2.npz\n",
      "[Saved] ../results/redis_cifar10/cifar_resnet_s637_e50_rd3.npz\n",
      "[Saved] ../results/redis_cifar10/cifar_resnet_s637_e50_rd4.npz\n",
      "[Saved] ../results/redis_cifar10/cifar_resnet_s637_e50_rd5.npz\n",
      "[Saved] ../results/redis_cifar10/cifar_resnet_s637_e50_rd6.npz\n"
     ]
    },
    {
     "name": "stderr",
     "output_type": "stream",
     "text": [
      "                                                        \r"
     ]
    },
    {
     "name": "stdout",
     "output_type": "stream",
     "text": [
      "[Saved] ../results/redis_cifar10/cifar_resnet_s637_e50_rd7.npz\n",
      "[Saved] ../results/redis_cifar10/cifar_resnet_s637_e50_rd8.npz\n",
      "[Saved] ../results/redis_cifar10/cifar_resnet_s637_e50_rd9.npz\n"
     ]
    },
    {
     "name": "stderr",
     "output_type": "stream",
     "text": [
      "Seed 800:   0%|          | 0/10 [00:00<?, ?it/s]"
     ]
    },
    {
     "name": "stdout",
     "output_type": "stream",
     "text": [
      "[Saved] ../results/redis_cifar10/cifar_resnet_s800_e50_rd0.npz\n",
      "[Saved] ../results/redis_cifar10/cifar_resnet_s800_e50_rd1.npz\n",
      "[Saved] ../results/redis_cifar10/cifar_resnet_s800_e50_rd2.npz\n"
     ]
    },
    {
     "name": "stderr",
     "output_type": "stream",
     "text": [
      "Seed 800:  40%|████      | 4/10 [00:00<00:00, 33.78it/s]"
     ]
    },
    {
     "name": "stdout",
     "output_type": "stream",
     "text": [
      "[Saved] ../results/redis_cifar10/cifar_resnet_s800_e50_rd3.npz\n",
      "[Saved] ../results/redis_cifar10/cifar_resnet_s800_e50_rd4.npz\n",
      "[Saved] ../results/redis_cifar10/cifar_resnet_s800_e50_rd5.npz\n",
      "[Saved] ../results/redis_cifar10/cifar_resnet_s800_e50_rd6.npz\n"
     ]
    },
    {
     "name": "stderr",
     "output_type": "stream",
     "text": [
      "Seed 800:  80%|████████  | 8/10 [00:00<00:00, 34.20it/s]"
     ]
    },
    {
     "name": "stdout",
     "output_type": "stream",
     "text": [
      "[Saved] ../results/redis_cifar10/cifar_resnet_s800_e50_rd7.npz\n"
     ]
    },
    {
     "name": "stderr",
     "output_type": "stream",
     "text": [
      "                                                        \r"
     ]
    },
    {
     "name": "stdout",
     "output_type": "stream",
     "text": [
      "[Saved] ../results/redis_cifar10/cifar_resnet_s800_e50_rd8.npz\n",
      "[Saved] ../results/redis_cifar10/cifar_resnet_s800_e50_rd9.npz\n"
     ]
    },
    {
     "name": "stderr",
     "output_type": "stream",
     "text": [
      "Seed 543:   0%|          | 0/10 [00:00<?, ?it/s]"
     ]
    },
    {
     "name": "stdout",
     "output_type": "stream",
     "text": [
      "[Saved] ../results/redis_cifar10/cifar_resnet_s543_e50_rd0.npz\n",
      "[Saved] ../results/redis_cifar10/cifar_resnet_s543_e50_rd1.npz\n",
      "[Saved] ../results/redis_cifar10/cifar_resnet_s543_e50_rd2.npz\n"
     ]
    },
    {
     "name": "stderr",
     "output_type": "stream",
     "text": [
      "Seed 543:  40%|████      | 4/10 [00:00<00:00, 32.16it/s]"
     ]
    },
    {
     "name": "stdout",
     "output_type": "stream",
     "text": [
      "[Saved] ../results/redis_cifar10/cifar_resnet_s543_e50_rd3.npz\n",
      "[Saved] ../results/redis_cifar10/cifar_resnet_s543_e50_rd4.npz\n",
      "[Saved] ../results/redis_cifar10/cifar_resnet_s543_e50_rd5.npz\n",
      "[Saved] ../results/redis_cifar10/cifar_resnet_s543_e50_rd6.npz\n"
     ]
    },
    {
     "name": "stderr",
     "output_type": "stream",
     "text": [
      "                                                        "
     ]
    },
    {
     "name": "stdout",
     "output_type": "stream",
     "text": [
      "[Saved] ../results/redis_cifar10/cifar_resnet_s543_e50_rd7.npz\n",
      "[Saved] ../results/redis_cifar10/cifar_resnet_s543_e50_rd8.npz\n",
      "[Saved] ../results/redis_cifar10/cifar_resnet_s543_e50_rd9.npz\n"
     ]
    },
    {
     "name": "stderr",
     "output_type": "stream",
     "text": [
      "Seed 969:   0%|          | 0/10 [00:00<?, ?it/s]"
     ]
    },
    {
     "name": "stdout",
     "output_type": "stream",
     "text": [
      "[Saved] ../results/redis_cifar10/cifar_resnet_s969_e50_rd0.npz\n",
      "[Saved] ../results/redis_cifar10/cifar_resnet_s969_e50_rd1.npz\n",
      "[Saved] ../results/redis_cifar10/cifar_resnet_s969_e50_rd2.npz\n"
     ]
    },
    {
     "name": "stderr",
     "output_type": "stream",
     "text": [
      "Seed 969:  40%|████      | 4/10 [00:00<00:00, 34.24it/s]"
     ]
    },
    {
     "name": "stdout",
     "output_type": "stream",
     "text": [
      "[Saved] ../results/redis_cifar10/cifar_resnet_s969_e50_rd3.npz\n",
      "[Saved] ../results/redis_cifar10/cifar_resnet_s969_e50_rd4.npz\n",
      "[Saved] ../results/redis_cifar10/cifar_resnet_s969_e50_rd5.npz\n",
      "[Saved] ../results/redis_cifar10/cifar_resnet_s969_e50_rd6.npz\n"
     ]
    },
    {
     "name": "stderr",
     "output_type": "stream",
     "text": [
      "                                                        \r"
     ]
    },
    {
     "name": "stdout",
     "output_type": "stream",
     "text": [
      "[Saved] ../results/redis_cifar10/cifar_resnet_s969_e50_rd7.npz\n",
      "[Saved] ../results/redis_cifar10/cifar_resnet_s969_e50_rd8.npz\n",
      "[Saved] ../results/redis_cifar10/cifar_resnet_s969_e50_rd9.npz\n"
     ]
    },
    {
     "name": "stderr",
     "output_type": "stream",
     "text": [
      "Seed 122:   0%|          | 0/10 [00:00<?, ?it/s]"
     ]
    },
    {
     "name": "stdout",
     "output_type": "stream",
     "text": [
      "[Saved] ../results/redis_cifar10/cifar_resnet_s122_e50_rd0.npz\n",
      "[Saved] ../results/redis_cifar10/cifar_resnet_s122_e50_rd1.npz\n",
      "[Saved] ../results/redis_cifar10/cifar_resnet_s122_e50_rd2.npz\n"
     ]
    },
    {
     "name": "stderr",
     "output_type": "stream",
     "text": [
      "Seed 122:  40%|████      | 4/10 [00:00<00:00, 33.76it/s]"
     ]
    },
    {
     "name": "stdout",
     "output_type": "stream",
     "text": [
      "[Saved] ../results/redis_cifar10/cifar_resnet_s122_e50_rd3.npz\n",
      "[Saved] ../results/redis_cifar10/cifar_resnet_s122_e50_rd4.npz\n",
      "[Saved] ../results/redis_cifar10/cifar_resnet_s122_e50_rd5.npz\n",
      "[Saved] ../results/redis_cifar10/cifar_resnet_s122_e50_rd6.npz\n"
     ]
    },
    {
     "name": "stderr",
     "output_type": "stream",
     "text": [
      "                                                        \r"
     ]
    },
    {
     "name": "stdout",
     "output_type": "stream",
     "text": [
      "[Saved] ../results/redis_cifar10/cifar_resnet_s122_e50_rd7.npz\n",
      "[Saved] ../results/redis_cifar10/cifar_resnet_s122_e50_rd8.npz\n",
      "[Saved] ../results/redis_cifar10/cifar_resnet_s122_e50_rd9.npz\n"
     ]
    },
    {
     "name": "stderr",
     "output_type": "stream",
     "text": [
      "Seed 336:   0%|          | 0/10 [00:00<?, ?it/s]"
     ]
    },
    {
     "name": "stdout",
     "output_type": "stream",
     "text": [
      "[Saved] ../results/redis_cifar10/cifar_resnet_s336_e50_rd0.npz\n",
      "[Saved] ../results/redis_cifar10/cifar_resnet_s336_e50_rd1.npz\n",
      "[Saved] ../results/redis_cifar10/cifar_resnet_s336_e50_rd2.npz\n"
     ]
    },
    {
     "name": "stderr",
     "output_type": "stream",
     "text": [
      "Seed 336:  40%|████      | 4/10 [00:00<00:00, 34.09it/s]"
     ]
    },
    {
     "name": "stdout",
     "output_type": "stream",
     "text": [
      "[Saved] ../results/redis_cifar10/cifar_resnet_s336_e50_rd3.npz\n",
      "[Saved] ../results/redis_cifar10/cifar_resnet_s336_e50_rd4.npz\n",
      "[Saved] ../results/redis_cifar10/cifar_resnet_s336_e50_rd5.npz\n",
      "[Saved] ../results/redis_cifar10/cifar_resnet_s336_e50_rd6.npz\n"
     ]
    },
    {
     "name": "stderr",
     "output_type": "stream",
     "text": [
      "                                                        \r"
     ]
    },
    {
     "name": "stdout",
     "output_type": "stream",
     "text": [
      "[Saved] ../results/redis_cifar10/cifar_resnet_s336_e50_rd7.npz\n",
      "[Saved] ../results/redis_cifar10/cifar_resnet_s336_e50_rd8.npz\n",
      "[Saved] ../results/redis_cifar10/cifar_resnet_s336_e50_rd9.npz\n"
     ]
    },
    {
     "name": "stderr",
     "output_type": "stream",
     "text": [
      "Seed 93:   0%|          | 0/10 [00:00<?, ?it/s]"
     ]
    },
    {
     "name": "stdout",
     "output_type": "stream",
     "text": [
      "[Saved] ../results/redis_cifar10/cifar_resnet_s93_e50_rd0.npz\n",
      "[Saved] ../results/redis_cifar10/cifar_resnet_s93_e50_rd1.npz\n",
      "[Saved] ../results/redis_cifar10/cifar_resnet_s93_e50_rd2.npz\n"
     ]
    },
    {
     "name": "stderr",
     "output_type": "stream",
     "text": [
      "Seed 93:  40%|████      | 4/10 [00:00<00:00, 33.80it/s]"
     ]
    },
    {
     "name": "stdout",
     "output_type": "stream",
     "text": [
      "[Saved] ../results/redis_cifar10/cifar_resnet_s93_e50_rd3.npz\n",
      "[Saved] ../results/redis_cifar10/cifar_resnet_s93_e50_rd4.npz\n",
      "[Saved] ../results/redis_cifar10/cifar_resnet_s93_e50_rd5.npz\n",
      "[Saved] ../results/redis_cifar10/cifar_resnet_s93_e50_rd6.npz\n"
     ]
    },
    {
     "name": "stderr",
     "output_type": "stream",
     "text": [
      "                                                       "
     ]
    },
    {
     "name": "stdout",
     "output_type": "stream",
     "text": [
      "[Saved] ../results/redis_cifar10/cifar_resnet_s93_e50_rd7.npz\n",
      "[Saved] ../results/redis_cifar10/cifar_resnet_s93_e50_rd8.npz\n",
      "[Saved] ../results/redis_cifar10/cifar_resnet_s93_e50_rd9.npz\n",
      "\n",
      "All timers saved to ../analytics/CIFAR10/timer/redistribution_timer.csv\n"
     ]
    },
    {
     "name": "stderr",
     "output_type": "stream",
     "text": [
      "\r"
     ]
    }
   ],
   "source": [
    "import os\n",
    "import numpy as np\n",
    "import pandas as pd\n",
    "from tqdm import tqdm\n",
    "import time\n",
    "\n",
    "from lib.utils import model_results_from_npz\n",
    "from lib.projection import gram_schmidt, project_confidences\n",
    "from lib.redistribute import redistribute_confidences_of_class\n",
    "\n",
    "# ===== Dataset Config =====\n",
    "CIFAR10_CLASSES = [\n",
    "    \"airplane\",\"automobile\",\"bird\",\"cat\",\"deer\",\n",
    "    \"dog\",\"frog\",\"horse\",\"ship\",\"truck\"\n",
    "]\n",
    "NUM_CLASSES = len(CIFAR10_CLASSES)\n",
    "\n",
    "SEEDS = [42, 602, 311, 637, 800, 543, 969, 122, 336, 93]            # example seeds\n",
    "EPOCHS = 50\n",
    "REMOVED_CLASSES = [0, 1, 2, 3, 4, 5, 6, 7, 8, 9]\n",
    "\n",
    "# ===== Paths =====\n",
    "DIR_ORI = \"../results/cifar10/\"\n",
    "DIR_OUT = \"../results/redis_cifar10/\"\n",
    "TIMER_DIR = \"../analytics/CIFAR10/timer/\"\n",
    "os.makedirs(DIR_OUT, exist_ok=True)\n",
    "\n",
    "# ===== Timer Store =====\n",
    "timer_records = []\n",
    "\n",
    "# ===== Redistribute Loop =====\n",
    "for seed in SEEDS:\n",
    "    file = f\"cifar_resnet_s{seed}_e{EPOCHS}.npz\"\n",
    "    filepath = os.path.join(DIR_ORI, file)\n",
    "    if not os.path.exists(filepath):\n",
    "        print(f\"Skip missing: {filepath}\")\n",
    "        continue\n",
    "\n",
    "    # Load original once per seed\n",
    "    model_ori = model_results_from_npz(filepath=filepath, num_classes=NUM_CLASSES)\n",
    "\n",
    "    # Precompute averages \n",
    "    avg_confidences = np.zeros((NUM_CLASSES, NUM_CLASSES), dtype=np.float32)\n",
    "    for i in range(NUM_CLASSES):\n",
    "        avg_confidences[i] = np.mean(model_ori.confidences[i], axis=0)\n",
    "    avg_confidences_ortho = gram_schmidt(avg_confidences)\n",
    "\n",
    "    for removed_class in tqdm(REMOVED_CLASSES, desc=f\"Seed {seed}\", leave=False):\n",
    "        start_time = time.perf_counter()\n",
    "\n",
    "        proj_confidences = project_confidences(\n",
    "            model_ori.confidences,\n",
    "            avg_confidences_ortho,\n",
    "            removed_class\n",
    "        )\n",
    "\n",
    "        avg_proj_confidences = np.zeros((NUM_CLASSES, NUM_CLASSES), dtype=np.float32)\n",
    "        for i in range(NUM_CLASSES):\n",
    "            avg_proj_confidences[i] = np.mean(proj_confidences[i], axis=0)\n",
    "\n",
    "        # Redistribute per class\n",
    "        redis = {}\n",
    "        for cls in range(NUM_CLASSES):\n",
    "            redis[cls] = redistribute_confidences_of_class(\n",
    "                conf=model_ori.confidences[cls],\n",
    "                proj_conf=proj_confidences[cls],\n",
    "                avg_proj_conf=avg_proj_confidences[cls],\n",
    "                removed_class=removed_class,\n",
    "            )\n",
    "\n",
    "        end_time = time.perf_counter()\n",
    "\n",
    "        # Record timing\n",
    "        duration_sec = end_time - start_time\n",
    "        timer_records.append({\n",
    "            \"seed\": seed,\n",
    "            \"removed_class\": removed_class,\n",
    "            \"removed_name\": CIFAR10_CLASSES[removed_class],\n",
    "            \"duration_sec\": duration_sec\n",
    "        })\n",
    "\n",
    "        # Concatenate back\n",
    "        all_confs = np.vstack([redis[cls] for cls in range(NUM_CLASSES)])\n",
    "        all_targets = np.concatenate([\n",
    "            np.full(redis[cls].shape[0], cls, dtype=int) for cls in range(NUM_CLASSES)\n",
    "        ])\n",
    "        all_preds = np.argmax(all_confs, axis=1)\n",
    "\n",
    "        # Save (always with _rd suffix)\n",
    "        out_path = os.path.join(DIR_OUT, f\"cifar_resnet_s{seed}_e{EPOCHS}_rd{removed_class}.npz\")\n",
    "        np.savez_compressed(out_path, preds=all_preds, targets=all_targets, confs=all_confs)\n",
    "        print(f\"[Saved] {out_path}\")\n",
    "\n",
    "timer_df = pd.DataFrame(timer_records)\n",
    "timer_csv_path = os.path.join(TIMER_DIR, \"redistribution_timer.csv\")\n",
    "timer_df.to_csv(timer_csv_path, index=False)\n",
    "print(f\"\\nAll timers saved to {timer_csv_path}\")\n"
   ]
  }
 ],
 "metadata": {
  "kernelspec": {
   "display_name": "mlvenv",
   "language": "python",
   "name": "python3"
  },
  "language_info": {
   "codemirror_mode": {
    "name": "ipython",
    "version": 3
   },
   "file_extension": ".py",
   "mimetype": "text/x-python",
   "name": "python",
   "nbconvert_exporter": "python",
   "pygments_lexer": "ipython3",
   "version": "3.10.12"
  }
 },
 "nbformat": 4,
 "nbformat_minor": 5
}
