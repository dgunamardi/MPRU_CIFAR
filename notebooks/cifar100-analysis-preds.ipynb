{
 "cells": [
  {
   "cell_type": "code",
   "execution_count": 1,
   "id": "c996485b",
   "metadata": {},
   "outputs": [
    {
     "name": "stdout",
     "output_type": "stream",
     "text": [
      "Best matching seed and removed class:\n",
      "{'seed': 969, 'removed_class': 35, 'match_ratio': np.float64(0.7855)}\n"
     ]
    }
   ],
   "source": [
    "import os\n",
    "import numpy as np\n",
    "from lib.utils import model_results_from_npz\n",
    "\n",
    "CIFAR100_CLASSES = [\n",
    "    'apple', 'aquarium_fish', 'baby', 'bear', 'beaver', \n",
    "    'bed', 'bee', 'beetle', 'bicycle', 'bottle', 'bowl', \n",
    "    'boy', 'bridge', 'bus', 'butterfly', 'camel', 'can', \n",
    "    'castle', 'caterpillar', 'cattle', 'chair', 'chimpanzee', \n",
    "    'clock', 'cloud', 'cockroach', 'couch', 'crab', 'crocodile', \n",
    "    'cup', 'dinosaur', 'dolphin', 'elephant', 'flatfish', 'forest', \n",
    "    'fox', 'girl', 'hamster', 'house', 'kangaroo', 'keyboard', 'lamp', \n",
    "    'lawn_mower', 'leopard', 'lion', 'lizard', 'lobster', 'man', \n",
    "    'maple_tree', 'motorcycle', 'mountain', 'mouse', 'mushroom', \n",
    "    'oak_tree', 'orange', 'orchid', 'otter', 'palm_tree', 'pear', \n",
    "    'pickup_truck', 'pine_tree', 'plain', 'plate', 'poppy', 'porcupine', \n",
    "    'possum', 'rabbit', 'raccoon', 'ray', 'road', 'rocket', 'rose', 'sea', \n",
    "    'seal', 'shark', 'shrew', 'skunk', 'skyscraper', 'snail', 'snake', \n",
    "    'spider', 'squirrel', 'streetcar', 'sunflower', 'sweet_pepper', 'table', \n",
    "    'tank', 'telephone', 'television', 'tiger', 'tractor', 'train', 'trout', \n",
    "    'tulip', 'turtle', 'wardrobe', 'whale', 'willow_tree', 'wolf', 'woman', 'worm'\n",
    "]\n",
    "NUM_CLASSES = len(CIFAR100_CLASSES)\n",
    "SEEDS = [42, 602, 311, 637, 800, 543, 969, 122, 336, 93]\n",
    "EPOCHS = 50\n",
    "REMOVED_CLASSES = [\n",
    "    4, 7, 6, 11, 14, 15, 19, 24, 23, 25, 29, 30, \n",
    "    31, 36, 35, 39, 44, 41, 49, 48, 51, 53, 59, 57, 60, 61, \n",
    "    68, 67, 72, 71, 76, 77, 80, 84, 88, 85, 92, 94, 99, 97] # CIFAR-100\n",
    "\n",
    "\n",
    "DIR_RETRAIN = \"../results/cifar100/\"\n",
    "DIR_REDIS   = \"../results/redis_cifar100/\"\n",
    "\n",
    "best_match = {\"seed\": None, \"removed_class\": None, \"match_ratio\": -1.0}\n",
    "\n",
    "for seed in SEEDS:\n",
    "    for removed_class in REMOVED_CLASSES:\n",
    "        retrain_path = os.path.join(DIR_RETRAIN, f\"cifar100_resnet18_s{seed}_e{EPOCHS}_r{removed_class}.npz\")\n",
    "        redis_path   = os.path.join(DIR_REDIS, f\"cifar_resnet_s{seed}_e{EPOCHS}_rd{removed_class}.npz\")\n",
    "\n",
    "        if not os.path.exists(retrain_path) or not os.path.exists(redis_path):\n",
    "            continue\n",
    "\n",
    "        model_retrain = model_results_from_npz(retrain_path, NUM_CLASSES)\n",
    "        model_redis   = model_results_from_npz(redis_path, NUM_CLASSES)\n",
    "\n",
    "        # Concatenate all class predictions for fair comparison\n",
    "        retrain_preds = np.concatenate([model_retrain.preds[cls] for cls in range(NUM_CLASSES)])\n",
    "        redis_preds   = np.concatenate([model_redis.preds[cls] for cls in range(NUM_CLASSES)])\n",
    "\n",
    "        match_ratio = np.mean(retrain_preds == redis_preds)\n",
    "\n",
    "        if match_ratio > best_match[\"match_ratio\"]:\n",
    "            best_match.update({\"seed\": seed, \"removed_class\": removed_class, \"match_ratio\": match_ratio})\n",
    "\n",
    "print(\"Best matching seed and removed class:\")\n",
    "print(best_match)\n"
   ]
  }
 ],
 "metadata": {
  "kernelspec": {
   "display_name": "mlvenv",
   "language": "python",
   "name": "python3"
  },
  "language_info": {
   "codemirror_mode": {
    "name": "ipython",
    "version": 3
   },
   "file_extension": ".py",
   "mimetype": "text/x-python",
   "name": "python",
   "nbconvert_exporter": "python",
   "pygments_lexer": "ipython3",
   "version": "3.10.12"
  }
 },
 "nbformat": 4,
 "nbformat_minor": 5
}
