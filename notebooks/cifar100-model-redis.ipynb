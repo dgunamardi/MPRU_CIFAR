{
 "cells": [
  {
   "cell_type": "code",
   "execution_count": 1,
   "id": "bbd260ad",
   "metadata": {},
   "outputs": [
    {
     "name": "stderr",
     "output_type": "stream",
     "text": [
      "Seed 42:   5%|▌         | 2/40 [00:00<00:07,  5.00it/s]"
     ]
    },
    {
     "name": "stdout",
     "output_type": "stream",
     "text": [
      "[Saved] ../results/redis_cifar100/cifar_resnet_s42_e50_rd4.npz\n",
      "[Saved] ../results/redis_cifar100/cifar_resnet_s42_e50_rd7.npz\n"
     ]
    },
    {
     "name": "stderr",
     "output_type": "stream",
     "text": [
      "Seed 42:  10%|█         | 4/40 [00:00<00:06,  5.46it/s]"
     ]
    },
    {
     "name": "stdout",
     "output_type": "stream",
     "text": [
      "[Saved] ../results/redis_cifar100/cifar_resnet_s42_e50_rd6.npz\n",
      "[Saved] ../results/redis_cifar100/cifar_resnet_s42_e50_rd11.npz\n"
     ]
    },
    {
     "name": "stderr",
     "output_type": "stream",
     "text": [
      "Seed 42:  15%|█▌        | 6/40 [00:01<00:05,  6.17it/s]"
     ]
    },
    {
     "name": "stdout",
     "output_type": "stream",
     "text": [
      "[Saved] ../results/redis_cifar100/cifar_resnet_s42_e50_rd14.npz\n",
      "[Saved] ../results/redis_cifar100/cifar_resnet_s42_e50_rd15.npz\n"
     ]
    },
    {
     "name": "stderr",
     "output_type": "stream",
     "text": [
      "Seed 42:  20%|██        | 8/40 [00:01<00:05,  5.95it/s]"
     ]
    },
    {
     "name": "stdout",
     "output_type": "stream",
     "text": [
      "[Saved] ../results/redis_cifar100/cifar_resnet_s42_e50_rd19.npz\n",
      "[Saved] ../results/redis_cifar100/cifar_resnet_s42_e50_rd24.npz\n"
     ]
    },
    {
     "name": "stderr",
     "output_type": "stream",
     "text": [
      "Seed 42:  25%|██▌       | 10/40 [00:01<00:04,  6.00it/s]"
     ]
    },
    {
     "name": "stdout",
     "output_type": "stream",
     "text": [
      "[Saved] ../results/redis_cifar100/cifar_resnet_s42_e50_rd23.npz\n",
      "[Saved] ../results/redis_cifar100/cifar_resnet_s42_e50_rd25.npz\n"
     ]
    },
    {
     "name": "stderr",
     "output_type": "stream",
     "text": [
      "Seed 42:  30%|███       | 12/40 [00:02<00:04,  5.98it/s]"
     ]
    },
    {
     "name": "stdout",
     "output_type": "stream",
     "text": [
      "[Saved] ../results/redis_cifar100/cifar_resnet_s42_e50_rd29.npz\n",
      "[Saved] ../results/redis_cifar100/cifar_resnet_s42_e50_rd30.npz\n"
     ]
    },
    {
     "name": "stderr",
     "output_type": "stream",
     "text": [
      "Seed 42:  35%|███▌      | 14/40 [00:02<00:04,  6.31it/s]"
     ]
    },
    {
     "name": "stdout",
     "output_type": "stream",
     "text": [
      "[Saved] ../results/redis_cifar100/cifar_resnet_s42_e50_rd31.npz\n",
      "[Saved] ../results/redis_cifar100/cifar_resnet_s42_e50_rd36.npz\n"
     ]
    },
    {
     "name": "stderr",
     "output_type": "stream",
     "text": [
      "Seed 42:  40%|████      | 16/40 [00:02<00:03,  6.17it/s]"
     ]
    },
    {
     "name": "stdout",
     "output_type": "stream",
     "text": [
      "[Saved] ../results/redis_cifar100/cifar_resnet_s42_e50_rd35.npz\n",
      "[Saved] ../results/redis_cifar100/cifar_resnet_s42_e50_rd39.npz\n"
     ]
    },
    {
     "name": "stderr",
     "output_type": "stream",
     "text": [
      "Seed 42:  45%|████▌     | 18/40 [00:02<00:03,  6.50it/s]"
     ]
    },
    {
     "name": "stdout",
     "output_type": "stream",
     "text": [
      "[Saved] ../results/redis_cifar100/cifar_resnet_s42_e50_rd44.npz\n",
      "[Saved] ../results/redis_cifar100/cifar_resnet_s42_e50_rd41.npz\n"
     ]
    },
    {
     "name": "stderr",
     "output_type": "stream",
     "text": [
      "Seed 42:  50%|█████     | 20/40 [00:03<00:03,  6.54it/s]"
     ]
    },
    {
     "name": "stdout",
     "output_type": "stream",
     "text": [
      "[Saved] ../results/redis_cifar100/cifar_resnet_s42_e50_rd49.npz\n",
      "[Saved] ../results/redis_cifar100/cifar_resnet_s42_e50_rd48.npz\n"
     ]
    },
    {
     "name": "stderr",
     "output_type": "stream",
     "text": [
      "Seed 42:  55%|█████▌    | 22/40 [00:03<00:02,  6.26it/s]"
     ]
    },
    {
     "name": "stdout",
     "output_type": "stream",
     "text": [
      "[Saved] ../results/redis_cifar100/cifar_resnet_s42_e50_rd51.npz\n",
      "[Saved] ../results/redis_cifar100/cifar_resnet_s42_e50_rd53.npz\n"
     ]
    },
    {
     "name": "stderr",
     "output_type": "stream",
     "text": [
      "Seed 42:  60%|██████    | 24/40 [00:03<00:02,  6.34it/s]"
     ]
    },
    {
     "name": "stdout",
     "output_type": "stream",
     "text": [
      "[Saved] ../results/redis_cifar100/cifar_resnet_s42_e50_rd59.npz\n",
      "[Saved] ../results/redis_cifar100/cifar_resnet_s42_e50_rd57.npz\n"
     ]
    },
    {
     "name": "stderr",
     "output_type": "stream",
     "text": [
      "Seed 42:  65%|██████▌   | 26/40 [00:04<00:02,  6.44it/s]"
     ]
    },
    {
     "name": "stdout",
     "output_type": "stream",
     "text": [
      "[Saved] ../results/redis_cifar100/cifar_resnet_s42_e50_rd60.npz\n",
      "[Saved] ../results/redis_cifar100/cifar_resnet_s42_e50_rd61.npz\n"
     ]
    },
    {
     "name": "stderr",
     "output_type": "stream",
     "text": [
      "Seed 42:  70%|███████   | 28/40 [00:04<00:01,  6.40it/s]"
     ]
    },
    {
     "name": "stdout",
     "output_type": "stream",
     "text": [
      "[Saved] ../results/redis_cifar100/cifar_resnet_s42_e50_rd68.npz\n",
      "[Saved] ../results/redis_cifar100/cifar_resnet_s42_e50_rd67.npz\n"
     ]
    },
    {
     "name": "stderr",
     "output_type": "stream",
     "text": [
      "Seed 42:  75%|███████▌  | 30/40 [00:04<00:01,  6.52it/s]"
     ]
    },
    {
     "name": "stdout",
     "output_type": "stream",
     "text": [
      "[Saved] ../results/redis_cifar100/cifar_resnet_s42_e50_rd72.npz\n",
      "[Saved] ../results/redis_cifar100/cifar_resnet_s42_e50_rd71.npz\n"
     ]
    },
    {
     "name": "stderr",
     "output_type": "stream",
     "text": [
      "Seed 42:  80%|████████  | 32/40 [00:05<00:01,  6.30it/s]"
     ]
    },
    {
     "name": "stdout",
     "output_type": "stream",
     "text": [
      "[Saved] ../results/redis_cifar100/cifar_resnet_s42_e50_rd76.npz\n",
      "[Saved] ../results/redis_cifar100/cifar_resnet_s42_e50_rd77.npz\n"
     ]
    },
    {
     "name": "stderr",
     "output_type": "stream",
     "text": [
      "Seed 42:  85%|████████▌ | 34/40 [00:05<00:01,  5.84it/s]"
     ]
    },
    {
     "name": "stdout",
     "output_type": "stream",
     "text": [
      "[Saved] ../results/redis_cifar100/cifar_resnet_s42_e50_rd80.npz\n",
      "[Saved] ../results/redis_cifar100/cifar_resnet_s42_e50_rd84.npz\n"
     ]
    },
    {
     "name": "stderr",
     "output_type": "stream",
     "text": [
      "Seed 42:  90%|█████████ | 36/40 [00:05<00:00,  5.84it/s]"
     ]
    },
    {
     "name": "stdout",
     "output_type": "stream",
     "text": [
      "[Saved] ../results/redis_cifar100/cifar_resnet_s42_e50_rd88.npz\n",
      "[Saved] ../results/redis_cifar100/cifar_resnet_s42_e50_rd85.npz\n"
     ]
    },
    {
     "name": "stderr",
     "output_type": "stream",
     "text": [
      "Seed 42:  95%|█████████▌| 38/40 [00:06<00:00,  5.68it/s]"
     ]
    },
    {
     "name": "stdout",
     "output_type": "stream",
     "text": [
      "[Saved] ../results/redis_cifar100/cifar_resnet_s42_e50_rd92.npz\n",
      "[Saved] ../results/redis_cifar100/cifar_resnet_s42_e50_rd94.npz\n"
     ]
    },
    {
     "name": "stderr",
     "output_type": "stream",
     "text": [
      "                                                        "
     ]
    },
    {
     "name": "stdout",
     "output_type": "stream",
     "text": [
      "[Saved] ../results/redis_cifar100/cifar_resnet_s42_e50_rd99.npz\n",
      "[Saved] ../results/redis_cifar100/cifar_resnet_s42_e50_rd97.npz\n"
     ]
    },
    {
     "name": "stderr",
     "output_type": "stream",
     "text": [
      "Seed 602:   5%|▌         | 2/40 [00:00<00:06,  6.13it/s]"
     ]
    },
    {
     "name": "stdout",
     "output_type": "stream",
     "text": [
      "[Saved] ../results/redis_cifar100/cifar_resnet_s602_e50_rd4.npz\n",
      "[Saved] ../results/redis_cifar100/cifar_resnet_s602_e50_rd7.npz\n"
     ]
    },
    {
     "name": "stderr",
     "output_type": "stream",
     "text": [
      "Seed 602:  10%|█         | 4/40 [00:00<00:05,  6.55it/s]"
     ]
    },
    {
     "name": "stdout",
     "output_type": "stream",
     "text": [
      "[Saved] ../results/redis_cifar100/cifar_resnet_s602_e50_rd6.npz\n",
      "[Saved] ../results/redis_cifar100/cifar_resnet_s602_e50_rd11.npz\n"
     ]
    },
    {
     "name": "stderr",
     "output_type": "stream",
     "text": [
      "Seed 602:  15%|█▌        | 6/40 [00:00<00:05,  6.10it/s]"
     ]
    },
    {
     "name": "stdout",
     "output_type": "stream",
     "text": [
      "[Saved] ../results/redis_cifar100/cifar_resnet_s602_e50_rd14.npz\n",
      "[Saved] ../results/redis_cifar100/cifar_resnet_s602_e50_rd15.npz\n"
     ]
    },
    {
     "name": "stderr",
     "output_type": "stream",
     "text": [
      "Seed 602:  20%|██        | 8/40 [00:01<00:05,  5.84it/s]"
     ]
    },
    {
     "name": "stdout",
     "output_type": "stream",
     "text": [
      "[Saved] ../results/redis_cifar100/cifar_resnet_s602_e50_rd19.npz\n",
      "[Saved] ../results/redis_cifar100/cifar_resnet_s602_e50_rd24.npz\n"
     ]
    },
    {
     "name": "stderr",
     "output_type": "stream",
     "text": [
      "Seed 602:  25%|██▌       | 10/40 [00:01<00:04,  6.25it/s]"
     ]
    },
    {
     "name": "stdout",
     "output_type": "stream",
     "text": [
      "[Saved] ../results/redis_cifar100/cifar_resnet_s602_e50_rd23.npz\n",
      "[Saved] ../results/redis_cifar100/cifar_resnet_s602_e50_rd25.npz\n"
     ]
    },
    {
     "name": "stderr",
     "output_type": "stream",
     "text": [
      "Seed 602:  30%|███       | 12/40 [00:01<00:04,  6.42it/s]"
     ]
    },
    {
     "name": "stdout",
     "output_type": "stream",
     "text": [
      "[Saved] ../results/redis_cifar100/cifar_resnet_s602_e50_rd29.npz\n",
      "[Saved] ../results/redis_cifar100/cifar_resnet_s602_e50_rd30.npz\n"
     ]
    },
    {
     "name": "stderr",
     "output_type": "stream",
     "text": [
      "Seed 602:  35%|███▌      | 14/40 [00:02<00:04,  6.42it/s]"
     ]
    },
    {
     "name": "stdout",
     "output_type": "stream",
     "text": [
      "[Saved] ../results/redis_cifar100/cifar_resnet_s602_e50_rd31.npz\n",
      "[Saved] ../results/redis_cifar100/cifar_resnet_s602_e50_rd36.npz\n"
     ]
    },
    {
     "name": "stderr",
     "output_type": "stream",
     "text": [
      "Seed 602:  40%|████      | 16/40 [00:02<00:03,  6.47it/s]"
     ]
    },
    {
     "name": "stdout",
     "output_type": "stream",
     "text": [
      "[Saved] ../results/redis_cifar100/cifar_resnet_s602_e50_rd35.npz\n",
      "[Saved] ../results/redis_cifar100/cifar_resnet_s602_e50_rd39.npz\n"
     ]
    },
    {
     "name": "stderr",
     "output_type": "stream",
     "text": [
      "Seed 602:  45%|████▌     | 18/40 [00:02<00:03,  6.52it/s]"
     ]
    },
    {
     "name": "stdout",
     "output_type": "stream",
     "text": [
      "[Saved] ../results/redis_cifar100/cifar_resnet_s602_e50_rd44.npz\n",
      "[Saved] ../results/redis_cifar100/cifar_resnet_s602_e50_rd41.npz\n"
     ]
    },
    {
     "name": "stderr",
     "output_type": "stream",
     "text": [
      "Seed 602:  50%|█████     | 20/40 [00:03<00:03,  6.50it/s]"
     ]
    },
    {
     "name": "stdout",
     "output_type": "stream",
     "text": [
      "[Saved] ../results/redis_cifar100/cifar_resnet_s602_e50_rd49.npz\n",
      "[Saved] ../results/redis_cifar100/cifar_resnet_s602_e50_rd48.npz\n"
     ]
    },
    {
     "name": "stderr",
     "output_type": "stream",
     "text": [
      "Seed 602:  55%|█████▌    | 22/40 [00:03<00:02,  6.66it/s]"
     ]
    },
    {
     "name": "stdout",
     "output_type": "stream",
     "text": [
      "[Saved] ../results/redis_cifar100/cifar_resnet_s602_e50_rd51.npz\n",
      "[Saved] ../results/redis_cifar100/cifar_resnet_s602_e50_rd53.npz\n"
     ]
    },
    {
     "name": "stderr",
     "output_type": "stream",
     "text": [
      "Seed 602:  60%|██████    | 24/40 [00:03<00:02,  6.67it/s]"
     ]
    },
    {
     "name": "stdout",
     "output_type": "stream",
     "text": [
      "[Saved] ../results/redis_cifar100/cifar_resnet_s602_e50_rd59.npz\n",
      "[Saved] ../results/redis_cifar100/cifar_resnet_s602_e50_rd57.npz\n"
     ]
    },
    {
     "name": "stderr",
     "output_type": "stream",
     "text": [
      "Seed 602:  65%|██████▌   | 26/40 [00:04<00:02,  6.72it/s]"
     ]
    },
    {
     "name": "stdout",
     "output_type": "stream",
     "text": [
      "[Saved] ../results/redis_cifar100/cifar_resnet_s602_e50_rd60.npz\n",
      "[Saved] ../results/redis_cifar100/cifar_resnet_s602_e50_rd61.npz\n"
     ]
    },
    {
     "name": "stderr",
     "output_type": "stream",
     "text": [
      "Seed 602:  70%|███████   | 28/40 [00:04<00:01,  6.72it/s]"
     ]
    },
    {
     "name": "stdout",
     "output_type": "stream",
     "text": [
      "[Saved] ../results/redis_cifar100/cifar_resnet_s602_e50_rd68.npz\n",
      "[Saved] ../results/redis_cifar100/cifar_resnet_s602_e50_rd67.npz\n",
      "[Saved] ../results/redis_cifar100/cifar_resnet_s602_e50_rd72.npz\n",
      "[Saved] ../results/redis_cifar100/cifar_resnet_s602_e50_rd71.npz\n",
      "[Saved] ../results/redis_cifar100/cifar_resnet_s602_e50_rd76.npz\n",
      "[Saved] ../results/redis_cifar100/cifar_resnet_s602_e50_rd77.npz\n",
      "[Saved] ../results/redis_cifar100/cifar_resnet_s602_e50_rd80.npz\n",
      "[Saved] ../results/redis_cifar100/cifar_resnet_s602_e50_rd84.npz\n",
      "[Saved] ../results/redis_cifar100/cifar_resnet_s602_e50_rd88.npz\n",
      "[Saved] ../results/redis_cifar100/cifar_resnet_s602_e50_rd85.npz\n",
      "[Saved] ../results/redis_cifar100/cifar_resnet_s602_e50_rd92.npz\n",
      "[Saved] ../results/redis_cifar100/cifar_resnet_s602_e50_rd94.npz\n"
     ]
    },
    {
     "name": "stderr",
     "output_type": "stream",
     "text": [
      "                                                         \r"
     ]
    },
    {
     "name": "stdout",
     "output_type": "stream",
     "text": [
      "[Saved] ../results/redis_cifar100/cifar_resnet_s602_e50_rd99.npz\n",
      "[Saved] ../results/redis_cifar100/cifar_resnet_s602_e50_rd97.npz\n"
     ]
    },
    {
     "name": "stderr",
     "output_type": "stream",
     "text": [
      "Seed 311:   5%|▌         | 2/40 [00:00<00:06,  6.07it/s]"
     ]
    },
    {
     "name": "stdout",
     "output_type": "stream",
     "text": [
      "[Saved] ../results/redis_cifar100/cifar_resnet_s311_e50_rd4.npz\n",
      "[Saved] ../results/redis_cifar100/cifar_resnet_s311_e50_rd7.npz\n"
     ]
    },
    {
     "name": "stderr",
     "output_type": "stream",
     "text": [
      "Seed 311:  10%|█         | 4/40 [00:00<00:05,  6.12it/s]"
     ]
    },
    {
     "name": "stdout",
     "output_type": "stream",
     "text": [
      "[Saved] ../results/redis_cifar100/cifar_resnet_s311_e50_rd6.npz\n",
      "[Saved] ../results/redis_cifar100/cifar_resnet_s311_e50_rd11.npz\n"
     ]
    },
    {
     "name": "stderr",
     "output_type": "stream",
     "text": [
      "Seed 311:  15%|█▌        | 6/40 [00:00<00:05,  5.98it/s]"
     ]
    },
    {
     "name": "stdout",
     "output_type": "stream",
     "text": [
      "[Saved] ../results/redis_cifar100/cifar_resnet_s311_e50_rd14.npz\n",
      "[Saved] ../results/redis_cifar100/cifar_resnet_s311_e50_rd15.npz\n"
     ]
    },
    {
     "name": "stderr",
     "output_type": "stream",
     "text": [
      "Seed 311:  20%|██        | 8/40 [00:01<00:05,  6.34it/s]"
     ]
    },
    {
     "name": "stdout",
     "output_type": "stream",
     "text": [
      "[Saved] ../results/redis_cifar100/cifar_resnet_s311_e50_rd19.npz\n",
      "[Saved] ../results/redis_cifar100/cifar_resnet_s311_e50_rd24.npz\n"
     ]
    },
    {
     "name": "stderr",
     "output_type": "stream",
     "text": [
      "Seed 311:  25%|██▌       | 10/40 [00:01<00:04,  6.54it/s]"
     ]
    },
    {
     "name": "stdout",
     "output_type": "stream",
     "text": [
      "[Saved] ../results/redis_cifar100/cifar_resnet_s311_e50_rd23.npz\n",
      "[Saved] ../results/redis_cifar100/cifar_resnet_s311_e50_rd25.npz\n"
     ]
    },
    {
     "name": "stderr",
     "output_type": "stream",
     "text": [
      "Seed 311:  30%|███       | 12/40 [00:01<00:04,  6.07it/s]"
     ]
    },
    {
     "name": "stdout",
     "output_type": "stream",
     "text": [
      "[Saved] ../results/redis_cifar100/cifar_resnet_s311_e50_rd29.npz\n",
      "[Saved] ../results/redis_cifar100/cifar_resnet_s311_e50_rd30.npz\n"
     ]
    },
    {
     "name": "stderr",
     "output_type": "stream",
     "text": [
      "Seed 311:  35%|███▌      | 14/40 [00:02<00:04,  6.42it/s]"
     ]
    },
    {
     "name": "stdout",
     "output_type": "stream",
     "text": [
      "[Saved] ../results/redis_cifar100/cifar_resnet_s311_e50_rd31.npz\n",
      "[Saved] ../results/redis_cifar100/cifar_resnet_s311_e50_rd36.npz\n"
     ]
    },
    {
     "name": "stderr",
     "output_type": "stream",
     "text": [
      "Seed 311:  40%|████      | 16/40 [00:02<00:03,  6.62it/s]"
     ]
    },
    {
     "name": "stdout",
     "output_type": "stream",
     "text": [
      "[Saved] ../results/redis_cifar100/cifar_resnet_s311_e50_rd35.npz\n",
      "[Saved] ../results/redis_cifar100/cifar_resnet_s311_e50_rd39.npz\n"
     ]
    },
    {
     "name": "stderr",
     "output_type": "stream",
     "text": [
      "Seed 311:  45%|████▌     | 18/40 [00:02<00:03,  6.50it/s]"
     ]
    },
    {
     "name": "stdout",
     "output_type": "stream",
     "text": [
      "[Saved] ../results/redis_cifar100/cifar_resnet_s311_e50_rd44.npz\n",
      "[Saved] ../results/redis_cifar100/cifar_resnet_s311_e50_rd41.npz\n"
     ]
    },
    {
     "name": "stderr",
     "output_type": "stream",
     "text": [
      "Seed 311:  50%|█████     | 20/40 [00:03<00:03,  6.17it/s]"
     ]
    },
    {
     "name": "stdout",
     "output_type": "stream",
     "text": [
      "[Saved] ../results/redis_cifar100/cifar_resnet_s311_e50_rd49.npz\n",
      "[Saved] ../results/redis_cifar100/cifar_resnet_s311_e50_rd48.npz\n"
     ]
    },
    {
     "name": "stderr",
     "output_type": "stream",
     "text": [
      "Seed 311:  55%|█████▌    | 22/40 [00:03<00:02,  6.34it/s]"
     ]
    },
    {
     "name": "stdout",
     "output_type": "stream",
     "text": [
      "[Saved] ../results/redis_cifar100/cifar_resnet_s311_e50_rd51.npz\n",
      "[Saved] ../results/redis_cifar100/cifar_resnet_s311_e50_rd53.npz\n"
     ]
    },
    {
     "name": "stderr",
     "output_type": "stream",
     "text": [
      "Seed 311:  60%|██████    | 24/40 [00:03<00:02,  6.57it/s]"
     ]
    },
    {
     "name": "stdout",
     "output_type": "stream",
     "text": [
      "[Saved] ../results/redis_cifar100/cifar_resnet_s311_e50_rd59.npz\n",
      "[Saved] ../results/redis_cifar100/cifar_resnet_s311_e50_rd57.npz\n"
     ]
    },
    {
     "name": "stderr",
     "output_type": "stream",
     "text": [
      "Seed 311:  65%|██████▌   | 26/40 [00:04<00:02,  6.58it/s]"
     ]
    },
    {
     "name": "stdout",
     "output_type": "stream",
     "text": [
      "[Saved] ../results/redis_cifar100/cifar_resnet_s311_e50_rd60.npz\n",
      "[Saved] ../results/redis_cifar100/cifar_resnet_s311_e50_rd61.npz\n"
     ]
    },
    {
     "name": "stderr",
     "output_type": "stream",
     "text": [
      "Seed 311:  70%|███████   | 28/40 [00:04<00:01,  6.07it/s]"
     ]
    },
    {
     "name": "stdout",
     "output_type": "stream",
     "text": [
      "[Saved] ../results/redis_cifar100/cifar_resnet_s311_e50_rd68.npz\n",
      "[Saved] ../results/redis_cifar100/cifar_resnet_s311_e50_rd67.npz\n"
     ]
    },
    {
     "name": "stderr",
     "output_type": "stream",
     "text": [
      "Seed 311:  75%|███████▌  | 30/40 [00:04<00:01,  6.04it/s]"
     ]
    },
    {
     "name": "stdout",
     "output_type": "stream",
     "text": [
      "[Saved] ../results/redis_cifar100/cifar_resnet_s311_e50_rd72.npz\n",
      "[Saved] ../results/redis_cifar100/cifar_resnet_s311_e50_rd71.npz\n"
     ]
    },
    {
     "name": "stderr",
     "output_type": "stream",
     "text": [
      "Seed 311:  80%|████████  | 32/40 [00:05<00:01,  6.35it/s]"
     ]
    },
    {
     "name": "stdout",
     "output_type": "stream",
     "text": [
      "[Saved] ../results/redis_cifar100/cifar_resnet_s311_e50_rd76.npz\n",
      "[Saved] ../results/redis_cifar100/cifar_resnet_s311_e50_rd77.npz\n"
     ]
    },
    {
     "name": "stderr",
     "output_type": "stream",
     "text": [
      "Seed 311:  85%|████████▌ | 34/40 [00:05<00:00,  6.52it/s]"
     ]
    },
    {
     "name": "stdout",
     "output_type": "stream",
     "text": [
      "[Saved] ../results/redis_cifar100/cifar_resnet_s311_e50_rd80.npz\n",
      "[Saved] ../results/redis_cifar100/cifar_resnet_s311_e50_rd84.npz\n"
     ]
    },
    {
     "name": "stderr",
     "output_type": "stream",
     "text": [
      "Seed 311:  90%|█████████ | 36/40 [00:05<00:00,  6.60it/s]"
     ]
    },
    {
     "name": "stdout",
     "output_type": "stream",
     "text": [
      "[Saved] ../results/redis_cifar100/cifar_resnet_s311_e50_rd88.npz\n",
      "[Saved] ../results/redis_cifar100/cifar_resnet_s311_e50_rd85.npz\n"
     ]
    },
    {
     "name": "stderr",
     "output_type": "stream",
     "text": [
      "Seed 311:  95%|█████████▌| 38/40 [00:06<00:00,  6.40it/s]"
     ]
    },
    {
     "name": "stdout",
     "output_type": "stream",
     "text": [
      "[Saved] ../results/redis_cifar100/cifar_resnet_s311_e50_rd92.npz\n",
      "[Saved] ../results/redis_cifar100/cifar_resnet_s311_e50_rd94.npz\n"
     ]
    },
    {
     "name": "stderr",
     "output_type": "stream",
     "text": [
      "                                                         \r"
     ]
    },
    {
     "name": "stdout",
     "output_type": "stream",
     "text": [
      "[Saved] ../results/redis_cifar100/cifar_resnet_s311_e50_rd99.npz\n",
      "[Saved] ../results/redis_cifar100/cifar_resnet_s311_e50_rd97.npz\n"
     ]
    },
    {
     "name": "stderr",
     "output_type": "stream",
     "text": [
      "Seed 637:   5%|▌         | 2/40 [00:00<00:06,  5.43it/s]"
     ]
    },
    {
     "name": "stdout",
     "output_type": "stream",
     "text": [
      "[Saved] ../results/redis_cifar100/cifar_resnet_s637_e50_rd4.npz\n",
      "[Saved] ../results/redis_cifar100/cifar_resnet_s637_e50_rd7.npz\n"
     ]
    },
    {
     "name": "stderr",
     "output_type": "stream",
     "text": [
      "Seed 637:  10%|█         | 4/40 [00:00<00:06,  5.80it/s]"
     ]
    },
    {
     "name": "stdout",
     "output_type": "stream",
     "text": [
      "[Saved] ../results/redis_cifar100/cifar_resnet_s637_e50_rd6.npz\n",
      "[Saved] ../results/redis_cifar100/cifar_resnet_s637_e50_rd11.npz\n"
     ]
    },
    {
     "name": "stderr",
     "output_type": "stream",
     "text": [
      "Seed 637:  15%|█▌        | 6/40 [00:01<00:05,  5.90it/s]"
     ]
    },
    {
     "name": "stdout",
     "output_type": "stream",
     "text": [
      "[Saved] ../results/redis_cifar100/cifar_resnet_s637_e50_rd14.npz\n",
      "[Saved] ../results/redis_cifar100/cifar_resnet_s637_e50_rd15.npz\n"
     ]
    },
    {
     "name": "stderr",
     "output_type": "stream",
     "text": [
      "Seed 637:  20%|██        | 8/40 [00:01<00:05,  5.50it/s]"
     ]
    },
    {
     "name": "stdout",
     "output_type": "stream",
     "text": [
      "[Saved] ../results/redis_cifar100/cifar_resnet_s637_e50_rd19.npz\n",
      "[Saved] ../results/redis_cifar100/cifar_resnet_s637_e50_rd24.npz\n"
     ]
    },
    {
     "name": "stderr",
     "output_type": "stream",
     "text": [
      "Seed 637:  25%|██▌       | 10/40 [00:01<00:05,  5.79it/s]"
     ]
    },
    {
     "name": "stdout",
     "output_type": "stream",
     "text": [
      "[Saved] ../results/redis_cifar100/cifar_resnet_s637_e50_rd23.npz\n",
      "[Saved] ../results/redis_cifar100/cifar_resnet_s637_e50_rd25.npz\n"
     ]
    },
    {
     "name": "stderr",
     "output_type": "stream",
     "text": [
      "Seed 637:  30%|███       | 12/40 [00:02<00:04,  6.13it/s]"
     ]
    },
    {
     "name": "stdout",
     "output_type": "stream",
     "text": [
      "[Saved] ../results/redis_cifar100/cifar_resnet_s637_e50_rd29.npz\n",
      "[Saved] ../results/redis_cifar100/cifar_resnet_s637_e50_rd30.npz\n"
     ]
    },
    {
     "name": "stderr",
     "output_type": "stream",
     "text": [
      "Seed 637:  35%|███▌      | 14/40 [00:02<00:04,  6.08it/s]"
     ]
    },
    {
     "name": "stdout",
     "output_type": "stream",
     "text": [
      "[Saved] ../results/redis_cifar100/cifar_resnet_s637_e50_rd31.npz\n",
      "[Saved] ../results/redis_cifar100/cifar_resnet_s637_e50_rd36.npz\n"
     ]
    },
    {
     "name": "stderr",
     "output_type": "stream",
     "text": [
      "Seed 637:  40%|████      | 16/40 [00:02<00:03,  6.33it/s]"
     ]
    },
    {
     "name": "stdout",
     "output_type": "stream",
     "text": [
      "[Saved] ../results/redis_cifar100/cifar_resnet_s637_e50_rd35.npz\n",
      "[Saved] ../results/redis_cifar100/cifar_resnet_s637_e50_rd39.npz\n"
     ]
    },
    {
     "name": "stderr",
     "output_type": "stream",
     "text": [
      "Seed 637:  45%|████▌     | 18/40 [00:02<00:03,  6.47it/s]"
     ]
    },
    {
     "name": "stdout",
     "output_type": "stream",
     "text": [
      "[Saved] ../results/redis_cifar100/cifar_resnet_s637_e50_rd44.npz\n",
      "[Saved] ../results/redis_cifar100/cifar_resnet_s637_e50_rd41.npz\n"
     ]
    },
    {
     "name": "stderr",
     "output_type": "stream",
     "text": [
      "Seed 637:  50%|█████     | 20/40 [00:03<00:02,  6.71it/s]"
     ]
    },
    {
     "name": "stdout",
     "output_type": "stream",
     "text": [
      "[Saved] ../results/redis_cifar100/cifar_resnet_s637_e50_rd49.npz\n",
      "[Saved] ../results/redis_cifar100/cifar_resnet_s637_e50_rd48.npz\n"
     ]
    },
    {
     "name": "stderr",
     "output_type": "stream",
     "text": [
      "Seed 637:  55%|█████▌    | 22/40 [00:03<00:02,  6.77it/s]"
     ]
    },
    {
     "name": "stdout",
     "output_type": "stream",
     "text": [
      "[Saved] ../results/redis_cifar100/cifar_resnet_s637_e50_rd51.npz\n",
      "[Saved] ../results/redis_cifar100/cifar_resnet_s637_e50_rd53.npz\n"
     ]
    },
    {
     "name": "stderr",
     "output_type": "stream",
     "text": [
      "Seed 637:  60%|██████    | 24/40 [00:03<00:02,  6.44it/s]"
     ]
    },
    {
     "name": "stdout",
     "output_type": "stream",
     "text": [
      "[Saved] ../results/redis_cifar100/cifar_resnet_s637_e50_rd59.npz\n",
      "[Saved] ../results/redis_cifar100/cifar_resnet_s637_e50_rd57.npz\n"
     ]
    },
    {
     "name": "stderr",
     "output_type": "stream",
     "text": [
      "Seed 637:  65%|██████▌   | 26/40 [00:04<00:02,  6.36it/s]"
     ]
    },
    {
     "name": "stdout",
     "output_type": "stream",
     "text": [
      "[Saved] ../results/redis_cifar100/cifar_resnet_s637_e50_rd60.npz\n",
      "[Saved] ../results/redis_cifar100/cifar_resnet_s637_e50_rd61.npz\n"
     ]
    },
    {
     "name": "stderr",
     "output_type": "stream",
     "text": [
      "Seed 637:  70%|███████   | 28/40 [00:04<00:01,  6.11it/s]"
     ]
    },
    {
     "name": "stdout",
     "output_type": "stream",
     "text": [
      "[Saved] ../results/redis_cifar100/cifar_resnet_s637_e50_rd68.npz\n",
      "[Saved] ../results/redis_cifar100/cifar_resnet_s637_e50_rd67.npz\n"
     ]
    },
    {
     "name": "stderr",
     "output_type": "stream",
     "text": [
      "Seed 637:  75%|███████▌  | 30/40 [00:04<00:01,  6.13it/s]"
     ]
    },
    {
     "name": "stdout",
     "output_type": "stream",
     "text": [
      "[Saved] ../results/redis_cifar100/cifar_resnet_s637_e50_rd72.npz\n",
      "[Saved] ../results/redis_cifar100/cifar_resnet_s637_e50_rd71.npz\n"
     ]
    },
    {
     "name": "stderr",
     "output_type": "stream",
     "text": [
      "Seed 637:  80%|████████  | 32/40 [00:05<00:01,  6.29it/s]"
     ]
    },
    {
     "name": "stdout",
     "output_type": "stream",
     "text": [
      "[Saved] ../results/redis_cifar100/cifar_resnet_s637_e50_rd76.npz\n",
      "[Saved] ../results/redis_cifar100/cifar_resnet_s637_e50_rd77.npz\n"
     ]
    },
    {
     "name": "stderr",
     "output_type": "stream",
     "text": [
      "Seed 637:  85%|████████▌ | 34/40 [00:05<00:00,  6.12it/s]"
     ]
    },
    {
     "name": "stdout",
     "output_type": "stream",
     "text": [
      "[Saved] ../results/redis_cifar100/cifar_resnet_s637_e50_rd80.npz\n",
      "[Saved] ../results/redis_cifar100/cifar_resnet_s637_e50_rd84.npz\n"
     ]
    },
    {
     "name": "stderr",
     "output_type": "stream",
     "text": [
      "Seed 637:  90%|█████████ | 36/40 [00:05<00:00,  6.47it/s]"
     ]
    },
    {
     "name": "stdout",
     "output_type": "stream",
     "text": [
      "[Saved] ../results/redis_cifar100/cifar_resnet_s637_e50_rd88.npz\n",
      "[Saved] ../results/redis_cifar100/cifar_resnet_s637_e50_rd85.npz\n"
     ]
    },
    {
     "name": "stderr",
     "output_type": "stream",
     "text": [
      "Seed 637:  95%|█████████▌| 38/40 [00:06<00:00,  6.47it/s]"
     ]
    },
    {
     "name": "stdout",
     "output_type": "stream",
     "text": [
      "[Saved] ../results/redis_cifar100/cifar_resnet_s637_e50_rd92.npz\n",
      "[Saved] ../results/redis_cifar100/cifar_resnet_s637_e50_rd94.npz\n"
     ]
    },
    {
     "name": "stderr",
     "output_type": "stream",
     "text": [
      "                                                         "
     ]
    },
    {
     "name": "stdout",
     "output_type": "stream",
     "text": [
      "[Saved] ../results/redis_cifar100/cifar_resnet_s637_e50_rd99.npz\n",
      "[Saved] ../results/redis_cifar100/cifar_resnet_s637_e50_rd97.npz\n"
     ]
    },
    {
     "name": "stderr",
     "output_type": "stream",
     "text": [
      "Seed 800:   5%|▌         | 2/40 [00:00<00:06,  5.90it/s]"
     ]
    },
    {
     "name": "stdout",
     "output_type": "stream",
     "text": [
      "[Saved] ../results/redis_cifar100/cifar_resnet_s800_e50_rd4.npz\n",
      "[Saved] ../results/redis_cifar100/cifar_resnet_s800_e50_rd7.npz\n"
     ]
    },
    {
     "name": "stderr",
     "output_type": "stream",
     "text": [
      "Seed 800:  10%|█         | 4/40 [00:00<00:05,  6.15it/s]"
     ]
    },
    {
     "name": "stdout",
     "output_type": "stream",
     "text": [
      "[Saved] ../results/redis_cifar100/cifar_resnet_s800_e50_rd6.npz\n",
      "[Saved] ../results/redis_cifar100/cifar_resnet_s800_e50_rd11.npz\n"
     ]
    },
    {
     "name": "stderr",
     "output_type": "stream",
     "text": [
      "Seed 800:  15%|█▌        | 6/40 [00:00<00:05,  5.93it/s]"
     ]
    },
    {
     "name": "stdout",
     "output_type": "stream",
     "text": [
      "[Saved] ../results/redis_cifar100/cifar_resnet_s800_e50_rd14.npz\n",
      "[Saved] ../results/redis_cifar100/cifar_resnet_s800_e50_rd15.npz\n"
     ]
    },
    {
     "name": "stderr",
     "output_type": "stream",
     "text": [
      "Seed 800:  20%|██        | 8/40 [00:01<00:05,  6.12it/s]"
     ]
    },
    {
     "name": "stdout",
     "output_type": "stream",
     "text": [
      "[Saved] ../results/redis_cifar100/cifar_resnet_s800_e50_rd19.npz\n",
      "[Saved] ../results/redis_cifar100/cifar_resnet_s800_e50_rd24.npz\n"
     ]
    },
    {
     "name": "stderr",
     "output_type": "stream",
     "text": [
      "Seed 800:  25%|██▌       | 10/40 [00:01<00:05,  5.83it/s]"
     ]
    },
    {
     "name": "stdout",
     "output_type": "stream",
     "text": [
      "[Saved] ../results/redis_cifar100/cifar_resnet_s800_e50_rd23.npz\n",
      "[Saved] ../results/redis_cifar100/cifar_resnet_s800_e50_rd25.npz\n"
     ]
    },
    {
     "name": "stderr",
     "output_type": "stream",
     "text": [
      "Seed 800:  30%|███       | 12/40 [00:02<00:04,  5.98it/s]"
     ]
    },
    {
     "name": "stdout",
     "output_type": "stream",
     "text": [
      "[Saved] ../results/redis_cifar100/cifar_resnet_s800_e50_rd29.npz\n",
      "[Saved] ../results/redis_cifar100/cifar_resnet_s800_e50_rd30.npz\n"
     ]
    },
    {
     "name": "stderr",
     "output_type": "stream",
     "text": [
      "Seed 800:  35%|███▌      | 14/40 [00:02<00:04,  5.83it/s]"
     ]
    },
    {
     "name": "stdout",
     "output_type": "stream",
     "text": [
      "[Saved] ../results/redis_cifar100/cifar_resnet_s800_e50_rd31.npz\n",
      "[Saved] ../results/redis_cifar100/cifar_resnet_s800_e50_rd36.npz\n"
     ]
    },
    {
     "name": "stderr",
     "output_type": "stream",
     "text": [
      "Seed 800:  40%|████      | 16/40 [00:02<00:04,  5.72it/s]"
     ]
    },
    {
     "name": "stdout",
     "output_type": "stream",
     "text": [
      "[Saved] ../results/redis_cifar100/cifar_resnet_s800_e50_rd35.npz\n",
      "[Saved] ../results/redis_cifar100/cifar_resnet_s800_e50_rd39.npz\n"
     ]
    },
    {
     "name": "stderr",
     "output_type": "stream",
     "text": [
      "Seed 800:  45%|████▌     | 18/40 [00:03<00:03,  5.67it/s]"
     ]
    },
    {
     "name": "stdout",
     "output_type": "stream",
     "text": [
      "[Saved] ../results/redis_cifar100/cifar_resnet_s800_e50_rd44.npz\n",
      "[Saved] ../results/redis_cifar100/cifar_resnet_s800_e50_rd41.npz\n"
     ]
    },
    {
     "name": "stderr",
     "output_type": "stream",
     "text": [
      "Seed 800:  50%|█████     | 20/40 [00:03<00:03,  5.72it/s]"
     ]
    },
    {
     "name": "stdout",
     "output_type": "stream",
     "text": [
      "[Saved] ../results/redis_cifar100/cifar_resnet_s800_e50_rd49.npz\n",
      "[Saved] ../results/redis_cifar100/cifar_resnet_s800_e50_rd48.npz\n"
     ]
    },
    {
     "name": "stderr",
     "output_type": "stream",
     "text": [
      "Seed 800:  55%|█████▌    | 22/40 [00:03<00:02,  6.01it/s]"
     ]
    },
    {
     "name": "stdout",
     "output_type": "stream",
     "text": [
      "[Saved] ../results/redis_cifar100/cifar_resnet_s800_e50_rd51.npz\n",
      "[Saved] ../results/redis_cifar100/cifar_resnet_s800_e50_rd53.npz\n"
     ]
    },
    {
     "name": "stderr",
     "output_type": "stream",
     "text": [
      "Seed 800:  60%|██████    | 24/40 [00:04<00:02,  6.34it/s]"
     ]
    },
    {
     "name": "stdout",
     "output_type": "stream",
     "text": [
      "[Saved] ../results/redis_cifar100/cifar_resnet_s800_e50_rd59.npz\n",
      "[Saved] ../results/redis_cifar100/cifar_resnet_s800_e50_rd57.npz\n"
     ]
    },
    {
     "name": "stderr",
     "output_type": "stream",
     "text": [
      "Seed 800:  65%|██████▌   | 26/40 [00:04<00:02,  6.37it/s]"
     ]
    },
    {
     "name": "stdout",
     "output_type": "stream",
     "text": [
      "[Saved] ../results/redis_cifar100/cifar_resnet_s800_e50_rd60.npz\n",
      "[Saved] ../results/redis_cifar100/cifar_resnet_s800_e50_rd61.npz\n"
     ]
    },
    {
     "name": "stderr",
     "output_type": "stream",
     "text": [
      "Seed 800:  70%|███████   | 28/40 [00:04<00:01,  6.23it/s]"
     ]
    },
    {
     "name": "stdout",
     "output_type": "stream",
     "text": [
      "[Saved] ../results/redis_cifar100/cifar_resnet_s800_e50_rd68.npz\n",
      "[Saved] ../results/redis_cifar100/cifar_resnet_s800_e50_rd67.npz\n"
     ]
    },
    {
     "name": "stderr",
     "output_type": "stream",
     "text": [
      "Seed 800:  75%|███████▌  | 30/40 [00:05<00:01,  6.09it/s]"
     ]
    },
    {
     "name": "stdout",
     "output_type": "stream",
     "text": [
      "[Saved] ../results/redis_cifar100/cifar_resnet_s800_e50_rd72.npz\n",
      "[Saved] ../results/redis_cifar100/cifar_resnet_s800_e50_rd71.npz\n"
     ]
    },
    {
     "name": "stderr",
     "output_type": "stream",
     "text": [
      "Seed 800:  80%|████████  | 32/40 [00:05<00:01,  5.96it/s]"
     ]
    },
    {
     "name": "stdout",
     "output_type": "stream",
     "text": [
      "[Saved] ../results/redis_cifar100/cifar_resnet_s800_e50_rd76.npz\n",
      "[Saved] ../results/redis_cifar100/cifar_resnet_s800_e50_rd77.npz\n"
     ]
    },
    {
     "name": "stderr",
     "output_type": "stream",
     "text": [
      "Seed 800:  85%|████████▌ | 34/40 [00:05<00:01,  5.82it/s]"
     ]
    },
    {
     "name": "stdout",
     "output_type": "stream",
     "text": [
      "[Saved] ../results/redis_cifar100/cifar_resnet_s800_e50_rd80.npz\n",
      "[Saved] ../results/redis_cifar100/cifar_resnet_s800_e50_rd84.npz\n"
     ]
    },
    {
     "name": "stderr",
     "output_type": "stream",
     "text": [
      "Seed 800:  90%|█████████ | 36/40 [00:06<00:00,  5.98it/s]"
     ]
    },
    {
     "name": "stdout",
     "output_type": "stream",
     "text": [
      "[Saved] ../results/redis_cifar100/cifar_resnet_s800_e50_rd88.npz\n",
      "[Saved] ../results/redis_cifar100/cifar_resnet_s800_e50_rd85.npz\n"
     ]
    },
    {
     "name": "stderr",
     "output_type": "stream",
     "text": [
      "Seed 800:  95%|█████████▌| 38/40 [00:06<00:00,  6.17it/s]"
     ]
    },
    {
     "name": "stdout",
     "output_type": "stream",
     "text": [
      "[Saved] ../results/redis_cifar100/cifar_resnet_s800_e50_rd92.npz\n",
      "[Saved] ../results/redis_cifar100/cifar_resnet_s800_e50_rd94.npz\n"
     ]
    },
    {
     "name": "stderr",
     "output_type": "stream",
     "text": [
      "                                                         \r"
     ]
    },
    {
     "name": "stdout",
     "output_type": "stream",
     "text": [
      "[Saved] ../results/redis_cifar100/cifar_resnet_s800_e50_rd99.npz\n",
      "[Saved] ../results/redis_cifar100/cifar_resnet_s800_e50_rd97.npz\n"
     ]
    },
    {
     "name": "stderr",
     "output_type": "stream",
     "text": [
      "Seed 543:   5%|▌         | 2/40 [00:00<00:06,  6.20it/s]"
     ]
    },
    {
     "name": "stdout",
     "output_type": "stream",
     "text": [
      "[Saved] ../results/redis_cifar100/cifar_resnet_s543_e50_rd4.npz\n",
      "[Saved] ../results/redis_cifar100/cifar_resnet_s543_e50_rd7.npz\n"
     ]
    },
    {
     "name": "stderr",
     "output_type": "stream",
     "text": [
      "Seed 543:  10%|█         | 4/40 [00:00<00:06,  5.99it/s]"
     ]
    },
    {
     "name": "stdout",
     "output_type": "stream",
     "text": [
      "[Saved] ../results/redis_cifar100/cifar_resnet_s543_e50_rd6.npz\n",
      "[Saved] ../results/redis_cifar100/cifar_resnet_s543_e50_rd11.npz\n"
     ]
    },
    {
     "name": "stderr",
     "output_type": "stream",
     "text": [
      "Seed 543:  15%|█▌        | 6/40 [00:00<00:05,  6.22it/s]"
     ]
    },
    {
     "name": "stdout",
     "output_type": "stream",
     "text": [
      "[Saved] ../results/redis_cifar100/cifar_resnet_s543_e50_rd14.npz\n",
      "[Saved] ../results/redis_cifar100/cifar_resnet_s543_e50_rd15.npz\n"
     ]
    },
    {
     "name": "stderr",
     "output_type": "stream",
     "text": [
      "Seed 543:  20%|██        | 8/40 [00:01<00:05,  6.16it/s]"
     ]
    },
    {
     "name": "stdout",
     "output_type": "stream",
     "text": [
      "[Saved] ../results/redis_cifar100/cifar_resnet_s543_e50_rd19.npz\n",
      "[Saved] ../results/redis_cifar100/cifar_resnet_s543_e50_rd24.npz\n"
     ]
    },
    {
     "name": "stderr",
     "output_type": "stream",
     "text": [
      "Seed 543:  25%|██▌       | 10/40 [00:01<00:05,  5.87it/s]"
     ]
    },
    {
     "name": "stdout",
     "output_type": "stream",
     "text": [
      "[Saved] ../results/redis_cifar100/cifar_resnet_s543_e50_rd23.npz\n",
      "[Saved] ../results/redis_cifar100/cifar_resnet_s543_e50_rd25.npz\n"
     ]
    },
    {
     "name": "stderr",
     "output_type": "stream",
     "text": [
      "Seed 543:  30%|███       | 12/40 [00:01<00:04,  5.97it/s]"
     ]
    },
    {
     "name": "stdout",
     "output_type": "stream",
     "text": [
      "[Saved] ../results/redis_cifar100/cifar_resnet_s543_e50_rd29.npz\n",
      "[Saved] ../results/redis_cifar100/cifar_resnet_s543_e50_rd30.npz\n"
     ]
    },
    {
     "name": "stderr",
     "output_type": "stream",
     "text": [
      "Seed 543:  35%|███▌      | 14/40 [00:02<00:04,  5.96it/s]"
     ]
    },
    {
     "name": "stdout",
     "output_type": "stream",
     "text": [
      "[Saved] ../results/redis_cifar100/cifar_resnet_s543_e50_rd31.npz\n",
      "[Saved] ../results/redis_cifar100/cifar_resnet_s543_e50_rd36.npz\n"
     ]
    },
    {
     "name": "stderr",
     "output_type": "stream",
     "text": [
      "Seed 543:  40%|████      | 16/40 [00:02<00:04,  5.96it/s]"
     ]
    },
    {
     "name": "stdout",
     "output_type": "stream",
     "text": [
      "[Saved] ../results/redis_cifar100/cifar_resnet_s543_e50_rd35.npz\n",
      "[Saved] ../results/redis_cifar100/cifar_resnet_s543_e50_rd39.npz\n"
     ]
    },
    {
     "name": "stderr",
     "output_type": "stream",
     "text": [
      "Seed 543:  45%|████▌     | 18/40 [00:02<00:03,  6.12it/s]"
     ]
    },
    {
     "name": "stdout",
     "output_type": "stream",
     "text": [
      "[Saved] ../results/redis_cifar100/cifar_resnet_s543_e50_rd44.npz\n",
      "[Saved] ../results/redis_cifar100/cifar_resnet_s543_e50_rd41.npz\n"
     ]
    },
    {
     "name": "stderr",
     "output_type": "stream",
     "text": [
      "Seed 543:  50%|█████     | 20/40 [00:03<00:03,  6.12it/s]"
     ]
    },
    {
     "name": "stdout",
     "output_type": "stream",
     "text": [
      "[Saved] ../results/redis_cifar100/cifar_resnet_s543_e50_rd49.npz\n",
      "[Saved] ../results/redis_cifar100/cifar_resnet_s543_e50_rd48.npz\n"
     ]
    },
    {
     "name": "stderr",
     "output_type": "stream",
     "text": [
      "Seed 543:  55%|█████▌    | 22/40 [00:03<00:02,  6.19it/s]"
     ]
    },
    {
     "name": "stdout",
     "output_type": "stream",
     "text": [
      "[Saved] ../results/redis_cifar100/cifar_resnet_s543_e50_rd51.npz\n",
      "[Saved] ../results/redis_cifar100/cifar_resnet_s543_e50_rd53.npz\n"
     ]
    },
    {
     "name": "stderr",
     "output_type": "stream",
     "text": [
      "Seed 543:  60%|██████    | 24/40 [00:03<00:02,  6.21it/s]"
     ]
    },
    {
     "name": "stdout",
     "output_type": "stream",
     "text": [
      "[Saved] ../results/redis_cifar100/cifar_resnet_s543_e50_rd59.npz\n",
      "[Saved] ../results/redis_cifar100/cifar_resnet_s543_e50_rd57.npz\n"
     ]
    },
    {
     "name": "stderr",
     "output_type": "stream",
     "text": [
      "Seed 543:  65%|██████▌   | 26/40 [00:04<00:02,  6.02it/s]"
     ]
    },
    {
     "name": "stdout",
     "output_type": "stream",
     "text": [
      "[Saved] ../results/redis_cifar100/cifar_resnet_s543_e50_rd60.npz\n",
      "[Saved] ../results/redis_cifar100/cifar_resnet_s543_e50_rd61.npz\n"
     ]
    },
    {
     "name": "stderr",
     "output_type": "stream",
     "text": [
      "Seed 543:  70%|███████   | 28/40 [00:04<00:01,  6.06it/s]"
     ]
    },
    {
     "name": "stdout",
     "output_type": "stream",
     "text": [
      "[Saved] ../results/redis_cifar100/cifar_resnet_s543_e50_rd68.npz\n",
      "[Saved] ../results/redis_cifar100/cifar_resnet_s543_e50_rd67.npz\n"
     ]
    },
    {
     "name": "stderr",
     "output_type": "stream",
     "text": [
      "Seed 543:  75%|███████▌  | 30/40 [00:04<00:01,  6.32it/s]"
     ]
    },
    {
     "name": "stdout",
     "output_type": "stream",
     "text": [
      "[Saved] ../results/redis_cifar100/cifar_resnet_s543_e50_rd72.npz\n",
      "[Saved] ../results/redis_cifar100/cifar_resnet_s543_e50_rd71.npz\n"
     ]
    },
    {
     "name": "stderr",
     "output_type": "stream",
     "text": [
      "Seed 543:  80%|████████  | 32/40 [00:05<00:01,  6.43it/s]"
     ]
    },
    {
     "name": "stdout",
     "output_type": "stream",
     "text": [
      "[Saved] ../results/redis_cifar100/cifar_resnet_s543_e50_rd76.npz\n",
      "[Saved] ../results/redis_cifar100/cifar_resnet_s543_e50_rd77.npz\n"
     ]
    },
    {
     "name": "stderr",
     "output_type": "stream",
     "text": [
      "Seed 543:  85%|████████▌ | 34/40 [00:05<00:00,  6.49it/s]"
     ]
    },
    {
     "name": "stdout",
     "output_type": "stream",
     "text": [
      "[Saved] ../results/redis_cifar100/cifar_resnet_s543_e50_rd80.npz\n",
      "[Saved] ../results/redis_cifar100/cifar_resnet_s543_e50_rd84.npz\n"
     ]
    },
    {
     "name": "stderr",
     "output_type": "stream",
     "text": [
      "Seed 543:  90%|█████████ | 36/40 [00:05<00:00,  6.29it/s]"
     ]
    },
    {
     "name": "stdout",
     "output_type": "stream",
     "text": [
      "[Saved] ../results/redis_cifar100/cifar_resnet_s543_e50_rd88.npz\n",
      "[Saved] ../results/redis_cifar100/cifar_resnet_s543_e50_rd85.npz\n"
     ]
    },
    {
     "name": "stderr",
     "output_type": "stream",
     "text": [
      "Seed 543:  95%|█████████▌| 38/40 [00:06<00:00,  5.94it/s]"
     ]
    },
    {
     "name": "stdout",
     "output_type": "stream",
     "text": [
      "[Saved] ../results/redis_cifar100/cifar_resnet_s543_e50_rd92.npz\n",
      "[Saved] ../results/redis_cifar100/cifar_resnet_s543_e50_rd94.npz\n"
     ]
    },
    {
     "name": "stderr",
     "output_type": "stream",
     "text": [
      "                                                         \r"
     ]
    },
    {
     "name": "stdout",
     "output_type": "stream",
     "text": [
      "[Saved] ../results/redis_cifar100/cifar_resnet_s543_e50_rd99.npz\n",
      "[Saved] ../results/redis_cifar100/cifar_resnet_s543_e50_rd97.npz\n"
     ]
    },
    {
     "name": "stderr",
     "output_type": "stream",
     "text": [
      "Seed 969:   5%|▌         | 2/40 [00:00<00:06,  5.64it/s]"
     ]
    },
    {
     "name": "stdout",
     "output_type": "stream",
     "text": [
      "[Saved] ../results/redis_cifar100/cifar_resnet_s969_e50_rd4.npz\n",
      "[Saved] ../results/redis_cifar100/cifar_resnet_s969_e50_rd7.npz\n"
     ]
    },
    {
     "name": "stderr",
     "output_type": "stream",
     "text": [
      "Seed 969:  10%|█         | 4/40 [00:00<00:06,  5.41it/s]"
     ]
    },
    {
     "name": "stdout",
     "output_type": "stream",
     "text": [
      "[Saved] ../results/redis_cifar100/cifar_resnet_s969_e50_rd6.npz\n",
      "[Saved] ../results/redis_cifar100/cifar_resnet_s969_e50_rd11.npz\n"
     ]
    },
    {
     "name": "stderr",
     "output_type": "stream",
     "text": [
      "Seed 969:  15%|█▌        | 6/40 [00:01<00:05,  6.03it/s]"
     ]
    },
    {
     "name": "stdout",
     "output_type": "stream",
     "text": [
      "[Saved] ../results/redis_cifar100/cifar_resnet_s969_e50_rd14.npz\n",
      "[Saved] ../results/redis_cifar100/cifar_resnet_s969_e50_rd15.npz\n"
     ]
    },
    {
     "name": "stderr",
     "output_type": "stream",
     "text": [
      "Seed 969:  20%|██        | 8/40 [00:01<00:05,  5.81it/s]"
     ]
    },
    {
     "name": "stdout",
     "output_type": "stream",
     "text": [
      "[Saved] ../results/redis_cifar100/cifar_resnet_s969_e50_rd19.npz\n",
      "[Saved] ../results/redis_cifar100/cifar_resnet_s969_e50_rd24.npz\n"
     ]
    },
    {
     "name": "stderr",
     "output_type": "stream",
     "text": [
      "Seed 969:  25%|██▌       | 10/40 [00:01<00:04,  6.06it/s]"
     ]
    },
    {
     "name": "stdout",
     "output_type": "stream",
     "text": [
      "[Saved] ../results/redis_cifar100/cifar_resnet_s969_e50_rd23.npz\n",
      "[Saved] ../results/redis_cifar100/cifar_resnet_s969_e50_rd25.npz\n"
     ]
    },
    {
     "name": "stderr",
     "output_type": "stream",
     "text": [
      "Seed 969:  30%|███       | 12/40 [00:02<00:04,  6.27it/s]"
     ]
    },
    {
     "name": "stdout",
     "output_type": "stream",
     "text": [
      "[Saved] ../results/redis_cifar100/cifar_resnet_s969_e50_rd29.npz\n",
      "[Saved] ../results/redis_cifar100/cifar_resnet_s969_e50_rd30.npz\n"
     ]
    },
    {
     "name": "stderr",
     "output_type": "stream",
     "text": [
      "Seed 969:  35%|███▌      | 14/40 [00:02<00:04,  6.37it/s]"
     ]
    },
    {
     "name": "stdout",
     "output_type": "stream",
     "text": [
      "[Saved] ../results/redis_cifar100/cifar_resnet_s969_e50_rd31.npz\n",
      "[Saved] ../results/redis_cifar100/cifar_resnet_s969_e50_rd36.npz\n"
     ]
    },
    {
     "name": "stderr",
     "output_type": "stream",
     "text": [
      "Seed 969:  40%|████      | 16/40 [00:02<00:03,  6.16it/s]"
     ]
    },
    {
     "name": "stdout",
     "output_type": "stream",
     "text": [
      "[Saved] ../results/redis_cifar100/cifar_resnet_s969_e50_rd35.npz\n",
      "[Saved] ../results/redis_cifar100/cifar_resnet_s969_e50_rd39.npz\n"
     ]
    },
    {
     "name": "stderr",
     "output_type": "stream",
     "text": [
      "Seed 969:  45%|████▌     | 18/40 [00:02<00:03,  6.25it/s]"
     ]
    },
    {
     "name": "stdout",
     "output_type": "stream",
     "text": [
      "[Saved] ../results/redis_cifar100/cifar_resnet_s969_e50_rd44.npz\n",
      "[Saved] ../results/redis_cifar100/cifar_resnet_s969_e50_rd41.npz\n"
     ]
    },
    {
     "name": "stderr",
     "output_type": "stream",
     "text": [
      "Seed 969:  50%|█████     | 20/40 [00:03<00:03,  6.38it/s]"
     ]
    },
    {
     "name": "stdout",
     "output_type": "stream",
     "text": [
      "[Saved] ../results/redis_cifar100/cifar_resnet_s969_e50_rd49.npz\n",
      "[Saved] ../results/redis_cifar100/cifar_resnet_s969_e50_rd48.npz\n"
     ]
    },
    {
     "name": "stderr",
     "output_type": "stream",
     "text": [
      "Seed 969:  55%|█████▌    | 22/40 [00:03<00:02,  6.24it/s]"
     ]
    },
    {
     "name": "stdout",
     "output_type": "stream",
     "text": [
      "[Saved] ../results/redis_cifar100/cifar_resnet_s969_e50_rd51.npz\n",
      "[Saved] ../results/redis_cifar100/cifar_resnet_s969_e50_rd53.npz\n"
     ]
    },
    {
     "name": "stderr",
     "output_type": "stream",
     "text": [
      "Seed 969:  60%|██████    | 24/40 [00:03<00:02,  6.13it/s]"
     ]
    },
    {
     "name": "stdout",
     "output_type": "stream",
     "text": [
      "[Saved] ../results/redis_cifar100/cifar_resnet_s969_e50_rd59.npz\n",
      "[Saved] ../results/redis_cifar100/cifar_resnet_s969_e50_rd57.npz\n"
     ]
    },
    {
     "name": "stderr",
     "output_type": "stream",
     "text": [
      "Seed 969:  65%|██████▌   | 26/40 [00:04<00:02,  6.06it/s]"
     ]
    },
    {
     "name": "stdout",
     "output_type": "stream",
     "text": [
      "[Saved] ../results/redis_cifar100/cifar_resnet_s969_e50_rd60.npz\n",
      "[Saved] ../results/redis_cifar100/cifar_resnet_s969_e50_rd61.npz\n"
     ]
    },
    {
     "name": "stderr",
     "output_type": "stream",
     "text": [
      "Seed 969:  68%|██████▊   | 27/40 [00:04<00:02,  6.01it/s]"
     ]
    },
    {
     "name": "stdout",
     "output_type": "stream",
     "text": [
      "[Saved] ../results/redis_cifar100/cifar_resnet_s969_e50_rd68.npz\n",
      "[Saved] ../results/redis_cifar100/cifar_resnet_s969_e50_rd67.npz\n",
      "[Saved] ../results/redis_cifar100/cifar_resnet_s969_e50_rd72.npz\n",
      "[Saved] ../results/redis_cifar100/cifar_resnet_s969_e50_rd71.npz\n",
      "[Saved] ../results/redis_cifar100/cifar_resnet_s969_e50_rd76.npz\n",
      "[Saved] ../results/redis_cifar100/cifar_resnet_s969_e50_rd77.npz\n",
      "[Saved] ../results/redis_cifar100/cifar_resnet_s969_e50_rd80.npz\n",
      "[Saved] ../results/redis_cifar100/cifar_resnet_s969_e50_rd84.npz\n",
      "[Saved] ../results/redis_cifar100/cifar_resnet_s969_e50_rd88.npz\n",
      "[Saved] ../results/redis_cifar100/cifar_resnet_s969_e50_rd85.npz\n",
      "[Saved] ../results/redis_cifar100/cifar_resnet_s969_e50_rd92.npz\n",
      "[Saved] ../results/redis_cifar100/cifar_resnet_s969_e50_rd94.npz\n",
      "[Saved] ../results/redis_cifar100/cifar_resnet_s969_e50_rd99.npz\n"
     ]
    },
    {
     "name": "stderr",
     "output_type": "stream",
     "text": [
      "                                                         \r"
     ]
    },
    {
     "name": "stdout",
     "output_type": "stream",
     "text": [
      "[Saved] ../results/redis_cifar100/cifar_resnet_s969_e50_rd97.npz\n"
     ]
    },
    {
     "name": "stderr",
     "output_type": "stream",
     "text": [
      "Seed 122:   5%|▌         | 2/40 [00:00<00:06,  6.03it/s]"
     ]
    },
    {
     "name": "stdout",
     "output_type": "stream",
     "text": [
      "[Saved] ../results/redis_cifar100/cifar_resnet_s122_e50_rd4.npz\n",
      "[Saved] ../results/redis_cifar100/cifar_resnet_s122_e50_rd7.npz\n"
     ]
    },
    {
     "name": "stderr",
     "output_type": "stream",
     "text": [
      "Seed 122:  10%|█         | 4/40 [00:00<00:05,  6.02it/s]"
     ]
    },
    {
     "name": "stdout",
     "output_type": "stream",
     "text": [
      "[Saved] ../results/redis_cifar100/cifar_resnet_s122_e50_rd6.npz\n",
      "[Saved] ../results/redis_cifar100/cifar_resnet_s122_e50_rd11.npz\n"
     ]
    },
    {
     "name": "stderr",
     "output_type": "stream",
     "text": [
      "Seed 122:  15%|█▌        | 6/40 [00:00<00:05,  6.13it/s]"
     ]
    },
    {
     "name": "stdout",
     "output_type": "stream",
     "text": [
      "[Saved] ../results/redis_cifar100/cifar_resnet_s122_e50_rd14.npz\n",
      "[Saved] ../results/redis_cifar100/cifar_resnet_s122_e50_rd15.npz\n"
     ]
    },
    {
     "name": "stderr",
     "output_type": "stream",
     "text": [
      "Seed 122:  20%|██        | 8/40 [00:01<00:05,  6.11it/s]"
     ]
    },
    {
     "name": "stdout",
     "output_type": "stream",
     "text": [
      "[Saved] ../results/redis_cifar100/cifar_resnet_s122_e50_rd19.npz\n",
      "[Saved] ../results/redis_cifar100/cifar_resnet_s122_e50_rd24.npz\n"
     ]
    },
    {
     "name": "stderr",
     "output_type": "stream",
     "text": [
      "Seed 122:  25%|██▌       | 10/40 [00:01<00:04,  6.38it/s]"
     ]
    },
    {
     "name": "stdout",
     "output_type": "stream",
     "text": [
      "[Saved] ../results/redis_cifar100/cifar_resnet_s122_e50_rd23.npz\n",
      "[Saved] ../results/redis_cifar100/cifar_resnet_s122_e50_rd25.npz\n"
     ]
    },
    {
     "name": "stderr",
     "output_type": "stream",
     "text": [
      "Seed 122:  30%|███       | 12/40 [00:01<00:04,  6.28it/s]"
     ]
    },
    {
     "name": "stdout",
     "output_type": "stream",
     "text": [
      "[Saved] ../results/redis_cifar100/cifar_resnet_s122_e50_rd29.npz\n",
      "[Saved] ../results/redis_cifar100/cifar_resnet_s122_e50_rd30.npz\n"
     ]
    },
    {
     "name": "stderr",
     "output_type": "stream",
     "text": [
      "Seed 122:  35%|███▌      | 14/40 [00:02<00:04,  6.38it/s]"
     ]
    },
    {
     "name": "stdout",
     "output_type": "stream",
     "text": [
      "[Saved] ../results/redis_cifar100/cifar_resnet_s122_e50_rd31.npz\n",
      "[Saved] ../results/redis_cifar100/cifar_resnet_s122_e50_rd36.npz\n"
     ]
    },
    {
     "name": "stderr",
     "output_type": "stream",
     "text": [
      "Seed 122:  40%|████      | 16/40 [00:02<00:03,  6.10it/s]"
     ]
    },
    {
     "name": "stdout",
     "output_type": "stream",
     "text": [
      "[Saved] ../results/redis_cifar100/cifar_resnet_s122_e50_rd35.npz\n",
      "[Saved] ../results/redis_cifar100/cifar_resnet_s122_e50_rd39.npz\n"
     ]
    },
    {
     "name": "stderr",
     "output_type": "stream",
     "text": [
      "Seed 122:  45%|████▌     | 18/40 [00:02<00:03,  6.27it/s]"
     ]
    },
    {
     "name": "stdout",
     "output_type": "stream",
     "text": [
      "[Saved] ../results/redis_cifar100/cifar_resnet_s122_e50_rd44.npz\n",
      "[Saved] ../results/redis_cifar100/cifar_resnet_s122_e50_rd41.npz\n"
     ]
    },
    {
     "name": "stderr",
     "output_type": "stream",
     "text": [
      "Seed 122:  50%|█████     | 20/40 [00:03<00:03,  6.36it/s]"
     ]
    },
    {
     "name": "stdout",
     "output_type": "stream",
     "text": [
      "[Saved] ../results/redis_cifar100/cifar_resnet_s122_e50_rd49.npz\n",
      "[Saved] ../results/redis_cifar100/cifar_resnet_s122_e50_rd48.npz\n"
     ]
    },
    {
     "name": "stderr",
     "output_type": "stream",
     "text": [
      "Seed 122:  55%|█████▌    | 22/40 [00:03<00:02,  6.38it/s]"
     ]
    },
    {
     "name": "stdout",
     "output_type": "stream",
     "text": [
      "[Saved] ../results/redis_cifar100/cifar_resnet_s122_e50_rd51.npz\n",
      "[Saved] ../results/redis_cifar100/cifar_resnet_s122_e50_rd53.npz\n"
     ]
    },
    {
     "name": "stderr",
     "output_type": "stream",
     "text": [
      "Seed 122:  60%|██████    | 24/40 [00:03<00:02,  5.80it/s]"
     ]
    },
    {
     "name": "stdout",
     "output_type": "stream",
     "text": [
      "[Saved] ../results/redis_cifar100/cifar_resnet_s122_e50_rd59.npz\n",
      "[Saved] ../results/redis_cifar100/cifar_resnet_s122_e50_rd57.npz\n"
     ]
    },
    {
     "name": "stderr",
     "output_type": "stream",
     "text": [
      "Seed 122:  65%|██████▌   | 26/40 [00:04<00:02,  5.78it/s]"
     ]
    },
    {
     "name": "stdout",
     "output_type": "stream",
     "text": [
      "[Saved] ../results/redis_cifar100/cifar_resnet_s122_e50_rd60.npz\n",
      "[Saved] ../results/redis_cifar100/cifar_resnet_s122_e50_rd61.npz\n"
     ]
    },
    {
     "name": "stderr",
     "output_type": "stream",
     "text": [
      "Seed 122:  70%|███████   | 28/40 [00:04<00:02,  5.99it/s]"
     ]
    },
    {
     "name": "stdout",
     "output_type": "stream",
     "text": [
      "[Saved] ../results/redis_cifar100/cifar_resnet_s122_e50_rd68.npz\n",
      "[Saved] ../results/redis_cifar100/cifar_resnet_s122_e50_rd67.npz\n"
     ]
    },
    {
     "name": "stderr",
     "output_type": "stream",
     "text": [
      "Seed 122:  75%|███████▌  | 30/40 [00:04<00:01,  5.77it/s]"
     ]
    },
    {
     "name": "stdout",
     "output_type": "stream",
     "text": [
      "[Saved] ../results/redis_cifar100/cifar_resnet_s122_e50_rd72.npz\n",
      "[Saved] ../results/redis_cifar100/cifar_resnet_s122_e50_rd71.npz\n"
     ]
    },
    {
     "name": "stderr",
     "output_type": "stream",
     "text": [
      "Seed 122:  80%|████████  | 32/40 [00:05<00:01,  5.57it/s]"
     ]
    },
    {
     "name": "stdout",
     "output_type": "stream",
     "text": [
      "[Saved] ../results/redis_cifar100/cifar_resnet_s122_e50_rd76.npz\n",
      "[Saved] ../results/redis_cifar100/cifar_resnet_s122_e50_rd77.npz\n"
     ]
    },
    {
     "name": "stderr",
     "output_type": "stream",
     "text": [
      "Seed 122:  85%|████████▌ | 34/40 [00:05<00:01,  5.86it/s]"
     ]
    },
    {
     "name": "stdout",
     "output_type": "stream",
     "text": [
      "[Saved] ../results/redis_cifar100/cifar_resnet_s122_e50_rd80.npz\n",
      "[Saved] ../results/redis_cifar100/cifar_resnet_s122_e50_rd84.npz\n"
     ]
    },
    {
     "name": "stderr",
     "output_type": "stream",
     "text": [
      "Seed 122:  90%|█████████ | 36/40 [00:06<00:00,  5.53it/s]"
     ]
    },
    {
     "name": "stdout",
     "output_type": "stream",
     "text": [
      "[Saved] ../results/redis_cifar100/cifar_resnet_s122_e50_rd88.npz\n",
      "[Saved] ../results/redis_cifar100/cifar_resnet_s122_e50_rd85.npz\n"
     ]
    },
    {
     "name": "stderr",
     "output_type": "stream",
     "text": [
      "Seed 122:  95%|█████████▌| 38/40 [00:06<00:00,  5.57it/s]"
     ]
    },
    {
     "name": "stdout",
     "output_type": "stream",
     "text": [
      "[Saved] ../results/redis_cifar100/cifar_resnet_s122_e50_rd92.npz\n",
      "[Saved] ../results/redis_cifar100/cifar_resnet_s122_e50_rd94.npz\n"
     ]
    },
    {
     "name": "stderr",
     "output_type": "stream",
     "text": [
      "                                                         "
     ]
    },
    {
     "name": "stdout",
     "output_type": "stream",
     "text": [
      "[Saved] ../results/redis_cifar100/cifar_resnet_s122_e50_rd99.npz\n",
      "[Saved] ../results/redis_cifar100/cifar_resnet_s122_e50_rd97.npz\n"
     ]
    },
    {
     "name": "stderr",
     "output_type": "stream",
     "text": [
      "Seed 336:   5%|▌         | 2/40 [00:00<00:06,  5.45it/s]"
     ]
    },
    {
     "name": "stdout",
     "output_type": "stream",
     "text": [
      "[Saved] ../results/redis_cifar100/cifar_resnet_s336_e50_rd4.npz\n",
      "[Saved] ../results/redis_cifar100/cifar_resnet_s336_e50_rd7.npz\n"
     ]
    },
    {
     "name": "stderr",
     "output_type": "stream",
     "text": [
      "Seed 336:  10%|█         | 4/40 [00:00<00:06,  5.75it/s]"
     ]
    },
    {
     "name": "stdout",
     "output_type": "stream",
     "text": [
      "[Saved] ../results/redis_cifar100/cifar_resnet_s336_e50_rd6.npz\n",
      "[Saved] ../results/redis_cifar100/cifar_resnet_s336_e50_rd11.npz\n"
     ]
    },
    {
     "name": "stderr",
     "output_type": "stream",
     "text": [
      "Seed 336:  15%|█▌        | 6/40 [00:01<00:05,  5.79it/s]"
     ]
    },
    {
     "name": "stdout",
     "output_type": "stream",
     "text": [
      "[Saved] ../results/redis_cifar100/cifar_resnet_s336_e50_rd14.npz\n",
      "[Saved] ../results/redis_cifar100/cifar_resnet_s336_e50_rd15.npz\n"
     ]
    },
    {
     "name": "stderr",
     "output_type": "stream",
     "text": [
      "Seed 336:  20%|██        | 8/40 [00:01<00:05,  5.78it/s]"
     ]
    },
    {
     "name": "stdout",
     "output_type": "stream",
     "text": [
      "[Saved] ../results/redis_cifar100/cifar_resnet_s336_e50_rd19.npz\n",
      "[Saved] ../results/redis_cifar100/cifar_resnet_s336_e50_rd24.npz\n"
     ]
    },
    {
     "name": "stderr",
     "output_type": "stream",
     "text": [
      "Seed 336:  25%|██▌       | 10/40 [00:01<00:05,  5.78it/s]"
     ]
    },
    {
     "name": "stdout",
     "output_type": "stream",
     "text": [
      "[Saved] ../results/redis_cifar100/cifar_resnet_s336_e50_rd23.npz\n",
      "[Saved] ../results/redis_cifar100/cifar_resnet_s336_e50_rd25.npz\n"
     ]
    },
    {
     "name": "stderr",
     "output_type": "stream",
     "text": [
      "Seed 336:  30%|███       | 12/40 [00:02<00:04,  5.87it/s]"
     ]
    },
    {
     "name": "stdout",
     "output_type": "stream",
     "text": [
      "[Saved] ../results/redis_cifar100/cifar_resnet_s336_e50_rd29.npz\n",
      "[Saved] ../results/redis_cifar100/cifar_resnet_s336_e50_rd30.npz\n"
     ]
    },
    {
     "name": "stderr",
     "output_type": "stream",
     "text": [
      "Seed 336:  35%|███▌      | 14/40 [00:02<00:04,  6.06it/s]"
     ]
    },
    {
     "name": "stdout",
     "output_type": "stream",
     "text": [
      "[Saved] ../results/redis_cifar100/cifar_resnet_s336_e50_rd31.npz\n",
      "[Saved] ../results/redis_cifar100/cifar_resnet_s336_e50_rd36.npz\n"
     ]
    },
    {
     "name": "stderr",
     "output_type": "stream",
     "text": [
      "Seed 336:  40%|████      | 16/40 [00:02<00:03,  6.13it/s]"
     ]
    },
    {
     "name": "stdout",
     "output_type": "stream",
     "text": [
      "[Saved] ../results/redis_cifar100/cifar_resnet_s336_e50_rd35.npz\n",
      "[Saved] ../results/redis_cifar100/cifar_resnet_s336_e50_rd39.npz\n"
     ]
    },
    {
     "name": "stderr",
     "output_type": "stream",
     "text": [
      "Seed 336:  45%|████▌     | 18/40 [00:03<00:03,  5.68it/s]"
     ]
    },
    {
     "name": "stdout",
     "output_type": "stream",
     "text": [
      "[Saved] ../results/redis_cifar100/cifar_resnet_s336_e50_rd44.npz\n",
      "[Saved] ../results/redis_cifar100/cifar_resnet_s336_e50_rd41.npz\n"
     ]
    },
    {
     "name": "stderr",
     "output_type": "stream",
     "text": [
      "Seed 336:  50%|█████     | 20/40 [00:03<00:03,  6.02it/s]"
     ]
    },
    {
     "name": "stdout",
     "output_type": "stream",
     "text": [
      "[Saved] ../results/redis_cifar100/cifar_resnet_s336_e50_rd49.npz\n",
      "[Saved] ../results/redis_cifar100/cifar_resnet_s336_e50_rd48.npz\n"
     ]
    },
    {
     "name": "stderr",
     "output_type": "stream",
     "text": [
      "Seed 336:  55%|█████▌    | 22/40 [00:03<00:03,  5.71it/s]"
     ]
    },
    {
     "name": "stdout",
     "output_type": "stream",
     "text": [
      "[Saved] ../results/redis_cifar100/cifar_resnet_s336_e50_rd51.npz\n",
      "[Saved] ../results/redis_cifar100/cifar_resnet_s336_e50_rd53.npz\n"
     ]
    },
    {
     "name": "stderr",
     "output_type": "stream",
     "text": [
      "Seed 336:  60%|██████    | 24/40 [00:04<00:02,  5.60it/s]"
     ]
    },
    {
     "name": "stdout",
     "output_type": "stream",
     "text": [
      "[Saved] ../results/redis_cifar100/cifar_resnet_s336_e50_rd59.npz\n",
      "[Saved] ../results/redis_cifar100/cifar_resnet_s336_e50_rd57.npz\n"
     ]
    },
    {
     "name": "stderr",
     "output_type": "stream",
     "text": [
      "Seed 336:  65%|██████▌   | 26/40 [00:04<00:02,  6.02it/s]"
     ]
    },
    {
     "name": "stdout",
     "output_type": "stream",
     "text": [
      "[Saved] ../results/redis_cifar100/cifar_resnet_s336_e50_rd60.npz\n",
      "[Saved] ../results/redis_cifar100/cifar_resnet_s336_e50_rd61.npz\n"
     ]
    },
    {
     "name": "stderr",
     "output_type": "stream",
     "text": [
      "Seed 336:  70%|███████   | 28/40 [00:04<00:02,  5.77it/s]"
     ]
    },
    {
     "name": "stdout",
     "output_type": "stream",
     "text": [
      "[Saved] ../results/redis_cifar100/cifar_resnet_s336_e50_rd68.npz\n",
      "[Saved] ../results/redis_cifar100/cifar_resnet_s336_e50_rd67.npz\n"
     ]
    },
    {
     "name": "stderr",
     "output_type": "stream",
     "text": [
      "Seed 336:  75%|███████▌  | 30/40 [00:05<00:01,  6.05it/s]"
     ]
    },
    {
     "name": "stdout",
     "output_type": "stream",
     "text": [
      "[Saved] ../results/redis_cifar100/cifar_resnet_s336_e50_rd72.npz\n",
      "[Saved] ../results/redis_cifar100/cifar_resnet_s336_e50_rd71.npz\n"
     ]
    },
    {
     "name": "stderr",
     "output_type": "stream",
     "text": [
      "Seed 336:  80%|████████  | 32/40 [00:05<00:01,  5.92it/s]"
     ]
    },
    {
     "name": "stdout",
     "output_type": "stream",
     "text": [
      "[Saved] ../results/redis_cifar100/cifar_resnet_s336_e50_rd76.npz\n",
      "[Saved] ../results/redis_cifar100/cifar_resnet_s336_e50_rd77.npz\n"
     ]
    },
    {
     "name": "stderr",
     "output_type": "stream",
     "text": [
      "Seed 336:  85%|████████▌ | 34/40 [00:05<00:00,  6.01it/s]"
     ]
    },
    {
     "name": "stdout",
     "output_type": "stream",
     "text": [
      "[Saved] ../results/redis_cifar100/cifar_resnet_s336_e50_rd80.npz\n",
      "[Saved] ../results/redis_cifar100/cifar_resnet_s336_e50_rd84.npz\n"
     ]
    },
    {
     "name": "stderr",
     "output_type": "stream",
     "text": [
      "Seed 336:  90%|█████████ | 36/40 [00:06<00:00,  5.92it/s]"
     ]
    },
    {
     "name": "stdout",
     "output_type": "stream",
     "text": [
      "[Saved] ../results/redis_cifar100/cifar_resnet_s336_e50_rd88.npz\n",
      "[Saved] ../results/redis_cifar100/cifar_resnet_s336_e50_rd85.npz\n"
     ]
    },
    {
     "name": "stderr",
     "output_type": "stream",
     "text": [
      "Seed 336:  95%|█████████▌| 38/40 [00:06<00:00,  6.12it/s]"
     ]
    },
    {
     "name": "stdout",
     "output_type": "stream",
     "text": [
      "[Saved] ../results/redis_cifar100/cifar_resnet_s336_e50_rd92.npz\n",
      "[Saved] ../results/redis_cifar100/cifar_resnet_s336_e50_rd94.npz\n"
     ]
    },
    {
     "name": "stderr",
     "output_type": "stream",
     "text": [
      "                                                         \r"
     ]
    },
    {
     "name": "stdout",
     "output_type": "stream",
     "text": [
      "[Saved] ../results/redis_cifar100/cifar_resnet_s336_e50_rd99.npz\n",
      "[Saved] ../results/redis_cifar100/cifar_resnet_s336_e50_rd97.npz\n"
     ]
    },
    {
     "name": "stderr",
     "output_type": "stream",
     "text": [
      "Seed 93:   5%|▌         | 2/40 [00:00<00:06,  5.81it/s]"
     ]
    },
    {
     "name": "stdout",
     "output_type": "stream",
     "text": [
      "[Saved] ../results/redis_cifar100/cifar_resnet_s93_e50_rd4.npz\n",
      "[Saved] ../results/redis_cifar100/cifar_resnet_s93_e50_rd7.npz\n"
     ]
    },
    {
     "name": "stderr",
     "output_type": "stream",
     "text": [
      "Seed 93:  10%|█         | 4/40 [00:00<00:06,  5.96it/s]"
     ]
    },
    {
     "name": "stdout",
     "output_type": "stream",
     "text": [
      "[Saved] ../results/redis_cifar100/cifar_resnet_s93_e50_rd6.npz\n",
      "[Saved] ../results/redis_cifar100/cifar_resnet_s93_e50_rd11.npz\n"
     ]
    },
    {
     "name": "stderr",
     "output_type": "stream",
     "text": [
      "Seed 93:  15%|█▌        | 6/40 [00:01<00:05,  6.07it/s]"
     ]
    },
    {
     "name": "stdout",
     "output_type": "stream",
     "text": [
      "[Saved] ../results/redis_cifar100/cifar_resnet_s93_e50_rd14.npz\n",
      "[Saved] ../results/redis_cifar100/cifar_resnet_s93_e50_rd15.npz\n"
     ]
    },
    {
     "name": "stderr",
     "output_type": "stream",
     "text": [
      "Seed 93:  20%|██        | 8/40 [00:01<00:05,  5.83it/s]"
     ]
    },
    {
     "name": "stdout",
     "output_type": "stream",
     "text": [
      "[Saved] ../results/redis_cifar100/cifar_resnet_s93_e50_rd19.npz\n",
      "[Saved] ../results/redis_cifar100/cifar_resnet_s93_e50_rd24.npz\n"
     ]
    },
    {
     "name": "stderr",
     "output_type": "stream",
     "text": [
      "Seed 93:  25%|██▌       | 10/40 [00:01<00:05,  5.99it/s]"
     ]
    },
    {
     "name": "stdout",
     "output_type": "stream",
     "text": [
      "[Saved] ../results/redis_cifar100/cifar_resnet_s93_e50_rd23.npz\n",
      "[Saved] ../results/redis_cifar100/cifar_resnet_s93_e50_rd25.npz\n"
     ]
    },
    {
     "name": "stderr",
     "output_type": "stream",
     "text": [
      "Seed 93:  30%|███       | 12/40 [00:02<00:04,  5.65it/s]"
     ]
    },
    {
     "name": "stdout",
     "output_type": "stream",
     "text": [
      "[Saved] ../results/redis_cifar100/cifar_resnet_s93_e50_rd29.npz\n",
      "[Saved] ../results/redis_cifar100/cifar_resnet_s93_e50_rd30.npz\n"
     ]
    },
    {
     "name": "stderr",
     "output_type": "stream",
     "text": [
      "Seed 93:  35%|███▌      | 14/40 [00:02<00:04,  5.75it/s]"
     ]
    },
    {
     "name": "stdout",
     "output_type": "stream",
     "text": [
      "[Saved] ../results/redis_cifar100/cifar_resnet_s93_e50_rd31.npz\n",
      "[Saved] ../results/redis_cifar100/cifar_resnet_s93_e50_rd36.npz\n"
     ]
    },
    {
     "name": "stderr",
     "output_type": "stream",
     "text": [
      "Seed 93:  40%|████      | 16/40 [00:02<00:03,  6.06it/s]"
     ]
    },
    {
     "name": "stdout",
     "output_type": "stream",
     "text": [
      "[Saved] ../results/redis_cifar100/cifar_resnet_s93_e50_rd35.npz\n",
      "[Saved] ../results/redis_cifar100/cifar_resnet_s93_e50_rd39.npz\n"
     ]
    },
    {
     "name": "stderr",
     "output_type": "stream",
     "text": [
      "Seed 93:  45%|████▌     | 18/40 [00:03<00:03,  5.91it/s]"
     ]
    },
    {
     "name": "stdout",
     "output_type": "stream",
     "text": [
      "[Saved] ../results/redis_cifar100/cifar_resnet_s93_e50_rd44.npz\n",
      "[Saved] ../results/redis_cifar100/cifar_resnet_s93_e50_rd41.npz\n"
     ]
    },
    {
     "name": "stderr",
     "output_type": "stream",
     "text": [
      "Seed 93:  50%|█████     | 20/40 [00:03<00:03,  5.49it/s]"
     ]
    },
    {
     "name": "stdout",
     "output_type": "stream",
     "text": [
      "[Saved] ../results/redis_cifar100/cifar_resnet_s93_e50_rd49.npz\n",
      "[Saved] ../results/redis_cifar100/cifar_resnet_s93_e50_rd48.npz\n"
     ]
    },
    {
     "name": "stderr",
     "output_type": "stream",
     "text": [
      "Seed 93:  55%|█████▌    | 22/40 [00:03<00:03,  5.50it/s]"
     ]
    },
    {
     "name": "stdout",
     "output_type": "stream",
     "text": [
      "[Saved] ../results/redis_cifar100/cifar_resnet_s93_e50_rd51.npz\n",
      "[Saved] ../results/redis_cifar100/cifar_resnet_s93_e50_rd53.npz\n"
     ]
    },
    {
     "name": "stderr",
     "output_type": "stream",
     "text": [
      "Seed 93:  60%|██████    | 24/40 [00:04<00:02,  5.64it/s]"
     ]
    },
    {
     "name": "stdout",
     "output_type": "stream",
     "text": [
      "[Saved] ../results/redis_cifar100/cifar_resnet_s93_e50_rd59.npz\n",
      "[Saved] ../results/redis_cifar100/cifar_resnet_s93_e50_rd57.npz\n"
     ]
    },
    {
     "name": "stderr",
     "output_type": "stream",
     "text": [
      "Seed 93:  65%|██████▌   | 26/40 [00:04<00:02,  5.64it/s]"
     ]
    },
    {
     "name": "stdout",
     "output_type": "stream",
     "text": [
      "[Saved] ../results/redis_cifar100/cifar_resnet_s93_e50_rd60.npz\n",
      "[Saved] ../results/redis_cifar100/cifar_resnet_s93_e50_rd61.npz\n"
     ]
    },
    {
     "name": "stderr",
     "output_type": "stream",
     "text": [
      "Seed 93:  70%|███████   | 28/40 [00:04<00:02,  5.92it/s]"
     ]
    },
    {
     "name": "stdout",
     "output_type": "stream",
     "text": [
      "[Saved] ../results/redis_cifar100/cifar_resnet_s93_e50_rd68.npz\n",
      "[Saved] ../results/redis_cifar100/cifar_resnet_s93_e50_rd67.npz\n"
     ]
    },
    {
     "name": "stderr",
     "output_type": "stream",
     "text": [
      "Seed 93:  75%|███████▌  | 30/40 [00:05<00:01,  5.84it/s]"
     ]
    },
    {
     "name": "stdout",
     "output_type": "stream",
     "text": [
      "[Saved] ../results/redis_cifar100/cifar_resnet_s93_e50_rd72.npz\n",
      "[Saved] ../results/redis_cifar100/cifar_resnet_s93_e50_rd71.npz\n"
     ]
    },
    {
     "name": "stderr",
     "output_type": "stream",
     "text": [
      "Seed 93:  80%|████████  | 32/40 [00:05<00:01,  6.10it/s]"
     ]
    },
    {
     "name": "stdout",
     "output_type": "stream",
     "text": [
      "[Saved] ../results/redis_cifar100/cifar_resnet_s93_e50_rd76.npz\n",
      "[Saved] ../results/redis_cifar100/cifar_resnet_s93_e50_rd77.npz\n"
     ]
    },
    {
     "name": "stderr",
     "output_type": "stream",
     "text": [
      "Seed 93:  85%|████████▌ | 34/40 [00:05<00:01,  5.97it/s]"
     ]
    },
    {
     "name": "stdout",
     "output_type": "stream",
     "text": [
      "[Saved] ../results/redis_cifar100/cifar_resnet_s93_e50_rd80.npz\n",
      "[Saved] ../results/redis_cifar100/cifar_resnet_s93_e50_rd84.npz\n"
     ]
    },
    {
     "name": "stderr",
     "output_type": "stream",
     "text": [
      "Seed 93:  90%|█████████ | 36/40 [00:06<00:00,  5.98it/s]"
     ]
    },
    {
     "name": "stdout",
     "output_type": "stream",
     "text": [
      "[Saved] ../results/redis_cifar100/cifar_resnet_s93_e50_rd88.npz\n",
      "[Saved] ../results/redis_cifar100/cifar_resnet_s93_e50_rd85.npz\n"
     ]
    },
    {
     "name": "stderr",
     "output_type": "stream",
     "text": [
      "Seed 93:  95%|█████████▌| 38/40 [00:06<00:00,  5.98it/s]"
     ]
    },
    {
     "name": "stdout",
     "output_type": "stream",
     "text": [
      "[Saved] ../results/redis_cifar100/cifar_resnet_s93_e50_rd92.npz\n",
      "[Saved] ../results/redis_cifar100/cifar_resnet_s93_e50_rd94.npz\n"
     ]
    },
    {
     "name": "stderr",
     "output_type": "stream",
     "text": [
      "                                                        "
     ]
    },
    {
     "name": "stdout",
     "output_type": "stream",
     "text": [
      "[Saved] ../results/redis_cifar100/cifar_resnet_s93_e50_rd99.npz\n",
      "[Saved] ../results/redis_cifar100/cifar_resnet_s93_e50_rd97.npz\n"
     ]
    },
    {
     "name": "stderr",
     "output_type": "stream",
     "text": [
      "\r"
     ]
    }
   ],
   "source": [
    "import os\n",
    "import numpy as np\n",
    "from tqdm import tqdm\n",
    "\n",
    "from lib.utils import model_results_from_npz\n",
    "from lib.projection import gram_schmidt, project_confidences\n",
    "from lib.redistribute import redistribute_confidences_of_class\n",
    "\n",
    "# ===== Dataset Config =====\n",
    "# If you want explicit class names, load from your CIFAR-100 mapping.\n",
    "NUM_CLASSES = 100\n",
    "\n",
    "SEEDS = [42, 602, 311, 637, 800, 543, 969, 122, 336, 93]   # example seeds\n",
    "EPOCHS = 50\n",
    "REMOVED_CLASSES = [\n",
    "    4, 7, 6, 11, 14, 15, 19, 24, 23, 25, 29, 30, \n",
    "    31, 36, 35, 39, 44, 41, 49, 48, 51, 53, 59, 57, 60, 61, \n",
    "    68, 67, 72, 71, 76, 77, 80, 84, 88, 85, 92, 94, 99, 97] # CIFAR-100\n",
    "\n",
    "# ===== Paths =====\n",
    "DIR_ORI = \"../results/cifar100/\"\n",
    "DIR_OUT = \"../results/redis_cifar100/\"\n",
    "os.makedirs(DIR_OUT, exist_ok=True)\n",
    "\n",
    "# ===== Redistribute Loop =====\n",
    "for seed in SEEDS:\n",
    "    file = f\"cifar100_resnet18_s{seed}_e{EPOCHS}.npz\"\n",
    "    filepath = os.path.join(DIR_ORI, file)\n",
    "    if not os.path.exists(filepath):\n",
    "        print(f\"Skip missing: {filepath}\")\n",
    "        continue\n",
    "\n",
    "    # Load original once per seed\n",
    "    model_ori = model_results_from_npz(filepath=filepath, num_classes=NUM_CLASSES)\n",
    "\n",
    "    # Precompute averages & projections once\n",
    "    avg_confidences = np.zeros((NUM_CLASSES, NUM_CLASSES), dtype=np.float32)\n",
    "    for i in range(NUM_CLASSES):\n",
    "        avg_confidences[i] = np.mean(model_ori.confidences[i], axis=0)\n",
    "\n",
    "    avg_confidences_ortho = gram_schmidt(avg_confidences)\n",
    "\n",
    "    for removed_class in tqdm(REMOVED_CLASSES, desc=f\"Seed {seed}\", leave=False):\n",
    "        proj_confidences = project_confidences(\n",
    "            model_ori.confidences,\n",
    "            avg_confidences_ortho,\n",
    "            removed_class\n",
    "        )\n",
    "\n",
    "        avg_proj_confidences = np.zeros((NUM_CLASSES, NUM_CLASSES), dtype=np.float32)\n",
    "        for i in range(NUM_CLASSES):\n",
    "            avg_proj_confidences[i] = np.mean(proj_confidences[i], axis=0)\n",
    "\n",
    "        # Redistribute per class\n",
    "        redis = {}\n",
    "        for cls in range(NUM_CLASSES):\n",
    "            redis[cls] = redistribute_confidences_of_class(\n",
    "                conf=model_ori.confidences[cls],\n",
    "                proj_conf=proj_confidences[cls],\n",
    "                avg_proj_conf=avg_proj_confidences[cls],\n",
    "                removed_class=removed_class,\n",
    "            )\n",
    "\n",
    "        # Concatenate back\n",
    "        all_confs = np.vstack([redis[cls] for cls in range(NUM_CLASSES)])\n",
    "        all_targets = np.concatenate([\n",
    "            np.full(redis[cls].shape[0], cls, dtype=int) for cls in range(NUM_CLASSES)\n",
    "        ])\n",
    "        all_preds = np.argmax(all_confs, axis=1)\n",
    "\n",
    "\n",
    "        # Save\n",
    "        out_path = os.path.join(DIR_OUT, f\"cifar_resnet_s{seed}_e{EPOCHS}_rd{removed_class}.npz\")\n",
    "        np.savez_compressed(out_path, preds=all_preds, targets=all_targets, confs=all_confs)\n",
    "        print(f\"[Saved] {out_path}\")\n"
   ]
  }
 ],
 "metadata": {
  "kernelspec": {
   "display_name": "mlvenv (3.10.12)",
   "language": "python",
   "name": "python3"
  },
  "language_info": {
   "codemirror_mode": {
    "name": "ipython",
    "version": 3
   },
   "file_extension": ".py",
   "mimetype": "text/x-python",
   "name": "python",
   "nbconvert_exporter": "python",
   "pygments_lexer": "ipython3",
   "version": "3.10.12"
  }
 },
 "nbformat": 4,
 "nbformat_minor": 5
}
