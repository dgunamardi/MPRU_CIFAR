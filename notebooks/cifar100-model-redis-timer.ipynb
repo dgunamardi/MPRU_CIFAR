{
 "cells": [
  {
   "cell_type": "code",
   "execution_count": null,
   "id": "bbd260ad",
   "metadata": {},
   "outputs": [
    {
     "name": "stderr",
     "output_type": "stream",
     "text": [
      "Seed 42:   2%|▎         | 1/40 [00:00<00:12,  3.15it/s]"
     ]
    },
    {
     "name": "stdout",
     "output_type": "stream",
     "text": [
      "[Saved] ../results/redis_cifar100/cifar_resnet_s42_e50_rd4.npz\n"
     ]
    },
    {
     "name": "stderr",
     "output_type": "stream",
     "text": [
      "Seed 42:   5%|▌         | 2/40 [00:00<00:10,  3.52it/s]"
     ]
    },
    {
     "name": "stdout",
     "output_type": "stream",
     "text": [
      "[Saved] ../results/redis_cifar100/cifar_resnet_s42_e50_rd7.npz\n"
     ]
    },
    {
     "name": "stderr",
     "output_type": "stream",
     "text": [
      "Seed 42:   8%|▊         | 3/40 [00:00<00:10,  3.47it/s]"
     ]
    },
    {
     "name": "stdout",
     "output_type": "stream",
     "text": [
      "[Saved] ../results/redis_cifar100/cifar_resnet_s42_e50_rd6.npz\n"
     ]
    },
    {
     "name": "stderr",
     "output_type": "stream",
     "text": [
      "Seed 42:  10%|█         | 4/40 [00:01<00:10,  3.36it/s]"
     ]
    },
    {
     "name": "stdout",
     "output_type": "stream",
     "text": [
      "[Saved] ../results/redis_cifar100/cifar_resnet_s42_e50_rd11.npz\n"
     ]
    },
    {
     "name": "stderr",
     "output_type": "stream",
     "text": [
      "Seed 42:  12%|█▎        | 5/40 [00:01<00:10,  3.31it/s]"
     ]
    },
    {
     "name": "stdout",
     "output_type": "stream",
     "text": [
      "[Saved] ../results/redis_cifar100/cifar_resnet_s42_e50_rd14.npz\n"
     ]
    },
    {
     "name": "stderr",
     "output_type": "stream",
     "text": [
      "Seed 42:  15%|█▌        | 6/40 [00:01<00:09,  3.56it/s]"
     ]
    },
    {
     "name": "stdout",
     "output_type": "stream",
     "text": [
      "[Saved] ../results/redis_cifar100/cifar_resnet_s42_e50_rd15.npz\n"
     ]
    },
    {
     "name": "stderr",
     "output_type": "stream",
     "text": [
      "Seed 42:  18%|█▊        | 7/40 [00:02<00:09,  3.47it/s]"
     ]
    },
    {
     "name": "stdout",
     "output_type": "stream",
     "text": [
      "[Saved] ../results/redis_cifar100/cifar_resnet_s42_e50_rd19.npz\n"
     ]
    },
    {
     "name": "stderr",
     "output_type": "stream",
     "text": [
      "Seed 42:  20%|██        | 8/40 [00:02<00:08,  3.58it/s]"
     ]
    },
    {
     "name": "stdout",
     "output_type": "stream",
     "text": [
      "[Saved] ../results/redis_cifar100/cifar_resnet_s42_e50_rd24.npz\n"
     ]
    },
    {
     "name": "stderr",
     "output_type": "stream",
     "text": [
      "Seed 42:  22%|██▎       | 9/40 [00:02<00:09,  3.30it/s]"
     ]
    },
    {
     "name": "stdout",
     "output_type": "stream",
     "text": [
      "[Saved] ../results/redis_cifar100/cifar_resnet_s42_e50_rd23.npz\n"
     ]
    },
    {
     "name": "stderr",
     "output_type": "stream",
     "text": [
      "Seed 42:  25%|██▌       | 10/40 [00:02<00:08,  3.34it/s]"
     ]
    },
    {
     "name": "stdout",
     "output_type": "stream",
     "text": [
      "[Saved] ../results/redis_cifar100/cifar_resnet_s42_e50_rd25.npz\n"
     ]
    },
    {
     "name": "stderr",
     "output_type": "stream",
     "text": [
      "Seed 42:  28%|██▊       | 11/40 [00:03<00:08,  3.42it/s]"
     ]
    },
    {
     "name": "stdout",
     "output_type": "stream",
     "text": [
      "[Saved] ../results/redis_cifar100/cifar_resnet_s42_e50_rd29.npz\n"
     ]
    },
    {
     "name": "stderr",
     "output_type": "stream",
     "text": [
      "Seed 42:  30%|███       | 12/40 [00:03<00:08,  3.48it/s]"
     ]
    },
    {
     "name": "stdout",
     "output_type": "stream",
     "text": [
      "[Saved] ../results/redis_cifar100/cifar_resnet_s42_e50_rd30.npz\n"
     ]
    },
    {
     "name": "stderr",
     "output_type": "stream",
     "text": [
      "Seed 42:  32%|███▎      | 13/40 [00:03<00:07,  3.63it/s]"
     ]
    },
    {
     "name": "stdout",
     "output_type": "stream",
     "text": [
      "[Saved] ../results/redis_cifar100/cifar_resnet_s42_e50_rd31.npz\n"
     ]
    },
    {
     "name": "stderr",
     "output_type": "stream",
     "text": [
      "Seed 42:  35%|███▌      | 14/40 [00:04<00:07,  3.66it/s]"
     ]
    },
    {
     "name": "stdout",
     "output_type": "stream",
     "text": [
      "[Saved] ../results/redis_cifar100/cifar_resnet_s42_e50_rd36.npz\n"
     ]
    },
    {
     "name": "stderr",
     "output_type": "stream",
     "text": [
      "Seed 42:  38%|███▊      | 15/40 [00:04<00:06,  3.69it/s]"
     ]
    },
    {
     "name": "stdout",
     "output_type": "stream",
     "text": [
      "[Saved] ../results/redis_cifar100/cifar_resnet_s42_e50_rd35.npz\n"
     ]
    },
    {
     "name": "stderr",
     "output_type": "stream",
     "text": [
      "Seed 42:  40%|████      | 16/40 [00:04<00:06,  3.75it/s]"
     ]
    },
    {
     "name": "stdout",
     "output_type": "stream",
     "text": [
      "[Saved] ../results/redis_cifar100/cifar_resnet_s42_e50_rd39.npz\n"
     ]
    },
    {
     "name": "stderr",
     "output_type": "stream",
     "text": [
      "Seed 42:  42%|████▎     | 17/40 [00:04<00:06,  3.81it/s]"
     ]
    },
    {
     "name": "stdout",
     "output_type": "stream",
     "text": [
      "[Saved] ../results/redis_cifar100/cifar_resnet_s42_e50_rd44.npz\n"
     ]
    },
    {
     "name": "stderr",
     "output_type": "stream",
     "text": [
      "Seed 42:  45%|████▌     | 18/40 [00:05<00:05,  3.93it/s]"
     ]
    },
    {
     "name": "stdout",
     "output_type": "stream",
     "text": [
      "[Saved] ../results/redis_cifar100/cifar_resnet_s42_e50_rd41.npz\n"
     ]
    },
    {
     "name": "stderr",
     "output_type": "stream",
     "text": [
      "Seed 42:  48%|████▊     | 19/40 [00:05<00:05,  4.05it/s]"
     ]
    },
    {
     "name": "stdout",
     "output_type": "stream",
     "text": [
      "[Saved] ../results/redis_cifar100/cifar_resnet_s42_e50_rd49.npz\n"
     ]
    },
    {
     "name": "stderr",
     "output_type": "stream",
     "text": [
      "Seed 42:  50%|█████     | 20/40 [00:05<00:04,  4.17it/s]"
     ]
    },
    {
     "name": "stdout",
     "output_type": "stream",
     "text": [
      "[Saved] ../results/redis_cifar100/cifar_resnet_s42_e50_rd48.npz\n"
     ]
    },
    {
     "name": "stderr",
     "output_type": "stream",
     "text": [
      "Seed 42:  52%|█████▎    | 21/40 [00:05<00:04,  4.19it/s]"
     ]
    },
    {
     "name": "stdout",
     "output_type": "stream",
     "text": [
      "[Saved] ../results/redis_cifar100/cifar_resnet_s42_e50_rd51.npz\n"
     ]
    },
    {
     "name": "stderr",
     "output_type": "stream",
     "text": [
      "Seed 42:  55%|█████▌    | 22/40 [00:05<00:04,  4.22it/s]"
     ]
    },
    {
     "name": "stdout",
     "output_type": "stream",
     "text": [
      "[Saved] ../results/redis_cifar100/cifar_resnet_s42_e50_rd53.npz\n"
     ]
    },
    {
     "name": "stderr",
     "output_type": "stream",
     "text": [
      "Seed 42:  57%|█████▊    | 23/40 [00:06<00:04,  4.18it/s]"
     ]
    },
    {
     "name": "stdout",
     "output_type": "stream",
     "text": [
      "[Saved] ../results/redis_cifar100/cifar_resnet_s42_e50_rd59.npz\n"
     ]
    },
    {
     "name": "stderr",
     "output_type": "stream",
     "text": [
      "Seed 42:  60%|██████    | 24/40 [00:06<00:04,  3.74it/s]"
     ]
    },
    {
     "name": "stdout",
     "output_type": "stream",
     "text": [
      "[Saved] ../results/redis_cifar100/cifar_resnet_s42_e50_rd57.npz\n"
     ]
    },
    {
     "name": "stderr",
     "output_type": "stream",
     "text": [
      "Seed 42:  62%|██████▎   | 25/40 [00:06<00:04,  3.68it/s]"
     ]
    },
    {
     "name": "stdout",
     "output_type": "stream",
     "text": [
      "[Saved] ../results/redis_cifar100/cifar_resnet_s42_e50_rd60.npz\n"
     ]
    },
    {
     "name": "stderr",
     "output_type": "stream",
     "text": [
      "Seed 42:  65%|██████▌   | 26/40 [00:07<00:03,  3.66it/s]"
     ]
    },
    {
     "name": "stdout",
     "output_type": "stream",
     "text": [
      "[Saved] ../results/redis_cifar100/cifar_resnet_s42_e50_rd61.npz\n"
     ]
    },
    {
     "name": "stderr",
     "output_type": "stream",
     "text": [
      "Seed 42:  68%|██████▊   | 27/40 [00:07<00:03,  3.74it/s]"
     ]
    },
    {
     "name": "stdout",
     "output_type": "stream",
     "text": [
      "[Saved] ../results/redis_cifar100/cifar_resnet_s42_e50_rd68.npz\n"
     ]
    },
    {
     "name": "stderr",
     "output_type": "stream",
     "text": [
      "Seed 42:  70%|███████   | 28/40 [00:07<00:03,  3.63it/s]"
     ]
    },
    {
     "name": "stdout",
     "output_type": "stream",
     "text": [
      "[Saved] ../results/redis_cifar100/cifar_resnet_s42_e50_rd67.npz\n"
     ]
    },
    {
     "name": "stderr",
     "output_type": "stream",
     "text": [
      "Seed 42:  72%|███████▎  | 29/40 [00:07<00:03,  3.66it/s]"
     ]
    },
    {
     "name": "stdout",
     "output_type": "stream",
     "text": [
      "[Saved] ../results/redis_cifar100/cifar_resnet_s42_e50_rd72.npz\n"
     ]
    },
    {
     "name": "stderr",
     "output_type": "stream",
     "text": [
      "Seed 42:  75%|███████▌  | 30/40 [00:08<00:02,  3.50it/s]"
     ]
    },
    {
     "name": "stdout",
     "output_type": "stream",
     "text": [
      "[Saved] ../results/redis_cifar100/cifar_resnet_s42_e50_rd71.npz\n"
     ]
    },
    {
     "name": "stderr",
     "output_type": "stream",
     "text": [
      "Seed 42:  78%|███████▊  | 31/40 [00:08<00:02,  3.47it/s]"
     ]
    },
    {
     "name": "stdout",
     "output_type": "stream",
     "text": [
      "[Saved] ../results/redis_cifar100/cifar_resnet_s42_e50_rd76.npz\n"
     ]
    },
    {
     "name": "stderr",
     "output_type": "stream",
     "text": [
      "Seed 42:  80%|████████  | 32/40 [00:08<00:02,  3.60it/s]"
     ]
    },
    {
     "name": "stdout",
     "output_type": "stream",
     "text": [
      "[Saved] ../results/redis_cifar100/cifar_resnet_s42_e50_rd77.npz\n"
     ]
    },
    {
     "name": "stderr",
     "output_type": "stream",
     "text": [
      "Seed 42:  82%|████████▎ | 33/40 [00:09<00:01,  3.73it/s]"
     ]
    },
    {
     "name": "stdout",
     "output_type": "stream",
     "text": [
      "[Saved] ../results/redis_cifar100/cifar_resnet_s42_e50_rd80.npz\n"
     ]
    },
    {
     "name": "stderr",
     "output_type": "stream",
     "text": [
      "Seed 42:  85%|████████▌ | 34/40 [00:09<00:01,  3.96it/s]"
     ]
    },
    {
     "name": "stdout",
     "output_type": "stream",
     "text": [
      "[Saved] ../results/redis_cifar100/cifar_resnet_s42_e50_rd84.npz\n"
     ]
    },
    {
     "name": "stderr",
     "output_type": "stream",
     "text": [
      "Seed 42:  88%|████████▊ | 35/40 [00:09<00:01,  4.04it/s]"
     ]
    },
    {
     "name": "stdout",
     "output_type": "stream",
     "text": [
      "[Saved] ../results/redis_cifar100/cifar_resnet_s42_e50_rd88.npz\n"
     ]
    },
    {
     "name": "stderr",
     "output_type": "stream",
     "text": [
      "Seed 42:  90%|█████████ | 36/40 [00:09<00:00,  4.16it/s]"
     ]
    },
    {
     "name": "stdout",
     "output_type": "stream",
     "text": [
      "[Saved] ../results/redis_cifar100/cifar_resnet_s42_e50_rd85.npz\n"
     ]
    },
    {
     "name": "stderr",
     "output_type": "stream",
     "text": [
      "Seed 42:  92%|█████████▎| 37/40 [00:09<00:00,  4.14it/s]"
     ]
    },
    {
     "name": "stdout",
     "output_type": "stream",
     "text": [
      "[Saved] ../results/redis_cifar100/cifar_resnet_s42_e50_rd92.npz\n"
     ]
    },
    {
     "name": "stderr",
     "output_type": "stream",
     "text": [
      "Seed 42:  95%|█████████▌| 38/40 [00:10<00:00,  4.18it/s]"
     ]
    },
    {
     "name": "stdout",
     "output_type": "stream",
     "text": [
      "[Saved] ../results/redis_cifar100/cifar_resnet_s42_e50_rd94.npz\n"
     ]
    },
    {
     "name": "stderr",
     "output_type": "stream",
     "text": [
      "Seed 42:  98%|█████████▊| 39/40 [00:10<00:00,  4.14it/s]"
     ]
    },
    {
     "name": "stdout",
     "output_type": "stream",
     "text": [
      "[Saved] ../results/redis_cifar100/cifar_resnet_s42_e50_rd99.npz\n"
     ]
    },
    {
     "name": "stderr",
     "output_type": "stream",
     "text": [
      "                                                        \r"
     ]
    },
    {
     "name": "stdout",
     "output_type": "stream",
     "text": [
      "[Saved] ../results/redis_cifar100/cifar_resnet_s42_e50_rd97.npz\n"
     ]
    },
    {
     "name": "stderr",
     "output_type": "stream",
     "text": [
      "Seed 602:   2%|▎         | 1/40 [00:00<00:07,  4.89it/s]"
     ]
    },
    {
     "name": "stdout",
     "output_type": "stream",
     "text": [
      "[Saved] ../results/redis_cifar100/cifar_resnet_s602_e50_rd4.npz\n"
     ]
    },
    {
     "name": "stderr",
     "output_type": "stream",
     "text": [
      "Seed 602:   5%|▌         | 2/40 [00:00<00:07,  4.91it/s]"
     ]
    },
    {
     "name": "stdout",
     "output_type": "stream",
     "text": [
      "[Saved] ../results/redis_cifar100/cifar_resnet_s602_e50_rd7.npz\n"
     ]
    },
    {
     "name": "stderr",
     "output_type": "stream",
     "text": [
      "Seed 602:  10%|█         | 4/40 [00:00<00:07,  4.86it/s]"
     ]
    },
    {
     "name": "stdout",
     "output_type": "stream",
     "text": [
      "[Saved] ../results/redis_cifar100/cifar_resnet_s602_e50_rd6.npz\n",
      "[Saved] ../results/redis_cifar100/cifar_resnet_s602_e50_rd11.npz\n"
     ]
    },
    {
     "name": "stderr",
     "output_type": "stream",
     "text": [
      "Seed 602:  12%|█▎        | 5/40 [00:01<00:07,  4.38it/s]"
     ]
    },
    {
     "name": "stdout",
     "output_type": "stream",
     "text": [
      "[Saved] ../results/redis_cifar100/cifar_resnet_s602_e50_rd14.npz\n"
     ]
    },
    {
     "name": "stderr",
     "output_type": "stream",
     "text": [
      "Seed 602:  15%|█▌        | 6/40 [00:01<00:07,  4.31it/s]"
     ]
    },
    {
     "name": "stdout",
     "output_type": "stream",
     "text": [
      "[Saved] ../results/redis_cifar100/cifar_resnet_s602_e50_rd15.npz\n"
     ]
    },
    {
     "name": "stderr",
     "output_type": "stream",
     "text": [
      "Seed 602:  18%|█▊        | 7/40 [00:01<00:07,  4.45it/s]"
     ]
    },
    {
     "name": "stdout",
     "output_type": "stream",
     "text": [
      "[Saved] ../results/redis_cifar100/cifar_resnet_s602_e50_rd19.npz\n"
     ]
    },
    {
     "name": "stderr",
     "output_type": "stream",
     "text": [
      "Seed 602:  20%|██        | 8/40 [00:01<00:07,  4.25it/s]"
     ]
    },
    {
     "name": "stdout",
     "output_type": "stream",
     "text": [
      "[Saved] ../results/redis_cifar100/cifar_resnet_s602_e50_rd24.npz\n"
     ]
    },
    {
     "name": "stderr",
     "output_type": "stream",
     "text": [
      "Seed 602:  22%|██▎       | 9/40 [00:02<00:07,  4.17it/s]"
     ]
    },
    {
     "name": "stdout",
     "output_type": "stream",
     "text": [
      "[Saved] ../results/redis_cifar100/cifar_resnet_s602_e50_rd23.npz\n"
     ]
    },
    {
     "name": "stderr",
     "output_type": "stream",
     "text": [
      "Seed 602:  25%|██▌       | 10/40 [00:02<00:06,  4.30it/s]"
     ]
    },
    {
     "name": "stdout",
     "output_type": "stream",
     "text": [
      "[Saved] ../results/redis_cifar100/cifar_resnet_s602_e50_rd25.npz\n"
     ]
    },
    {
     "name": "stderr",
     "output_type": "stream",
     "text": [
      "Seed 602:  28%|██▊       | 11/40 [00:02<00:06,  4.44it/s]"
     ]
    },
    {
     "name": "stdout",
     "output_type": "stream",
     "text": [
      "[Saved] ../results/redis_cifar100/cifar_resnet_s602_e50_rd29.npz\n"
     ]
    },
    {
     "name": "stderr",
     "output_type": "stream",
     "text": [
      "Seed 602:  32%|███▎      | 13/40 [00:02<00:05,  4.72it/s]"
     ]
    },
    {
     "name": "stdout",
     "output_type": "stream",
     "text": [
      "[Saved] ../results/redis_cifar100/cifar_resnet_s602_e50_rd30.npz\n",
      "[Saved] ../results/redis_cifar100/cifar_resnet_s602_e50_rd31.npz\n"
     ]
    },
    {
     "name": "stderr",
     "output_type": "stream",
     "text": [
      "Seed 602:  35%|███▌      | 14/40 [00:03<00:05,  4.82it/s]"
     ]
    },
    {
     "name": "stdout",
     "output_type": "stream",
     "text": [
      "[Saved] ../results/redis_cifar100/cifar_resnet_s602_e50_rd36.npz\n"
     ]
    },
    {
     "name": "stderr",
     "output_type": "stream",
     "text": [
      "Seed 602:  38%|███▊      | 15/40 [00:03<00:05,  4.85it/s]"
     ]
    },
    {
     "name": "stdout",
     "output_type": "stream",
     "text": [
      "[Saved] ../results/redis_cifar100/cifar_resnet_s602_e50_rd35.npz\n"
     ]
    },
    {
     "name": "stderr",
     "output_type": "stream",
     "text": [
      "Seed 602:  40%|████      | 16/40 [00:03<00:05,  4.65it/s]"
     ]
    },
    {
     "name": "stdout",
     "output_type": "stream",
     "text": [
      "[Saved] ../results/redis_cifar100/cifar_resnet_s602_e50_rd39.npz\n"
     ]
    },
    {
     "name": "stderr",
     "output_type": "stream",
     "text": [
      "Seed 602:  45%|████▌     | 18/40 [00:03<00:04,  4.82it/s]"
     ]
    },
    {
     "name": "stdout",
     "output_type": "stream",
     "text": [
      "[Saved] ../results/redis_cifar100/cifar_resnet_s602_e50_rd44.npz\n",
      "[Saved] ../results/redis_cifar100/cifar_resnet_s602_e50_rd41.npz\n"
     ]
    },
    {
     "name": "stderr",
     "output_type": "stream",
     "text": [
      "Seed 602:  48%|████▊     | 19/40 [00:04<00:04,  4.86it/s]"
     ]
    },
    {
     "name": "stdout",
     "output_type": "stream",
     "text": [
      "[Saved] ../results/redis_cifar100/cifar_resnet_s602_e50_rd49.npz\n"
     ]
    },
    {
     "name": "stderr",
     "output_type": "stream",
     "text": [
      "Seed 602:  50%|█████     | 20/40 [00:04<00:04,  4.76it/s]"
     ]
    },
    {
     "name": "stdout",
     "output_type": "stream",
     "text": [
      "[Saved] ../results/redis_cifar100/cifar_resnet_s602_e50_rd48.npz\n"
     ]
    },
    {
     "name": "stderr",
     "output_type": "stream",
     "text": [
      "Seed 602:  52%|█████▎    | 21/40 [00:04<00:04,  4.68it/s]"
     ]
    },
    {
     "name": "stdout",
     "output_type": "stream",
     "text": [
      "[Saved] ../results/redis_cifar100/cifar_resnet_s602_e50_rd51.npz\n"
     ]
    },
    {
     "name": "stderr",
     "output_type": "stream",
     "text": [
      "Seed 602:  55%|█████▌    | 22/40 [00:04<00:03,  4.69it/s]"
     ]
    },
    {
     "name": "stdout",
     "output_type": "stream",
     "text": [
      "[Saved] ../results/redis_cifar100/cifar_resnet_s602_e50_rd53.npz\n"
     ]
    },
    {
     "name": "stderr",
     "output_type": "stream",
     "text": [
      "Seed 602:  57%|█████▊    | 23/40 [00:04<00:03,  4.74it/s]"
     ]
    },
    {
     "name": "stdout",
     "output_type": "stream",
     "text": [
      "[Saved] ../results/redis_cifar100/cifar_resnet_s602_e50_rd59.npz\n"
     ]
    },
    {
     "name": "stderr",
     "output_type": "stream",
     "text": [
      "Seed 602:  60%|██████    | 24/40 [00:05<00:03,  4.69it/s]"
     ]
    },
    {
     "name": "stdout",
     "output_type": "stream",
     "text": [
      "[Saved] ../results/redis_cifar100/cifar_resnet_s602_e50_rd57.npz\n"
     ]
    },
    {
     "name": "stderr",
     "output_type": "stream",
     "text": [
      "Seed 602:  62%|██████▎   | 25/40 [00:05<00:03,  4.74it/s]"
     ]
    },
    {
     "name": "stdout",
     "output_type": "stream",
     "text": [
      "[Saved] ../results/redis_cifar100/cifar_resnet_s602_e50_rd60.npz\n"
     ]
    },
    {
     "name": "stderr",
     "output_type": "stream",
     "text": [
      "Seed 602:  65%|██████▌   | 26/40 [00:05<00:03,  4.58it/s]"
     ]
    },
    {
     "name": "stdout",
     "output_type": "stream",
     "text": [
      "[Saved] ../results/redis_cifar100/cifar_resnet_s602_e50_rd61.npz\n"
     ]
    },
    {
     "name": "stderr",
     "output_type": "stream",
     "text": [
      "Seed 602:  68%|██████▊   | 27/40 [00:05<00:02,  4.59it/s]"
     ]
    },
    {
     "name": "stdout",
     "output_type": "stream",
     "text": [
      "[Saved] ../results/redis_cifar100/cifar_resnet_s602_e50_rd68.npz\n"
     ]
    },
    {
     "name": "stderr",
     "output_type": "stream",
     "text": [
      "Seed 602:  72%|███████▎  | 29/40 [00:06<00:02,  4.71it/s]"
     ]
    },
    {
     "name": "stdout",
     "output_type": "stream",
     "text": [
      "[Saved] ../results/redis_cifar100/cifar_resnet_s602_e50_rd67.npz\n",
      "[Saved] ../results/redis_cifar100/cifar_resnet_s602_e50_rd72.npz\n"
     ]
    },
    {
     "name": "stderr",
     "output_type": "stream",
     "text": [
      "Seed 602:  75%|███████▌  | 30/40 [00:06<00:02,  4.81it/s]"
     ]
    },
    {
     "name": "stdout",
     "output_type": "stream",
     "text": [
      "[Saved] ../results/redis_cifar100/cifar_resnet_s602_e50_rd71.npz\n"
     ]
    },
    {
     "name": "stderr",
     "output_type": "stream",
     "text": [
      "Seed 602:  78%|███████▊  | 31/40 [00:06<00:01,  4.79it/s]"
     ]
    },
    {
     "name": "stdout",
     "output_type": "stream",
     "text": [
      "[Saved] ../results/redis_cifar100/cifar_resnet_s602_e50_rd76.npz\n"
     ]
    },
    {
     "name": "stderr",
     "output_type": "stream",
     "text": [
      "Seed 602:  80%|████████  | 32/40 [00:06<00:01,  4.84it/s]"
     ]
    },
    {
     "name": "stdout",
     "output_type": "stream",
     "text": [
      "[Saved] ../results/redis_cifar100/cifar_resnet_s602_e50_rd77.npz\n"
     ]
    },
    {
     "name": "stderr",
     "output_type": "stream",
     "text": [
      "Seed 602:  82%|████████▎ | 33/40 [00:07<00:01,  4.84it/s]"
     ]
    },
    {
     "name": "stdout",
     "output_type": "stream",
     "text": [
      "[Saved] ../results/redis_cifar100/cifar_resnet_s602_e50_rd80.npz\n"
     ]
    },
    {
     "name": "stderr",
     "output_type": "stream",
     "text": [
      "Seed 602:  85%|████████▌ | 34/40 [00:07<00:01,  4.86it/s]"
     ]
    },
    {
     "name": "stdout",
     "output_type": "stream",
     "text": [
      "[Saved] ../results/redis_cifar100/cifar_resnet_s602_e50_rd84.npz\n"
     ]
    },
    {
     "name": "stderr",
     "output_type": "stream",
     "text": [
      "Seed 602:  88%|████████▊ | 35/40 [00:07<00:01,  4.81it/s]"
     ]
    },
    {
     "name": "stdout",
     "output_type": "stream",
     "text": [
      "[Saved] ../results/redis_cifar100/cifar_resnet_s602_e50_rd88.npz\n"
     ]
    },
    {
     "name": "stderr",
     "output_type": "stream",
     "text": [
      "Seed 602:  90%|█████████ | 36/40 [00:07<00:00,  4.32it/s]"
     ]
    },
    {
     "name": "stdout",
     "output_type": "stream",
     "text": [
      "[Saved] ../results/redis_cifar100/cifar_resnet_s602_e50_rd85.npz\n"
     ]
    },
    {
     "name": "stderr",
     "output_type": "stream",
     "text": [
      "Seed 602:  92%|█████████▎| 37/40 [00:08<00:00,  4.16it/s]"
     ]
    },
    {
     "name": "stdout",
     "output_type": "stream",
     "text": [
      "[Saved] ../results/redis_cifar100/cifar_resnet_s602_e50_rd92.npz\n"
     ]
    },
    {
     "name": "stderr",
     "output_type": "stream",
     "text": [
      "Seed 602:  95%|█████████▌| 38/40 [00:08<00:00,  3.94it/s]"
     ]
    },
    {
     "name": "stdout",
     "output_type": "stream",
     "text": [
      "[Saved] ../results/redis_cifar100/cifar_resnet_s602_e50_rd94.npz\n"
     ]
    },
    {
     "name": "stderr",
     "output_type": "stream",
     "text": [
      "Seed 602:  98%|█████████▊| 39/40 [00:08<00:00,  4.13it/s]"
     ]
    },
    {
     "name": "stdout",
     "output_type": "stream",
     "text": [
      "[Saved] ../results/redis_cifar100/cifar_resnet_s602_e50_rd99.npz\n"
     ]
    },
    {
     "name": "stderr",
     "output_type": "stream",
     "text": [
      "                                                         \r"
     ]
    },
    {
     "name": "stdout",
     "output_type": "stream",
     "text": [
      "[Saved] ../results/redis_cifar100/cifar_resnet_s602_e50_rd97.npz\n"
     ]
    },
    {
     "name": "stderr",
     "output_type": "stream",
     "text": [
      "Seed 311:   2%|▎         | 1/40 [00:00<00:10,  3.87it/s]"
     ]
    },
    {
     "name": "stdout",
     "output_type": "stream",
     "text": [
      "[Saved] ../results/redis_cifar100/cifar_resnet_s311_e50_rd4.npz\n"
     ]
    },
    {
     "name": "stderr",
     "output_type": "stream",
     "text": [
      "Seed 311:   5%|▌         | 2/40 [00:00<00:09,  4.08it/s]"
     ]
    },
    {
     "name": "stdout",
     "output_type": "stream",
     "text": [
      "[Saved] ../results/redis_cifar100/cifar_resnet_s311_e50_rd7.npz\n"
     ]
    },
    {
     "name": "stderr",
     "output_type": "stream",
     "text": [
      "Seed 311:   8%|▊         | 3/40 [00:00<00:08,  4.38it/s]"
     ]
    },
    {
     "name": "stdout",
     "output_type": "stream",
     "text": [
      "[Saved] ../results/redis_cifar100/cifar_resnet_s311_e50_rd6.npz\n"
     ]
    },
    {
     "name": "stderr",
     "output_type": "stream",
     "text": [
      "Seed 311:  10%|█         | 4/40 [00:00<00:08,  4.29it/s]"
     ]
    },
    {
     "name": "stdout",
     "output_type": "stream",
     "text": [
      "[Saved] ../results/redis_cifar100/cifar_resnet_s311_e50_rd11.npz\n"
     ]
    },
    {
     "name": "stderr",
     "output_type": "stream",
     "text": [
      "Seed 311:  12%|█▎        | 5/40 [00:01<00:07,  4.47it/s]"
     ]
    },
    {
     "name": "stdout",
     "output_type": "stream",
     "text": [
      "[Saved] ../results/redis_cifar100/cifar_resnet_s311_e50_rd14.npz\n"
     ]
    },
    {
     "name": "stderr",
     "output_type": "stream",
     "text": [
      "Seed 311:  15%|█▌        | 6/40 [00:01<00:07,  4.61it/s]"
     ]
    },
    {
     "name": "stdout",
     "output_type": "stream",
     "text": [
      "[Saved] ../results/redis_cifar100/cifar_resnet_s311_e50_rd15.npz\n"
     ]
    },
    {
     "name": "stderr",
     "output_type": "stream",
     "text": [
      "Seed 311:  18%|█▊        | 7/40 [00:01<00:07,  4.56it/s]"
     ]
    },
    {
     "name": "stdout",
     "output_type": "stream",
     "text": [
      "[Saved] ../results/redis_cifar100/cifar_resnet_s311_e50_rd19.npz\n"
     ]
    },
    {
     "name": "stderr",
     "output_type": "stream",
     "text": [
      "Seed 311:  20%|██        | 8/40 [00:01<00:07,  4.43it/s]"
     ]
    },
    {
     "name": "stdout",
     "output_type": "stream",
     "text": [
      "[Saved] ../results/redis_cifar100/cifar_resnet_s311_e50_rd24.npz\n"
     ]
    },
    {
     "name": "stderr",
     "output_type": "stream",
     "text": [
      "Seed 311:  22%|██▎       | 9/40 [00:02<00:06,  4.56it/s]"
     ]
    },
    {
     "name": "stdout",
     "output_type": "stream",
     "text": [
      "[Saved] ../results/redis_cifar100/cifar_resnet_s311_e50_rd23.npz\n"
     ]
    },
    {
     "name": "stderr",
     "output_type": "stream",
     "text": [
      "Seed 311:  25%|██▌       | 10/40 [00:02<00:07,  4.04it/s]"
     ]
    },
    {
     "name": "stdout",
     "output_type": "stream",
     "text": [
      "[Saved] ../results/redis_cifar100/cifar_resnet_s311_e50_rd25.npz\n"
     ]
    },
    {
     "name": "stderr",
     "output_type": "stream",
     "text": [
      "Seed 311:  28%|██▊       | 11/40 [00:02<00:07,  4.08it/s]"
     ]
    },
    {
     "name": "stdout",
     "output_type": "stream",
     "text": [
      "[Saved] ../results/redis_cifar100/cifar_resnet_s311_e50_rd29.npz\n"
     ]
    },
    {
     "name": "stderr",
     "output_type": "stream",
     "text": [
      "Seed 311:  30%|███       | 12/40 [00:02<00:07,  3.81it/s]"
     ]
    },
    {
     "name": "stdout",
     "output_type": "stream",
     "text": [
      "[Saved] ../results/redis_cifar100/cifar_resnet_s311_e50_rd30.npz\n"
     ]
    },
    {
     "name": "stderr",
     "output_type": "stream",
     "text": [
      "Seed 311:  32%|███▎      | 13/40 [00:03<00:07,  3.64it/s]"
     ]
    },
    {
     "name": "stdout",
     "output_type": "stream",
     "text": [
      "[Saved] ../results/redis_cifar100/cifar_resnet_s311_e50_rd31.npz\n"
     ]
    },
    {
     "name": "stderr",
     "output_type": "stream",
     "text": [
      "Seed 311:  35%|███▌      | 14/40 [00:03<00:06,  3.82it/s]"
     ]
    },
    {
     "name": "stdout",
     "output_type": "stream",
     "text": [
      "[Saved] ../results/redis_cifar100/cifar_resnet_s311_e50_rd36.npz\n"
     ]
    },
    {
     "name": "stderr",
     "output_type": "stream",
     "text": [
      "Seed 311:  38%|███▊      | 15/40 [00:03<00:06,  3.71it/s]"
     ]
    },
    {
     "name": "stdout",
     "output_type": "stream",
     "text": [
      "[Saved] ../results/redis_cifar100/cifar_resnet_s311_e50_rd35.npz\n"
     ]
    },
    {
     "name": "stderr",
     "output_type": "stream",
     "text": [
      "Seed 311:  40%|████      | 16/40 [00:03<00:06,  3.60it/s]"
     ]
    },
    {
     "name": "stdout",
     "output_type": "stream",
     "text": [
      "[Saved] ../results/redis_cifar100/cifar_resnet_s311_e50_rd39.npz\n"
     ]
    },
    {
     "name": "stderr",
     "output_type": "stream",
     "text": [
      "Seed 311:  42%|████▎     | 17/40 [00:04<00:05,  3.87it/s]"
     ]
    },
    {
     "name": "stdout",
     "output_type": "stream",
     "text": [
      "[Saved] ../results/redis_cifar100/cifar_resnet_s311_e50_rd44.npz\n"
     ]
    },
    {
     "name": "stderr",
     "output_type": "stream",
     "text": [
      "Seed 311:  45%|████▌     | 18/40 [00:04<00:05,  3.78it/s]"
     ]
    },
    {
     "name": "stdout",
     "output_type": "stream",
     "text": [
      "[Saved] ../results/redis_cifar100/cifar_resnet_s311_e50_rd41.npz\n"
     ]
    },
    {
     "name": "stderr",
     "output_type": "stream",
     "text": [
      "Seed 311:  48%|████▊     | 19/40 [00:04<00:05,  3.62it/s]"
     ]
    },
    {
     "name": "stdout",
     "output_type": "stream",
     "text": [
      "[Saved] ../results/redis_cifar100/cifar_resnet_s311_e50_rd49.npz\n"
     ]
    },
    {
     "name": "stderr",
     "output_type": "stream",
     "text": [
      "Seed 311:  50%|█████     | 20/40 [00:05<00:05,  3.74it/s]"
     ]
    },
    {
     "name": "stdout",
     "output_type": "stream",
     "text": [
      "[Saved] ../results/redis_cifar100/cifar_resnet_s311_e50_rd48.npz\n"
     ]
    },
    {
     "name": "stderr",
     "output_type": "stream",
     "text": [
      "Seed 311:  52%|█████▎    | 21/40 [00:05<00:05,  3.65it/s]"
     ]
    },
    {
     "name": "stdout",
     "output_type": "stream",
     "text": [
      "[Saved] ../results/redis_cifar100/cifar_resnet_s311_e50_rd51.npz\n"
     ]
    },
    {
     "name": "stderr",
     "output_type": "stream",
     "text": [
      "Seed 311:  55%|█████▌    | 22/40 [00:05<00:04,  3.92it/s]"
     ]
    },
    {
     "name": "stdout",
     "output_type": "stream",
     "text": [
      "[Saved] ../results/redis_cifar100/cifar_resnet_s311_e50_rd53.npz\n"
     ]
    },
    {
     "name": "stderr",
     "output_type": "stream",
     "text": [
      "Seed 311:  57%|█████▊    | 23/40 [00:05<00:04,  3.82it/s]"
     ]
    },
    {
     "name": "stdout",
     "output_type": "stream",
     "text": [
      "[Saved] ../results/redis_cifar100/cifar_resnet_s311_e50_rd59.npz\n"
     ]
    },
    {
     "name": "stderr",
     "output_type": "stream",
     "text": [
      "Seed 311:  60%|██████    | 24/40 [00:06<00:04,  3.90it/s]"
     ]
    },
    {
     "name": "stdout",
     "output_type": "stream",
     "text": [
      "[Saved] ../results/redis_cifar100/cifar_resnet_s311_e50_rd57.npz\n"
     ]
    },
    {
     "name": "stderr",
     "output_type": "stream",
     "text": [
      "Seed 311:  62%|██████▎   | 25/40 [00:06<00:03,  4.13it/s]"
     ]
    },
    {
     "name": "stdout",
     "output_type": "stream",
     "text": [
      "[Saved] ../results/redis_cifar100/cifar_resnet_s311_e50_rd60.npz\n"
     ]
    },
    {
     "name": "stderr",
     "output_type": "stream",
     "text": [
      "Seed 311:  65%|██████▌   | 26/40 [00:06<00:03,  4.30it/s]"
     ]
    },
    {
     "name": "stdout",
     "output_type": "stream",
     "text": [
      "[Saved] ../results/redis_cifar100/cifar_resnet_s311_e50_rd61.npz\n"
     ]
    },
    {
     "name": "stderr",
     "output_type": "stream",
     "text": [
      "Seed 311:  68%|██████▊   | 27/40 [00:06<00:03,  4.20it/s]"
     ]
    },
    {
     "name": "stdout",
     "output_type": "stream",
     "text": [
      "[Saved] ../results/redis_cifar100/cifar_resnet_s311_e50_rd68.npz\n"
     ]
    },
    {
     "name": "stderr",
     "output_type": "stream",
     "text": [
      "Seed 311:  70%|███████   | 28/40 [00:06<00:02,  4.24it/s]"
     ]
    },
    {
     "name": "stdout",
     "output_type": "stream",
     "text": [
      "[Saved] ../results/redis_cifar100/cifar_resnet_s311_e50_rd67.npz\n"
     ]
    },
    {
     "name": "stderr",
     "output_type": "stream",
     "text": [
      "Seed 311:  72%|███████▎  | 29/40 [00:07<00:02,  4.34it/s]"
     ]
    },
    {
     "name": "stdout",
     "output_type": "stream",
     "text": [
      "[Saved] ../results/redis_cifar100/cifar_resnet_s311_e50_rd72.npz\n"
     ]
    },
    {
     "name": "stderr",
     "output_type": "stream",
     "text": [
      "Seed 311:  75%|███████▌  | 30/40 [00:07<00:02,  4.51it/s]"
     ]
    },
    {
     "name": "stdout",
     "output_type": "stream",
     "text": [
      "[Saved] ../results/redis_cifar100/cifar_resnet_s311_e50_rd71.npz\n"
     ]
    },
    {
     "name": "stderr",
     "output_type": "stream",
     "text": [
      "Seed 311:  78%|███████▊  | 31/40 [00:07<00:01,  4.63it/s]"
     ]
    },
    {
     "name": "stdout",
     "output_type": "stream",
     "text": [
      "[Saved] ../results/redis_cifar100/cifar_resnet_s311_e50_rd76.npz\n"
     ]
    },
    {
     "name": "stderr",
     "output_type": "stream",
     "text": [
      "Seed 311:  80%|████████  | 32/40 [00:07<00:01,  4.66it/s]"
     ]
    },
    {
     "name": "stdout",
     "output_type": "stream",
     "text": [
      "[Saved] ../results/redis_cifar100/cifar_resnet_s311_e50_rd77.npz\n"
     ]
    },
    {
     "name": "stderr",
     "output_type": "stream",
     "text": [
      "Seed 311:  85%|████████▌ | 34/40 [00:08<00:01,  4.56it/s]"
     ]
    },
    {
     "name": "stdout",
     "output_type": "stream",
     "text": [
      "[Saved] ../results/redis_cifar100/cifar_resnet_s311_e50_rd80.npz\n",
      "[Saved] ../results/redis_cifar100/cifar_resnet_s311_e50_rd84.npz\n"
     ]
    },
    {
     "name": "stderr",
     "output_type": "stream",
     "text": [
      "Seed 311:  88%|████████▊ | 35/40 [00:08<00:01,  4.62it/s]"
     ]
    },
    {
     "name": "stdout",
     "output_type": "stream",
     "text": [
      "[Saved] ../results/redis_cifar100/cifar_resnet_s311_e50_rd88.npz\n"
     ]
    },
    {
     "name": "stderr",
     "output_type": "stream",
     "text": [
      "Seed 311:  90%|█████████ | 36/40 [00:08<00:00,  4.66it/s]"
     ]
    },
    {
     "name": "stdout",
     "output_type": "stream",
     "text": [
      "[Saved] ../results/redis_cifar100/cifar_resnet_s311_e50_rd85.npz\n"
     ]
    },
    {
     "name": "stderr",
     "output_type": "stream",
     "text": [
      "Seed 311:  92%|█████████▎| 37/40 [00:08<00:00,  4.65it/s]"
     ]
    },
    {
     "name": "stdout",
     "output_type": "stream",
     "text": [
      "[Saved] ../results/redis_cifar100/cifar_resnet_s311_e50_rd92.npz\n"
     ]
    },
    {
     "name": "stderr",
     "output_type": "stream",
     "text": [
      "Seed 311:  95%|█████████▌| 38/40 [00:09<00:00,  4.65it/s]"
     ]
    },
    {
     "name": "stdout",
     "output_type": "stream",
     "text": [
      "[Saved] ../results/redis_cifar100/cifar_resnet_s311_e50_rd94.npz\n"
     ]
    },
    {
     "name": "stderr",
     "output_type": "stream",
     "text": [
      "Seed 311:  98%|█████████▊| 39/40 [00:09<00:00,  4.72it/s]"
     ]
    },
    {
     "name": "stdout",
     "output_type": "stream",
     "text": [
      "[Saved] ../results/redis_cifar100/cifar_resnet_s311_e50_rd99.npz\n"
     ]
    },
    {
     "name": "stderr",
     "output_type": "stream",
     "text": [
      "                                                         \r"
     ]
    },
    {
     "name": "stdout",
     "output_type": "stream",
     "text": [
      "[Saved] ../results/redis_cifar100/cifar_resnet_s311_e50_rd97.npz\n"
     ]
    },
    {
     "name": "stderr",
     "output_type": "stream",
     "text": [
      "Seed 637:   2%|▎         | 1/40 [00:00<00:07,  4.98it/s]"
     ]
    },
    {
     "name": "stdout",
     "output_type": "stream",
     "text": [
      "[Saved] ../results/redis_cifar100/cifar_resnet_s637_e50_rd4.npz\n"
     ]
    },
    {
     "name": "stderr",
     "output_type": "stream",
     "text": [
      "Seed 637:   5%|▌         | 2/40 [00:00<00:07,  4.92it/s]"
     ]
    },
    {
     "name": "stdout",
     "output_type": "stream",
     "text": [
      "[Saved] ../results/redis_cifar100/cifar_resnet_s637_e50_rd7.npz\n"
     ]
    },
    {
     "name": "stderr",
     "output_type": "stream",
     "text": [
      "Seed 637:   8%|▊         | 3/40 [00:00<00:07,  4.90it/s]"
     ]
    },
    {
     "name": "stdout",
     "output_type": "stream",
     "text": [
      "[Saved] ../results/redis_cifar100/cifar_resnet_s637_e50_rd6.npz\n"
     ]
    },
    {
     "name": "stderr",
     "output_type": "stream",
     "text": [
      "Seed 637:  10%|█         | 4/40 [00:00<00:07,  4.80it/s]"
     ]
    },
    {
     "name": "stdout",
     "output_type": "stream",
     "text": [
      "[Saved] ../results/redis_cifar100/cifar_resnet_s637_e50_rd11.npz\n"
     ]
    },
    {
     "name": "stderr",
     "output_type": "stream",
     "text": [
      "Seed 637:  12%|█▎        | 5/40 [00:01<00:07,  4.79it/s]"
     ]
    },
    {
     "name": "stdout",
     "output_type": "stream",
     "text": [
      "[Saved] ../results/redis_cifar100/cifar_resnet_s637_e50_rd14.npz\n"
     ]
    },
    {
     "name": "stderr",
     "output_type": "stream",
     "text": [
      "Seed 637:  15%|█▌        | 6/40 [00:01<00:07,  4.70it/s]"
     ]
    },
    {
     "name": "stdout",
     "output_type": "stream",
     "text": [
      "[Saved] ../results/redis_cifar100/cifar_resnet_s637_e50_rd15.npz\n"
     ]
    },
    {
     "name": "stderr",
     "output_type": "stream",
     "text": [
      "Seed 637:  18%|█▊        | 7/40 [00:01<00:07,  4.62it/s]"
     ]
    },
    {
     "name": "stdout",
     "output_type": "stream",
     "text": [
      "[Saved] ../results/redis_cifar100/cifar_resnet_s637_e50_rd19.npz\n"
     ]
    },
    {
     "name": "stderr",
     "output_type": "stream",
     "text": [
      "Seed 637:  20%|██        | 8/40 [00:01<00:07,  4.51it/s]"
     ]
    },
    {
     "name": "stdout",
     "output_type": "stream",
     "text": [
      "[Saved] ../results/redis_cifar100/cifar_resnet_s637_e50_rd24.npz\n"
     ]
    },
    {
     "name": "stderr",
     "output_type": "stream",
     "text": [
      "Seed 637:  22%|██▎       | 9/40 [00:01<00:07,  4.41it/s]"
     ]
    },
    {
     "name": "stdout",
     "output_type": "stream",
     "text": [
      "[Saved] ../results/redis_cifar100/cifar_resnet_s637_e50_rd23.npz\n"
     ]
    },
    {
     "name": "stderr",
     "output_type": "stream",
     "text": [
      "Seed 637:  25%|██▌       | 10/40 [00:02<00:06,  4.42it/s]"
     ]
    },
    {
     "name": "stdout",
     "output_type": "stream",
     "text": [
      "[Saved] ../results/redis_cifar100/cifar_resnet_s637_e50_rd25.npz\n"
     ]
    },
    {
     "name": "stderr",
     "output_type": "stream",
     "text": [
      "Seed 637:  30%|███       | 12/40 [00:02<00:06,  4.62it/s]"
     ]
    },
    {
     "name": "stdout",
     "output_type": "stream",
     "text": [
      "[Saved] ../results/redis_cifar100/cifar_resnet_s637_e50_rd29.npz\n",
      "[Saved] ../results/redis_cifar100/cifar_resnet_s637_e50_rd30.npz\n"
     ]
    },
    {
     "name": "stderr",
     "output_type": "stream",
     "text": [
      "Seed 637:  32%|███▎      | 13/40 [00:02<00:05,  4.54it/s]"
     ]
    },
    {
     "name": "stdout",
     "output_type": "stream",
     "text": [
      "[Saved] ../results/redis_cifar100/cifar_resnet_s637_e50_rd31.npz\n"
     ]
    },
    {
     "name": "stderr",
     "output_type": "stream",
     "text": [
      "Seed 637:  35%|███▌      | 14/40 [00:03<00:05,  4.47it/s]"
     ]
    },
    {
     "name": "stdout",
     "output_type": "stream",
     "text": [
      "[Saved] ../results/redis_cifar100/cifar_resnet_s637_e50_rd36.npz\n"
     ]
    },
    {
     "name": "stderr",
     "output_type": "stream",
     "text": [
      "Seed 637:  38%|███▊      | 15/40 [00:03<00:05,  4.51it/s]"
     ]
    },
    {
     "name": "stdout",
     "output_type": "stream",
     "text": [
      "[Saved] ../results/redis_cifar100/cifar_resnet_s637_e50_rd35.npz\n"
     ]
    },
    {
     "name": "stderr",
     "output_type": "stream",
     "text": [
      "Seed 637:  40%|████      | 16/40 [00:03<00:05,  4.63it/s]"
     ]
    },
    {
     "name": "stdout",
     "output_type": "stream",
     "text": [
      "[Saved] ../results/redis_cifar100/cifar_resnet_s637_e50_rd39.npz\n"
     ]
    },
    {
     "name": "stderr",
     "output_type": "stream",
     "text": [
      "Seed 637:  42%|████▎     | 17/40 [00:03<00:04,  4.60it/s]"
     ]
    },
    {
     "name": "stdout",
     "output_type": "stream",
     "text": [
      "[Saved] ../results/redis_cifar100/cifar_resnet_s637_e50_rd44.npz\n"
     ]
    },
    {
     "name": "stderr",
     "output_type": "stream",
     "text": [
      "Seed 637:  45%|████▌     | 18/40 [00:03<00:04,  4.64it/s]"
     ]
    },
    {
     "name": "stdout",
     "output_type": "stream",
     "text": [
      "[Saved] ../results/redis_cifar100/cifar_resnet_s637_e50_rd41.npz\n"
     ]
    },
    {
     "name": "stderr",
     "output_type": "stream",
     "text": [
      "Seed 637:  48%|████▊     | 19/40 [00:04<00:04,  4.47it/s]"
     ]
    },
    {
     "name": "stdout",
     "output_type": "stream",
     "text": [
      "[Saved] ../results/redis_cifar100/cifar_resnet_s637_e50_rd49.npz\n"
     ]
    },
    {
     "name": "stderr",
     "output_type": "stream",
     "text": [
      "Seed 637:  50%|█████     | 20/40 [00:04<00:05,  4.00it/s]"
     ]
    },
    {
     "name": "stdout",
     "output_type": "stream",
     "text": [
      "[Saved] ../results/redis_cifar100/cifar_resnet_s637_e50_rd48.npz\n"
     ]
    },
    {
     "name": "stderr",
     "output_type": "stream",
     "text": [
      "Seed 637:  55%|█████▌    | 22/40 [00:04<00:04,  4.35it/s]"
     ]
    },
    {
     "name": "stdout",
     "output_type": "stream",
     "text": [
      "[Saved] ../results/redis_cifar100/cifar_resnet_s637_e50_rd51.npz\n",
      "[Saved] ../results/redis_cifar100/cifar_resnet_s637_e50_rd53.npz\n"
     ]
    },
    {
     "name": "stderr",
     "output_type": "stream",
     "text": [
      "Seed 637:  57%|█████▊    | 23/40 [00:05<00:04,  4.07it/s]"
     ]
    },
    {
     "name": "stdout",
     "output_type": "stream",
     "text": [
      "[Saved] ../results/redis_cifar100/cifar_resnet_s637_e50_rd59.npz\n"
     ]
    },
    {
     "name": "stderr",
     "output_type": "stream",
     "text": [
      "Seed 637:  60%|██████    | 24/40 [00:05<00:04,  3.88it/s]"
     ]
    },
    {
     "name": "stdout",
     "output_type": "stream",
     "text": [
      "[Saved] ../results/redis_cifar100/cifar_resnet_s637_e50_rd57.npz\n"
     ]
    },
    {
     "name": "stderr",
     "output_type": "stream",
     "text": [
      "Seed 637:  62%|██████▎   | 25/40 [00:05<00:03,  3.98it/s]"
     ]
    },
    {
     "name": "stdout",
     "output_type": "stream",
     "text": [
      "[Saved] ../results/redis_cifar100/cifar_resnet_s637_e50_rd60.npz\n"
     ]
    },
    {
     "name": "stderr",
     "output_type": "stream",
     "text": [
      "Seed 637:  65%|██████▌   | 26/40 [00:05<00:03,  4.13it/s]"
     ]
    },
    {
     "name": "stdout",
     "output_type": "stream",
     "text": [
      "[Saved] ../results/redis_cifar100/cifar_resnet_s637_e50_rd61.npz\n"
     ]
    },
    {
     "name": "stderr",
     "output_type": "stream",
     "text": [
      "Seed 637:  68%|██████▊   | 27/40 [00:06<00:03,  4.31it/s]"
     ]
    },
    {
     "name": "stdout",
     "output_type": "stream",
     "text": [
      "[Saved] ../results/redis_cifar100/cifar_resnet_s637_e50_rd68.npz\n"
     ]
    },
    {
     "name": "stderr",
     "output_type": "stream",
     "text": [
      "Seed 637:  70%|███████   | 28/40 [00:06<00:03,  3.93it/s]"
     ]
    },
    {
     "name": "stdout",
     "output_type": "stream",
     "text": [
      "[Saved] ../results/redis_cifar100/cifar_resnet_s637_e50_rd67.npz\n"
     ]
    },
    {
     "name": "stderr",
     "output_type": "stream",
     "text": [
      "Seed 637:  72%|███████▎  | 29/40 [00:06<00:02,  3.95it/s]"
     ]
    },
    {
     "name": "stdout",
     "output_type": "stream",
     "text": [
      "[Saved] ../results/redis_cifar100/cifar_resnet_s637_e50_rd72.npz\n"
     ]
    },
    {
     "name": "stderr",
     "output_type": "stream",
     "text": [
      "Seed 637:  75%|███████▌  | 30/40 [00:06<00:02,  4.00it/s]"
     ]
    },
    {
     "name": "stdout",
     "output_type": "stream",
     "text": [
      "[Saved] ../results/redis_cifar100/cifar_resnet_s637_e50_rd71.npz\n"
     ]
    },
    {
     "name": "stderr",
     "output_type": "stream",
     "text": [
      "Seed 637:  78%|███████▊  | 31/40 [00:07<00:02,  4.07it/s]"
     ]
    },
    {
     "name": "stdout",
     "output_type": "stream",
     "text": [
      "[Saved] ../results/redis_cifar100/cifar_resnet_s637_e50_rd76.npz\n"
     ]
    },
    {
     "name": "stderr",
     "output_type": "stream",
     "text": [
      "Seed 637:  80%|████████  | 32/40 [00:07<00:01,  4.22it/s]"
     ]
    },
    {
     "name": "stdout",
     "output_type": "stream",
     "text": [
      "[Saved] ../results/redis_cifar100/cifar_resnet_s637_e50_rd77.npz\n"
     ]
    },
    {
     "name": "stderr",
     "output_type": "stream",
     "text": [
      "Seed 637:  82%|████████▎ | 33/40 [00:07<00:01,  4.31it/s]"
     ]
    },
    {
     "name": "stdout",
     "output_type": "stream",
     "text": [
      "[Saved] ../results/redis_cifar100/cifar_resnet_s637_e50_rd80.npz\n"
     ]
    },
    {
     "name": "stderr",
     "output_type": "stream",
     "text": [
      "Seed 637:  85%|████████▌ | 34/40 [00:07<00:01,  4.37it/s]"
     ]
    },
    {
     "name": "stdout",
     "output_type": "stream",
     "text": [
      "[Saved] ../results/redis_cifar100/cifar_resnet_s637_e50_rd84.npz\n"
     ]
    },
    {
     "name": "stderr",
     "output_type": "stream",
     "text": [
      "Seed 637:  88%|████████▊ | 35/40 [00:08<00:01,  4.26it/s]"
     ]
    },
    {
     "name": "stdout",
     "output_type": "stream",
     "text": [
      "[Saved] ../results/redis_cifar100/cifar_resnet_s637_e50_rd88.npz\n"
     ]
    },
    {
     "name": "stderr",
     "output_type": "stream",
     "text": [
      "Seed 637:  90%|█████████ | 36/40 [00:08<00:00,  4.07it/s]"
     ]
    },
    {
     "name": "stdout",
     "output_type": "stream",
     "text": [
      "[Saved] ../results/redis_cifar100/cifar_resnet_s637_e50_rd85.npz\n"
     ]
    },
    {
     "name": "stderr",
     "output_type": "stream",
     "text": [
      "Seed 637:  92%|█████████▎| 37/40 [00:08<00:00,  4.17it/s]"
     ]
    },
    {
     "name": "stdout",
     "output_type": "stream",
     "text": [
      "[Saved] ../results/redis_cifar100/cifar_resnet_s637_e50_rd92.npz\n"
     ]
    },
    {
     "name": "stderr",
     "output_type": "stream",
     "text": [
      "Seed 637:  95%|█████████▌| 38/40 [00:08<00:00,  4.13it/s]"
     ]
    },
    {
     "name": "stdout",
     "output_type": "stream",
     "text": [
      "[Saved] ../results/redis_cifar100/cifar_resnet_s637_e50_rd94.npz\n"
     ]
    },
    {
     "name": "stderr",
     "output_type": "stream",
     "text": [
      "Seed 637:  98%|█████████▊| 39/40 [00:09<00:00,  4.21it/s]"
     ]
    },
    {
     "name": "stdout",
     "output_type": "stream",
     "text": [
      "[Saved] ../results/redis_cifar100/cifar_resnet_s637_e50_rd99.npz\n"
     ]
    },
    {
     "name": "stderr",
     "output_type": "stream",
     "text": [
      "                                                         \r"
     ]
    },
    {
     "name": "stdout",
     "output_type": "stream",
     "text": [
      "[Saved] ../results/redis_cifar100/cifar_resnet_s637_e50_rd97.npz\n"
     ]
    },
    {
     "name": "stderr",
     "output_type": "stream",
     "text": [
      "Seed 800:   2%|▎         | 1/40 [00:00<00:09,  4.23it/s]"
     ]
    },
    {
     "name": "stdout",
     "output_type": "stream",
     "text": [
      "[Saved] ../results/redis_cifar100/cifar_resnet_s800_e50_rd4.npz\n"
     ]
    },
    {
     "name": "stderr",
     "output_type": "stream",
     "text": [
      "Seed 800:   8%|▊         | 3/40 [00:00<00:07,  4.74it/s]"
     ]
    },
    {
     "name": "stdout",
     "output_type": "stream",
     "text": [
      "[Saved] ../results/redis_cifar100/cifar_resnet_s800_e50_rd7.npz\n",
      "[Saved] ../results/redis_cifar100/cifar_resnet_s800_e50_rd6.npz\n"
     ]
    },
    {
     "name": "stderr",
     "output_type": "stream",
     "text": [
      "Seed 800:  10%|█         | 4/40 [00:00<00:07,  4.58it/s]"
     ]
    },
    {
     "name": "stdout",
     "output_type": "stream",
     "text": [
      "[Saved] ../results/redis_cifar100/cifar_resnet_s800_e50_rd11.npz\n"
     ]
    },
    {
     "name": "stderr",
     "output_type": "stream",
     "text": [
      "Seed 800:  12%|█▎        | 5/40 [00:01<00:07,  4.49it/s]"
     ]
    },
    {
     "name": "stdout",
     "output_type": "stream",
     "text": [
      "[Saved] ../results/redis_cifar100/cifar_resnet_s800_e50_rd14.npz\n"
     ]
    },
    {
     "name": "stderr",
     "output_type": "stream",
     "text": [
      "Seed 800:  15%|█▌        | 6/40 [00:01<00:07,  4.33it/s]"
     ]
    },
    {
     "name": "stdout",
     "output_type": "stream",
     "text": [
      "[Saved] ../results/redis_cifar100/cifar_resnet_s800_e50_rd15.npz\n"
     ]
    },
    {
     "name": "stderr",
     "output_type": "stream",
     "text": [
      "Seed 800:  18%|█▊        | 7/40 [00:01<00:07,  4.19it/s]"
     ]
    },
    {
     "name": "stdout",
     "output_type": "stream",
     "text": [
      "[Saved] ../results/redis_cifar100/cifar_resnet_s800_e50_rd19.npz\n"
     ]
    },
    {
     "name": "stderr",
     "output_type": "stream",
     "text": [
      "Seed 800:  20%|██        | 8/40 [00:01<00:07,  4.07it/s]"
     ]
    },
    {
     "name": "stdout",
     "output_type": "stream",
     "text": [
      "[Saved] ../results/redis_cifar100/cifar_resnet_s800_e50_rd24.npz\n"
     ]
    },
    {
     "name": "stderr",
     "output_type": "stream",
     "text": [
      "Seed 800:  22%|██▎       | 9/40 [00:02<00:07,  4.11it/s]"
     ]
    },
    {
     "name": "stdout",
     "output_type": "stream",
     "text": [
      "[Saved] ../results/redis_cifar100/cifar_resnet_s800_e50_rd23.npz\n"
     ]
    },
    {
     "name": "stderr",
     "output_type": "stream",
     "text": [
      "Seed 800:  25%|██▌       | 10/40 [00:02<00:06,  4.33it/s]"
     ]
    },
    {
     "name": "stdout",
     "output_type": "stream",
     "text": [
      "[Saved] ../results/redis_cifar100/cifar_resnet_s800_e50_rd25.npz\n"
     ]
    },
    {
     "name": "stderr",
     "output_type": "stream",
     "text": [
      "Seed 800:  28%|██▊       | 11/40 [00:02<00:06,  4.38it/s]"
     ]
    },
    {
     "name": "stdout",
     "output_type": "stream",
     "text": [
      "[Saved] ../results/redis_cifar100/cifar_resnet_s800_e50_rd29.npz\n"
     ]
    },
    {
     "name": "stderr",
     "output_type": "stream",
     "text": [
      "Seed 800:  30%|███       | 12/40 [00:02<00:06,  4.14it/s]"
     ]
    },
    {
     "name": "stdout",
     "output_type": "stream",
     "text": [
      "[Saved] ../results/redis_cifar100/cifar_resnet_s800_e50_rd30.npz\n"
     ]
    },
    {
     "name": "stderr",
     "output_type": "stream",
     "text": [
      "Seed 800:  32%|███▎      | 13/40 [00:03<00:06,  4.26it/s]"
     ]
    },
    {
     "name": "stdout",
     "output_type": "stream",
     "text": [
      "[Saved] ../results/redis_cifar100/cifar_resnet_s800_e50_rd31.npz\n"
     ]
    },
    {
     "name": "stderr",
     "output_type": "stream",
     "text": [
      "Seed 800:  35%|███▌      | 14/40 [00:03<00:06,  4.00it/s]"
     ]
    },
    {
     "name": "stdout",
     "output_type": "stream",
     "text": [
      "[Saved] ../results/redis_cifar100/cifar_resnet_s800_e50_rd36.npz\n"
     ]
    },
    {
     "name": "stderr",
     "output_type": "stream",
     "text": [
      "Seed 800:  38%|███▊      | 15/40 [00:03<00:06,  3.93it/s]"
     ]
    },
    {
     "name": "stdout",
     "output_type": "stream",
     "text": [
      "[Saved] ../results/redis_cifar100/cifar_resnet_s800_e50_rd35.npz\n"
     ]
    },
    {
     "name": "stderr",
     "output_type": "stream",
     "text": [
      "Seed 800:  40%|████      | 16/40 [00:03<00:05,  4.00it/s]"
     ]
    },
    {
     "name": "stdout",
     "output_type": "stream",
     "text": [
      "[Saved] ../results/redis_cifar100/cifar_resnet_s800_e50_rd39.npz\n"
     ]
    },
    {
     "name": "stderr",
     "output_type": "stream",
     "text": [
      "Seed 800:  42%|████▎     | 17/40 [00:04<00:05,  3.86it/s]"
     ]
    },
    {
     "name": "stdout",
     "output_type": "stream",
     "text": [
      "[Saved] ../results/redis_cifar100/cifar_resnet_s800_e50_rd44.npz\n"
     ]
    },
    {
     "name": "stderr",
     "output_type": "stream",
     "text": [
      "Seed 800:  45%|████▌     | 18/40 [00:04<00:05,  3.93it/s]"
     ]
    },
    {
     "name": "stdout",
     "output_type": "stream",
     "text": [
      "[Saved] ../results/redis_cifar100/cifar_resnet_s800_e50_rd41.npz\n"
     ]
    },
    {
     "name": "stderr",
     "output_type": "stream",
     "text": [
      "Seed 800:  48%|████▊     | 19/40 [00:04<00:05,  4.07it/s]"
     ]
    },
    {
     "name": "stdout",
     "output_type": "stream",
     "text": [
      "[Saved] ../results/redis_cifar100/cifar_resnet_s800_e50_rd49.npz\n"
     ]
    },
    {
     "name": "stderr",
     "output_type": "stream",
     "text": [
      "Seed 800:  50%|█████     | 20/40 [00:04<00:04,  4.13it/s]"
     ]
    },
    {
     "name": "stdout",
     "output_type": "stream",
     "text": [
      "[Saved] ../results/redis_cifar100/cifar_resnet_s800_e50_rd48.npz\n"
     ]
    },
    {
     "name": "stderr",
     "output_type": "stream",
     "text": [
      "Seed 800:  52%|█████▎    | 21/40 [00:05<00:04,  4.23it/s]"
     ]
    },
    {
     "name": "stdout",
     "output_type": "stream",
     "text": [
      "[Saved] ../results/redis_cifar100/cifar_resnet_s800_e50_rd51.npz\n"
     ]
    },
    {
     "name": "stderr",
     "output_type": "stream",
     "text": [
      "Seed 800:  55%|█████▌    | 22/40 [00:05<00:04,  4.35it/s]"
     ]
    },
    {
     "name": "stdout",
     "output_type": "stream",
     "text": [
      "[Saved] ../results/redis_cifar100/cifar_resnet_s800_e50_rd53.npz\n"
     ]
    },
    {
     "name": "stderr",
     "output_type": "stream",
     "text": [
      "Seed 800:  60%|██████    | 24/40 [00:05<00:03,  4.62it/s]"
     ]
    },
    {
     "name": "stdout",
     "output_type": "stream",
     "text": [
      "[Saved] ../results/redis_cifar100/cifar_resnet_s800_e50_rd59.npz\n",
      "[Saved] ../results/redis_cifar100/cifar_resnet_s800_e50_rd57.npz\n"
     ]
    },
    {
     "name": "stderr",
     "output_type": "stream",
     "text": [
      "Seed 800:  62%|██████▎   | 25/40 [00:05<00:03,  4.46it/s]"
     ]
    },
    {
     "name": "stdout",
     "output_type": "stream",
     "text": [
      "[Saved] ../results/redis_cifar100/cifar_resnet_s800_e50_rd60.npz\n"
     ]
    },
    {
     "name": "stderr",
     "output_type": "stream",
     "text": [
      "Seed 800:  65%|██████▌   | 26/40 [00:06<00:03,  4.39it/s]"
     ]
    },
    {
     "name": "stdout",
     "output_type": "stream",
     "text": [
      "[Saved] ../results/redis_cifar100/cifar_resnet_s800_e50_rd61.npz\n"
     ]
    },
    {
     "name": "stderr",
     "output_type": "stream",
     "text": [
      "Seed 800:  68%|██████▊   | 27/40 [00:06<00:02,  4.53it/s]"
     ]
    },
    {
     "name": "stdout",
     "output_type": "stream",
     "text": [
      "[Saved] ../results/redis_cifar100/cifar_resnet_s800_e50_rd68.npz\n"
     ]
    },
    {
     "name": "stderr",
     "output_type": "stream",
     "text": [
      "Seed 800:  70%|███████   | 28/40 [00:06<00:02,  4.51it/s]"
     ]
    },
    {
     "name": "stdout",
     "output_type": "stream",
     "text": [
      "[Saved] ../results/redis_cifar100/cifar_resnet_s800_e50_rd67.npz\n"
     ]
    },
    {
     "name": "stderr",
     "output_type": "stream",
     "text": [
      "Seed 800:  72%|███████▎  | 29/40 [00:06<00:02,  4.49it/s]"
     ]
    },
    {
     "name": "stdout",
     "output_type": "stream",
     "text": [
      "[Saved] ../results/redis_cifar100/cifar_resnet_s800_e50_rd72.npz\n"
     ]
    },
    {
     "name": "stderr",
     "output_type": "stream",
     "text": [
      "Seed 800:  75%|███████▌  | 30/40 [00:07<00:02,  4.45it/s]"
     ]
    },
    {
     "name": "stdout",
     "output_type": "stream",
     "text": [
      "[Saved] ../results/redis_cifar100/cifar_resnet_s800_e50_rd71.npz\n"
     ]
    },
    {
     "name": "stderr",
     "output_type": "stream",
     "text": [
      "Seed 800:  78%|███████▊  | 31/40 [00:07<00:01,  4.55it/s]"
     ]
    },
    {
     "name": "stdout",
     "output_type": "stream",
     "text": [
      "[Saved] ../results/redis_cifar100/cifar_resnet_s800_e50_rd76.npz\n"
     ]
    },
    {
     "name": "stderr",
     "output_type": "stream",
     "text": [
      "Seed 800:  80%|████████  | 32/40 [00:07<00:01,  4.09it/s]"
     ]
    },
    {
     "name": "stdout",
     "output_type": "stream",
     "text": [
      "[Saved] ../results/redis_cifar100/cifar_resnet_s800_e50_rd77.npz\n"
     ]
    },
    {
     "name": "stderr",
     "output_type": "stream",
     "text": [
      "Seed 800:  82%|████████▎ | 33/40 [00:07<00:01,  4.19it/s]"
     ]
    },
    {
     "name": "stdout",
     "output_type": "stream",
     "text": [
      "[Saved] ../results/redis_cifar100/cifar_resnet_s800_e50_rd80.npz\n"
     ]
    },
    {
     "name": "stderr",
     "output_type": "stream",
     "text": [
      "Seed 800:  85%|████████▌ | 34/40 [00:07<00:01,  4.33it/s]"
     ]
    },
    {
     "name": "stdout",
     "output_type": "stream",
     "text": [
      "[Saved] ../results/redis_cifar100/cifar_resnet_s800_e50_rd84.npz\n"
     ]
    },
    {
     "name": "stderr",
     "output_type": "stream",
     "text": [
      "Seed 800:  88%|████████▊ | 35/40 [00:08<00:01,  4.47it/s]"
     ]
    },
    {
     "name": "stdout",
     "output_type": "stream",
     "text": [
      "[Saved] ../results/redis_cifar100/cifar_resnet_s800_e50_rd88.npz\n"
     ]
    },
    {
     "name": "stderr",
     "output_type": "stream",
     "text": [
      "Seed 800:  90%|█████████ | 36/40 [00:08<00:00,  4.27it/s]"
     ]
    },
    {
     "name": "stdout",
     "output_type": "stream",
     "text": [
      "[Saved] ../results/redis_cifar100/cifar_resnet_s800_e50_rd85.npz\n"
     ]
    },
    {
     "name": "stderr",
     "output_type": "stream",
     "text": [
      "Seed 800:  92%|█████████▎| 37/40 [00:08<00:00,  4.01it/s]"
     ]
    },
    {
     "name": "stdout",
     "output_type": "stream",
     "text": [
      "[Saved] ../results/redis_cifar100/cifar_resnet_s800_e50_rd92.npz\n"
     ]
    },
    {
     "name": "stderr",
     "output_type": "stream",
     "text": [
      "Seed 800:  95%|█████████▌| 38/40 [00:08<00:00,  4.16it/s]"
     ]
    },
    {
     "name": "stdout",
     "output_type": "stream",
     "text": [
      "[Saved] ../results/redis_cifar100/cifar_resnet_s800_e50_rd94.npz\n"
     ]
    },
    {
     "name": "stderr",
     "output_type": "stream",
     "text": [
      "Seed 800:  98%|█████████▊| 39/40 [00:09<00:00,  4.17it/s]"
     ]
    },
    {
     "name": "stdout",
     "output_type": "stream",
     "text": [
      "[Saved] ../results/redis_cifar100/cifar_resnet_s800_e50_rd99.npz\n"
     ]
    },
    {
     "name": "stderr",
     "output_type": "stream",
     "text": [
      "                                                         \r"
     ]
    },
    {
     "name": "stdout",
     "output_type": "stream",
     "text": [
      "[Saved] ../results/redis_cifar100/cifar_resnet_s800_e50_rd97.npz\n"
     ]
    },
    {
     "name": "stderr",
     "output_type": "stream",
     "text": [
      "Seed 543:   2%|▎         | 1/40 [00:00<00:08,  4.41it/s]"
     ]
    },
    {
     "name": "stdout",
     "output_type": "stream",
     "text": [
      "[Saved] ../results/redis_cifar100/cifar_resnet_s543_e50_rd4.npz\n"
     ]
    },
    {
     "name": "stderr",
     "output_type": "stream",
     "text": [
      "Seed 543:   8%|▊         | 3/40 [00:00<00:07,  4.64it/s]"
     ]
    },
    {
     "name": "stdout",
     "output_type": "stream",
     "text": [
      "[Saved] ../results/redis_cifar100/cifar_resnet_s543_e50_rd7.npz\n",
      "[Saved] ../results/redis_cifar100/cifar_resnet_s543_e50_rd6.npz\n"
     ]
    },
    {
     "name": "stderr",
     "output_type": "stream",
     "text": [
      "Seed 543:  10%|█         | 4/40 [00:00<00:07,  4.66it/s]"
     ]
    },
    {
     "name": "stdout",
     "output_type": "stream",
     "text": [
      "[Saved] ../results/redis_cifar100/cifar_resnet_s543_e50_rd11.npz\n"
     ]
    },
    {
     "name": "stderr",
     "output_type": "stream",
     "text": [
      "Seed 543:  15%|█▌        | 6/40 [00:01<00:07,  4.85it/s]"
     ]
    },
    {
     "name": "stdout",
     "output_type": "stream",
     "text": [
      "[Saved] ../results/redis_cifar100/cifar_resnet_s543_e50_rd14.npz\n",
      "[Saved] ../results/redis_cifar100/cifar_resnet_s543_e50_rd15.npz\n"
     ]
    },
    {
     "name": "stderr",
     "output_type": "stream",
     "text": [
      "Seed 543:  18%|█▊        | 7/40 [00:01<00:06,  4.81it/s]"
     ]
    },
    {
     "name": "stdout",
     "output_type": "stream",
     "text": [
      "[Saved] ../results/redis_cifar100/cifar_resnet_s543_e50_rd19.npz\n"
     ]
    },
    {
     "name": "stderr",
     "output_type": "stream",
     "text": [
      "Seed 543:  20%|██        | 8/40 [00:01<00:07,  4.43it/s]"
     ]
    },
    {
     "name": "stdout",
     "output_type": "stream",
     "text": [
      "[Saved] ../results/redis_cifar100/cifar_resnet_s543_e50_rd24.npz\n"
     ]
    },
    {
     "name": "stderr",
     "output_type": "stream",
     "text": [
      "Seed 543:  22%|██▎       | 9/40 [00:02<00:07,  4.24it/s]"
     ]
    },
    {
     "name": "stdout",
     "output_type": "stream",
     "text": [
      "[Saved] ../results/redis_cifar100/cifar_resnet_s543_e50_rd23.npz\n"
     ]
    },
    {
     "name": "stderr",
     "output_type": "stream",
     "text": [
      "Seed 543:  25%|██▌       | 10/40 [00:02<00:07,  3.99it/s]"
     ]
    },
    {
     "name": "stdout",
     "output_type": "stream",
     "text": [
      "[Saved] ../results/redis_cifar100/cifar_resnet_s543_e50_rd25.npz\n"
     ]
    },
    {
     "name": "stderr",
     "output_type": "stream",
     "text": [
      "Seed 543:  30%|███       | 12/40 [00:02<00:06,  4.36it/s]"
     ]
    },
    {
     "name": "stdout",
     "output_type": "stream",
     "text": [
      "[Saved] ../results/redis_cifar100/cifar_resnet_s543_e50_rd29.npz\n",
      "[Saved] ../results/redis_cifar100/cifar_resnet_s543_e50_rd30.npz\n"
     ]
    },
    {
     "name": "stderr",
     "output_type": "stream",
     "text": [
      "Seed 543:  32%|███▎      | 13/40 [00:02<00:06,  4.41it/s]"
     ]
    },
    {
     "name": "stdout",
     "output_type": "stream",
     "text": [
      "[Saved] ../results/redis_cifar100/cifar_resnet_s543_e50_rd31.npz\n"
     ]
    },
    {
     "name": "stderr",
     "output_type": "stream",
     "text": [
      "Seed 543:  35%|███▌      | 14/40 [00:03<00:05,  4.55it/s]"
     ]
    },
    {
     "name": "stdout",
     "output_type": "stream",
     "text": [
      "[Saved] ../results/redis_cifar100/cifar_resnet_s543_e50_rd36.npz\n"
     ]
    },
    {
     "name": "stderr",
     "output_type": "stream",
     "text": [
      "Seed 543:  38%|███▊      | 15/40 [00:03<00:05,  4.66it/s]"
     ]
    },
    {
     "name": "stdout",
     "output_type": "stream",
     "text": [
      "[Saved] ../results/redis_cifar100/cifar_resnet_s543_e50_rd35.npz\n"
     ]
    },
    {
     "name": "stderr",
     "output_type": "stream",
     "text": [
      "Seed 543:  40%|████      | 16/40 [00:03<00:05,  4.64it/s]"
     ]
    },
    {
     "name": "stdout",
     "output_type": "stream",
     "text": [
      "[Saved] ../results/redis_cifar100/cifar_resnet_s543_e50_rd39.npz\n"
     ]
    },
    {
     "name": "stderr",
     "output_type": "stream",
     "text": [
      "Seed 543:  42%|████▎     | 17/40 [00:03<00:04,  4.65it/s]"
     ]
    },
    {
     "name": "stdout",
     "output_type": "stream",
     "text": [
      "[Saved] ../results/redis_cifar100/cifar_resnet_s543_e50_rd44.npz\n"
     ]
    },
    {
     "name": "stderr",
     "output_type": "stream",
     "text": [
      "Seed 543:  45%|████▌     | 18/40 [00:03<00:04,  4.60it/s]"
     ]
    },
    {
     "name": "stdout",
     "output_type": "stream",
     "text": [
      "[Saved] ../results/redis_cifar100/cifar_resnet_s543_e50_rd41.npz\n"
     ]
    },
    {
     "name": "stderr",
     "output_type": "stream",
     "text": [
      "Seed 543:  48%|████▊     | 19/40 [00:04<00:04,  4.62it/s]"
     ]
    },
    {
     "name": "stdout",
     "output_type": "stream",
     "text": [
      "[Saved] ../results/redis_cifar100/cifar_resnet_s543_e50_rd49.npz\n"
     ]
    },
    {
     "name": "stderr",
     "output_type": "stream",
     "text": [
      "Seed 543:  50%|█████     | 20/40 [00:04<00:04,  4.41it/s]"
     ]
    },
    {
     "name": "stdout",
     "output_type": "stream",
     "text": [
      "[Saved] ../results/redis_cifar100/cifar_resnet_s543_e50_rd48.npz\n"
     ]
    },
    {
     "name": "stderr",
     "output_type": "stream",
     "text": [
      "Seed 543:  52%|█████▎    | 21/40 [00:04<00:04,  4.51it/s]"
     ]
    },
    {
     "name": "stdout",
     "output_type": "stream",
     "text": [
      "[Saved] ../results/redis_cifar100/cifar_resnet_s543_e50_rd51.npz\n"
     ]
    },
    {
     "name": "stderr",
     "output_type": "stream",
     "text": [
      "Seed 543:  55%|█████▌    | 22/40 [00:04<00:04,  4.50it/s]"
     ]
    },
    {
     "name": "stdout",
     "output_type": "stream",
     "text": [
      "[Saved] ../results/redis_cifar100/cifar_resnet_s543_e50_rd53.npz\n"
     ]
    },
    {
     "name": "stderr",
     "output_type": "stream",
     "text": [
      "Seed 543:  57%|█████▊    | 23/40 [00:05<00:03,  4.52it/s]"
     ]
    },
    {
     "name": "stdout",
     "output_type": "stream",
     "text": [
      "[Saved] ../results/redis_cifar100/cifar_resnet_s543_e50_rd59.npz\n"
     ]
    },
    {
     "name": "stderr",
     "output_type": "stream",
     "text": [
      "Seed 543:  60%|██████    | 24/40 [00:05<00:03,  4.59it/s]"
     ]
    },
    {
     "name": "stdout",
     "output_type": "stream",
     "text": [
      "[Saved] ../results/redis_cifar100/cifar_resnet_s543_e50_rd57.npz\n"
     ]
    },
    {
     "name": "stderr",
     "output_type": "stream",
     "text": [
      "Seed 543:  62%|██████▎   | 25/40 [00:05<00:03,  4.59it/s]"
     ]
    },
    {
     "name": "stdout",
     "output_type": "stream",
     "text": [
      "[Saved] ../results/redis_cifar100/cifar_resnet_s543_e50_rd60.npz\n"
     ]
    },
    {
     "name": "stderr",
     "output_type": "stream",
     "text": [
      "Seed 543:  65%|██████▌   | 26/40 [00:05<00:03,  3.83it/s]"
     ]
    },
    {
     "name": "stdout",
     "output_type": "stream",
     "text": [
      "[Saved] ../results/redis_cifar100/cifar_resnet_s543_e50_rd61.npz\n"
     ]
    },
    {
     "name": "stderr",
     "output_type": "stream",
     "text": [
      "Seed 543:  68%|██████▊   | 27/40 [00:06<00:03,  3.62it/s]"
     ]
    },
    {
     "name": "stdout",
     "output_type": "stream",
     "text": [
      "[Saved] ../results/redis_cifar100/cifar_resnet_s543_e50_rd68.npz\n"
     ]
    },
    {
     "name": "stderr",
     "output_type": "stream",
     "text": [
      "Seed 543:  70%|███████   | 28/40 [00:06<00:03,  3.78it/s]"
     ]
    },
    {
     "name": "stdout",
     "output_type": "stream",
     "text": [
      "[Saved] ../results/redis_cifar100/cifar_resnet_s543_e50_rd67.npz\n"
     ]
    },
    {
     "name": "stderr",
     "output_type": "stream",
     "text": [
      "Seed 543:  72%|███████▎  | 29/40 [00:06<00:02,  3.98it/s]"
     ]
    },
    {
     "name": "stdout",
     "output_type": "stream",
     "text": [
      "[Saved] ../results/redis_cifar100/cifar_resnet_s543_e50_rd72.npz\n"
     ]
    },
    {
     "name": "stderr",
     "output_type": "stream",
     "text": [
      "Seed 543:  75%|███████▌  | 30/40 [00:06<00:02,  4.14it/s]"
     ]
    },
    {
     "name": "stdout",
     "output_type": "stream",
     "text": [
      "[Saved] ../results/redis_cifar100/cifar_resnet_s543_e50_rd71.npz\n"
     ]
    },
    {
     "name": "stderr",
     "output_type": "stream",
     "text": [
      "Seed 543:  78%|███████▊  | 31/40 [00:07<00:02,  4.16it/s]"
     ]
    },
    {
     "name": "stdout",
     "output_type": "stream",
     "text": [
      "[Saved] ../results/redis_cifar100/cifar_resnet_s543_e50_rd76.npz\n"
     ]
    },
    {
     "name": "stderr",
     "output_type": "stream",
     "text": [
      "Seed 543:  80%|████████  | 32/40 [00:07<00:01,  4.19it/s]"
     ]
    },
    {
     "name": "stdout",
     "output_type": "stream",
     "text": [
      "[Saved] ../results/redis_cifar100/cifar_resnet_s543_e50_rd77.npz\n"
     ]
    },
    {
     "name": "stderr",
     "output_type": "stream",
     "text": [
      "Seed 543:  82%|████████▎ | 33/40 [00:07<00:01,  4.36it/s]"
     ]
    },
    {
     "name": "stdout",
     "output_type": "stream",
     "text": [
      "[Saved] ../results/redis_cifar100/cifar_resnet_s543_e50_rd80.npz\n"
     ]
    },
    {
     "name": "stderr",
     "output_type": "stream",
     "text": [
      "Seed 543:  85%|████████▌ | 34/40 [00:07<00:01,  4.52it/s]"
     ]
    },
    {
     "name": "stdout",
     "output_type": "stream",
     "text": [
      "[Saved] ../results/redis_cifar100/cifar_resnet_s543_e50_rd84.npz\n"
     ]
    },
    {
     "name": "stderr",
     "output_type": "stream",
     "text": [
      "Seed 543:  88%|████████▊ | 35/40 [00:07<00:01,  4.61it/s]"
     ]
    },
    {
     "name": "stdout",
     "output_type": "stream",
     "text": [
      "[Saved] ../results/redis_cifar100/cifar_resnet_s543_e50_rd88.npz\n"
     ]
    },
    {
     "name": "stderr",
     "output_type": "stream",
     "text": [
      "Seed 543:  90%|█████████ | 36/40 [00:08<00:00,  4.55it/s]"
     ]
    },
    {
     "name": "stdout",
     "output_type": "stream",
     "text": [
      "[Saved] ../results/redis_cifar100/cifar_resnet_s543_e50_rd85.npz\n"
     ]
    },
    {
     "name": "stderr",
     "output_type": "stream",
     "text": [
      "Seed 543:  92%|█████████▎| 37/40 [00:08<00:00,  4.40it/s]"
     ]
    },
    {
     "name": "stdout",
     "output_type": "stream",
     "text": [
      "[Saved] ../results/redis_cifar100/cifar_resnet_s543_e50_rd92.npz\n"
     ]
    },
    {
     "name": "stderr",
     "output_type": "stream",
     "text": [
      "Seed 543:  95%|█████████▌| 38/40 [00:08<00:00,  4.35it/s]"
     ]
    },
    {
     "name": "stdout",
     "output_type": "stream",
     "text": [
      "[Saved] ../results/redis_cifar100/cifar_resnet_s543_e50_rd94.npz\n"
     ]
    },
    {
     "name": "stderr",
     "output_type": "stream",
     "text": [
      "Seed 543:  98%|█████████▊| 39/40 [00:08<00:00,  4.32it/s]"
     ]
    },
    {
     "name": "stdout",
     "output_type": "stream",
     "text": [
      "[Saved] ../results/redis_cifar100/cifar_resnet_s543_e50_rd99.npz\n"
     ]
    },
    {
     "name": "stderr",
     "output_type": "stream",
     "text": [
      "                                                         \r"
     ]
    },
    {
     "name": "stdout",
     "output_type": "stream",
     "text": [
      "[Saved] ../results/redis_cifar100/cifar_resnet_s543_e50_rd97.npz\n"
     ]
    },
    {
     "name": "stderr",
     "output_type": "stream",
     "text": [
      "Seed 969:   2%|▎         | 1/40 [00:00<00:08,  4.75it/s]"
     ]
    },
    {
     "name": "stdout",
     "output_type": "stream",
     "text": [
      "[Saved] ../results/redis_cifar100/cifar_resnet_s969_e50_rd4.npz\n"
     ]
    },
    {
     "name": "stderr",
     "output_type": "stream",
     "text": [
      "Seed 969:   5%|▌         | 2/40 [00:00<00:09,  4.17it/s]"
     ]
    },
    {
     "name": "stdout",
     "output_type": "stream",
     "text": [
      "[Saved] ../results/redis_cifar100/cifar_resnet_s969_e50_rd7.npz\n"
     ]
    },
    {
     "name": "stderr",
     "output_type": "stream",
     "text": [
      "Seed 969:   8%|▊         | 3/40 [00:00<00:08,  4.28it/s]"
     ]
    },
    {
     "name": "stdout",
     "output_type": "stream",
     "text": [
      "[Saved] ../results/redis_cifar100/cifar_resnet_s969_e50_rd6.npz\n"
     ]
    },
    {
     "name": "stderr",
     "output_type": "stream",
     "text": [
      "Seed 969:  10%|█         | 4/40 [00:00<00:07,  4.51it/s]"
     ]
    },
    {
     "name": "stdout",
     "output_type": "stream",
     "text": [
      "[Saved] ../results/redis_cifar100/cifar_resnet_s969_e50_rd11.npz\n"
     ]
    },
    {
     "name": "stderr",
     "output_type": "stream",
     "text": [
      "Seed 969:  12%|█▎        | 5/40 [00:01<00:07,  4.61it/s]"
     ]
    },
    {
     "name": "stdout",
     "output_type": "stream",
     "text": [
      "[Saved] ../results/redis_cifar100/cifar_resnet_s969_e50_rd14.npz\n"
     ]
    },
    {
     "name": "stderr",
     "output_type": "stream",
     "text": [
      "Seed 969:  18%|█▊        | 7/40 [00:01<00:07,  4.70it/s]"
     ]
    },
    {
     "name": "stdout",
     "output_type": "stream",
     "text": [
      "[Saved] ../results/redis_cifar100/cifar_resnet_s969_e50_rd15.npz\n",
      "[Saved] ../results/redis_cifar100/cifar_resnet_s969_e50_rd19.npz\n"
     ]
    },
    {
     "name": "stderr",
     "output_type": "stream",
     "text": [
      "Seed 969:  20%|██        | 8/40 [00:01<00:06,  4.58it/s]"
     ]
    },
    {
     "name": "stdout",
     "output_type": "stream",
     "text": [
      "[Saved] ../results/redis_cifar100/cifar_resnet_s969_e50_rd24.npz\n"
     ]
    },
    {
     "name": "stderr",
     "output_type": "stream",
     "text": [
      "Seed 969:  22%|██▎       | 9/40 [00:01<00:06,  4.67it/s]"
     ]
    },
    {
     "name": "stdout",
     "output_type": "stream",
     "text": [
      "[Saved] ../results/redis_cifar100/cifar_resnet_s969_e50_rd23.npz\n"
     ]
    },
    {
     "name": "stderr",
     "output_type": "stream",
     "text": [
      "Seed 969:  25%|██▌       | 10/40 [00:02<00:06,  4.65it/s]"
     ]
    },
    {
     "name": "stdout",
     "output_type": "stream",
     "text": [
      "[Saved] ../results/redis_cifar100/cifar_resnet_s969_e50_rd25.npz\n"
     ]
    },
    {
     "name": "stderr",
     "output_type": "stream",
     "text": [
      "Seed 969:  28%|██▊       | 11/40 [00:02<00:06,  4.43it/s]"
     ]
    },
    {
     "name": "stdout",
     "output_type": "stream",
     "text": [
      "[Saved] ../results/redis_cifar100/cifar_resnet_s969_e50_rd29.npz\n"
     ]
    },
    {
     "name": "stderr",
     "output_type": "stream",
     "text": [
      "Seed 969:  30%|███       | 12/40 [00:02<00:06,  4.43it/s]"
     ]
    },
    {
     "name": "stdout",
     "output_type": "stream",
     "text": [
      "[Saved] ../results/redis_cifar100/cifar_resnet_s969_e50_rd30.npz\n"
     ]
    },
    {
     "name": "stderr",
     "output_type": "stream",
     "text": [
      "Seed 969:  32%|███▎      | 13/40 [00:02<00:05,  4.54it/s]"
     ]
    },
    {
     "name": "stdout",
     "output_type": "stream",
     "text": [
      "[Saved] ../results/redis_cifar100/cifar_resnet_s969_e50_rd31.npz\n"
     ]
    },
    {
     "name": "stderr",
     "output_type": "stream",
     "text": [
      "Seed 969:  35%|███▌      | 14/40 [00:03<00:05,  4.65it/s]"
     ]
    },
    {
     "name": "stdout",
     "output_type": "stream",
     "text": [
      "[Saved] ../results/redis_cifar100/cifar_resnet_s969_e50_rd36.npz\n"
     ]
    },
    {
     "name": "stderr",
     "output_type": "stream",
     "text": [
      "Seed 969:  38%|███▊      | 15/40 [00:03<00:05,  4.71it/s]"
     ]
    },
    {
     "name": "stdout",
     "output_type": "stream",
     "text": [
      "[Saved] ../results/redis_cifar100/cifar_resnet_s969_e50_rd35.npz\n"
     ]
    },
    {
     "name": "stderr",
     "output_type": "stream",
     "text": [
      "Seed 969:  40%|████      | 16/40 [00:03<00:05,  4.66it/s]"
     ]
    },
    {
     "name": "stdout",
     "output_type": "stream",
     "text": [
      "[Saved] ../results/redis_cifar100/cifar_resnet_s969_e50_rd39.npz\n"
     ]
    },
    {
     "name": "stderr",
     "output_type": "stream",
     "text": [
      "Seed 969:  42%|████▎     | 17/40 [00:03<00:05,  4.31it/s]"
     ]
    },
    {
     "name": "stdout",
     "output_type": "stream",
     "text": [
      "[Saved] ../results/redis_cifar100/cifar_resnet_s969_e50_rd44.npz\n"
     ]
    },
    {
     "name": "stderr",
     "output_type": "stream",
     "text": [
      "Seed 969:  45%|████▌     | 18/40 [00:04<00:05,  4.28it/s]"
     ]
    },
    {
     "name": "stdout",
     "output_type": "stream",
     "text": [
      "[Saved] ../results/redis_cifar100/cifar_resnet_s969_e50_rd41.npz\n"
     ]
    },
    {
     "name": "stderr",
     "output_type": "stream",
     "text": [
      "Seed 969:  48%|████▊     | 19/40 [00:04<00:04,  4.27it/s]"
     ]
    },
    {
     "name": "stdout",
     "output_type": "stream",
     "text": [
      "[Saved] ../results/redis_cifar100/cifar_resnet_s969_e50_rd49.npz\n"
     ]
    },
    {
     "name": "stderr",
     "output_type": "stream",
     "text": [
      "Seed 969:  50%|█████     | 20/40 [00:04<00:04,  4.43it/s]"
     ]
    },
    {
     "name": "stdout",
     "output_type": "stream",
     "text": [
      "[Saved] ../results/redis_cifar100/cifar_resnet_s969_e50_rd48.npz\n"
     ]
    },
    {
     "name": "stderr",
     "output_type": "stream",
     "text": [
      "Seed 969:  52%|█████▎    | 21/40 [00:04<00:04,  4.56it/s]"
     ]
    },
    {
     "name": "stdout",
     "output_type": "stream",
     "text": [
      "[Saved] ../results/redis_cifar100/cifar_resnet_s969_e50_rd51.npz\n"
     ]
    },
    {
     "name": "stderr",
     "output_type": "stream",
     "text": [
      "Seed 969:  55%|█████▌    | 22/40 [00:04<00:03,  4.57it/s]"
     ]
    },
    {
     "name": "stdout",
     "output_type": "stream",
     "text": [
      "[Saved] ../results/redis_cifar100/cifar_resnet_s969_e50_rd53.npz\n"
     ]
    },
    {
     "name": "stderr",
     "output_type": "stream",
     "text": [
      "Seed 969:  57%|█████▊    | 23/40 [00:05<00:03,  4.62it/s]"
     ]
    },
    {
     "name": "stdout",
     "output_type": "stream",
     "text": [
      "[Saved] ../results/redis_cifar100/cifar_resnet_s969_e50_rd59.npz\n"
     ]
    },
    {
     "name": "stderr",
     "output_type": "stream",
     "text": [
      "Seed 969:  60%|██████    | 24/40 [00:05<00:03,  4.58it/s]"
     ]
    },
    {
     "name": "stdout",
     "output_type": "stream",
     "text": [
      "[Saved] ../results/redis_cifar100/cifar_resnet_s969_e50_rd57.npz\n"
     ]
    },
    {
     "name": "stderr",
     "output_type": "stream",
     "text": [
      "Seed 969:  62%|██████▎   | 25/40 [00:05<00:03,  4.63it/s]"
     ]
    },
    {
     "name": "stdout",
     "output_type": "stream",
     "text": [
      "[Saved] ../results/redis_cifar100/cifar_resnet_s969_e50_rd60.npz\n"
     ]
    },
    {
     "name": "stderr",
     "output_type": "stream",
     "text": [
      "Seed 969:  65%|██████▌   | 26/40 [00:05<00:02,  4.70it/s]"
     ]
    },
    {
     "name": "stdout",
     "output_type": "stream",
     "text": [
      "[Saved] ../results/redis_cifar100/cifar_resnet_s969_e50_rd61.npz\n"
     ]
    },
    {
     "name": "stderr",
     "output_type": "stream",
     "text": [
      "Seed 969:  70%|███████   | 28/40 [00:06<00:02,  4.76it/s]"
     ]
    },
    {
     "name": "stdout",
     "output_type": "stream",
     "text": [
      "[Saved] ../results/redis_cifar100/cifar_resnet_s969_e50_rd68.npz\n",
      "[Saved] ../results/redis_cifar100/cifar_resnet_s969_e50_rd67.npz\n"
     ]
    },
    {
     "name": "stderr",
     "output_type": "stream",
     "text": [
      "Seed 969:  72%|███████▎  | 29/40 [00:06<00:02,  4.68it/s]"
     ]
    },
    {
     "name": "stdout",
     "output_type": "stream",
     "text": [
      "[Saved] ../results/redis_cifar100/cifar_resnet_s969_e50_rd72.npz\n"
     ]
    },
    {
     "name": "stderr",
     "output_type": "stream",
     "text": [
      "Seed 969:  75%|███████▌  | 30/40 [00:06<00:02,  4.58it/s]"
     ]
    },
    {
     "name": "stdout",
     "output_type": "stream",
     "text": [
      "[Saved] ../results/redis_cifar100/cifar_resnet_s969_e50_rd71.npz\n"
     ]
    },
    {
     "name": "stderr",
     "output_type": "stream",
     "text": [
      "Seed 969:  78%|███████▊  | 31/40 [00:06<00:01,  4.66it/s]"
     ]
    },
    {
     "name": "stdout",
     "output_type": "stream",
     "text": [
      "[Saved] ../results/redis_cifar100/cifar_resnet_s969_e50_rd76.npz\n"
     ]
    },
    {
     "name": "stderr",
     "output_type": "stream",
     "text": [
      "Seed 969:  80%|████████  | 32/40 [00:07<00:01,  4.73it/s]"
     ]
    },
    {
     "name": "stdout",
     "output_type": "stream",
     "text": [
      "[Saved] ../results/redis_cifar100/cifar_resnet_s969_e50_rd77.npz\n"
     ]
    },
    {
     "name": "stderr",
     "output_type": "stream",
     "text": [
      "Seed 969:  82%|████████▎ | 33/40 [00:07<00:01,  4.78it/s]"
     ]
    },
    {
     "name": "stdout",
     "output_type": "stream",
     "text": [
      "[Saved] ../results/redis_cifar100/cifar_resnet_s969_e50_rd80.npz\n"
     ]
    },
    {
     "name": "stderr",
     "output_type": "stream",
     "text": [
      "Seed 969:  85%|████████▌ | 34/40 [00:07<00:01,  4.82it/s]"
     ]
    },
    {
     "name": "stdout",
     "output_type": "stream",
     "text": [
      "[Saved] ../results/redis_cifar100/cifar_resnet_s969_e50_rd84.npz\n"
     ]
    },
    {
     "name": "stderr",
     "output_type": "stream",
     "text": [
      "Seed 969:  88%|████████▊ | 35/40 [00:07<00:01,  4.71it/s]"
     ]
    },
    {
     "name": "stdout",
     "output_type": "stream",
     "text": [
      "[Saved] ../results/redis_cifar100/cifar_resnet_s969_e50_rd88.npz\n"
     ]
    },
    {
     "name": "stderr",
     "output_type": "stream",
     "text": [
      "Seed 969:  90%|█████████ | 36/40 [00:07<00:00,  4.66it/s]"
     ]
    },
    {
     "name": "stdout",
     "output_type": "stream",
     "text": [
      "[Saved] ../results/redis_cifar100/cifar_resnet_s969_e50_rd85.npz\n"
     ]
    },
    {
     "name": "stderr",
     "output_type": "stream",
     "text": [
      "Seed 969:  92%|█████████▎| 37/40 [00:08<00:00,  4.34it/s]"
     ]
    },
    {
     "name": "stdout",
     "output_type": "stream",
     "text": [
      "[Saved] ../results/redis_cifar100/cifar_resnet_s969_e50_rd92.npz\n"
     ]
    },
    {
     "name": "stderr",
     "output_type": "stream",
     "text": [
      "Seed 969:  95%|█████████▌| 38/40 [00:08<00:00,  3.90it/s]"
     ]
    },
    {
     "name": "stdout",
     "output_type": "stream",
     "text": [
      "[Saved] ../results/redis_cifar100/cifar_resnet_s969_e50_rd94.npz\n"
     ]
    },
    {
     "name": "stderr",
     "output_type": "stream",
     "text": [
      "Seed 969:  98%|█████████▊| 39/40 [00:08<00:00,  3.79it/s]"
     ]
    },
    {
     "name": "stdout",
     "output_type": "stream",
     "text": [
      "[Saved] ../results/redis_cifar100/cifar_resnet_s969_e50_rd99.npz\n"
     ]
    },
    {
     "name": "stderr",
     "output_type": "stream",
     "text": [
      "                                                         \r"
     ]
    },
    {
     "name": "stdout",
     "output_type": "stream",
     "text": [
      "[Saved] ../results/redis_cifar100/cifar_resnet_s969_e50_rd97.npz\n"
     ]
    },
    {
     "name": "stderr",
     "output_type": "stream",
     "text": [
      "Seed 122:   2%|▎         | 1/40 [00:00<00:08,  4.61it/s]"
     ]
    },
    {
     "name": "stdout",
     "output_type": "stream",
     "text": [
      "[Saved] ../results/redis_cifar100/cifar_resnet_s122_e50_rd4.npz\n"
     ]
    },
    {
     "name": "stderr",
     "output_type": "stream",
     "text": [
      "Seed 122:   5%|▌         | 2/40 [00:00<00:08,  4.73it/s]"
     ]
    },
    {
     "name": "stdout",
     "output_type": "stream",
     "text": [
      "[Saved] ../results/redis_cifar100/cifar_resnet_s122_e50_rd7.npz\n"
     ]
    },
    {
     "name": "stderr",
     "output_type": "stream",
     "text": [
      "Seed 122:   8%|▊         | 3/40 [00:00<00:07,  4.64it/s]"
     ]
    },
    {
     "name": "stdout",
     "output_type": "stream",
     "text": [
      "[Saved] ../results/redis_cifar100/cifar_resnet_s122_e50_rd6.npz\n"
     ]
    },
    {
     "name": "stderr",
     "output_type": "stream",
     "text": [
      "Seed 122:  10%|█         | 4/40 [00:00<00:07,  4.68it/s]"
     ]
    },
    {
     "name": "stdout",
     "output_type": "stream",
     "text": [
      "[Saved] ../results/redis_cifar100/cifar_resnet_s122_e50_rd11.npz\n"
     ]
    },
    {
     "name": "stderr",
     "output_type": "stream",
     "text": [
      "Seed 122:  12%|█▎        | 5/40 [00:01<00:07,  4.53it/s]"
     ]
    },
    {
     "name": "stdout",
     "output_type": "stream",
     "text": [
      "[Saved] ../results/redis_cifar100/cifar_resnet_s122_e50_rd14.npz\n"
     ]
    },
    {
     "name": "stderr",
     "output_type": "stream",
     "text": [
      "Seed 122:  15%|█▌        | 6/40 [00:01<00:07,  4.54it/s]"
     ]
    },
    {
     "name": "stdout",
     "output_type": "stream",
     "text": [
      "[Saved] ../results/redis_cifar100/cifar_resnet_s122_e50_rd15.npz\n"
     ]
    },
    {
     "name": "stderr",
     "output_type": "stream",
     "text": [
      "Seed 122:  18%|█▊        | 7/40 [00:01<00:07,  4.30it/s]"
     ]
    },
    {
     "name": "stdout",
     "output_type": "stream",
     "text": [
      "[Saved] ../results/redis_cifar100/cifar_resnet_s122_e50_rd19.npz\n"
     ]
    },
    {
     "name": "stderr",
     "output_type": "stream",
     "text": [
      "Seed 122:  20%|██        | 8/40 [00:01<00:07,  4.32it/s]"
     ]
    },
    {
     "name": "stdout",
     "output_type": "stream",
     "text": [
      "[Saved] ../results/redis_cifar100/cifar_resnet_s122_e50_rd24.npz\n"
     ]
    },
    {
     "name": "stderr",
     "output_type": "stream",
     "text": [
      "Seed 122:  22%|██▎       | 9/40 [00:02<00:06,  4.48it/s]"
     ]
    },
    {
     "name": "stdout",
     "output_type": "stream",
     "text": [
      "[Saved] ../results/redis_cifar100/cifar_resnet_s122_e50_rd23.npz\n"
     ]
    },
    {
     "name": "stderr",
     "output_type": "stream",
     "text": [
      "Seed 122:  25%|██▌       | 10/40 [00:02<00:06,  4.54it/s]"
     ]
    },
    {
     "name": "stdout",
     "output_type": "stream",
     "text": [
      "[Saved] ../results/redis_cifar100/cifar_resnet_s122_e50_rd25.npz\n"
     ]
    },
    {
     "name": "stderr",
     "output_type": "stream",
     "text": [
      "Seed 122:  28%|██▊       | 11/40 [00:02<00:06,  4.27it/s]"
     ]
    },
    {
     "name": "stdout",
     "output_type": "stream",
     "text": [
      "[Saved] ../results/redis_cifar100/cifar_resnet_s122_e50_rd29.npz\n"
     ]
    },
    {
     "name": "stderr",
     "output_type": "stream",
     "text": [
      "Seed 122:  30%|███       | 12/40 [00:02<00:06,  4.22it/s]"
     ]
    },
    {
     "name": "stdout",
     "output_type": "stream",
     "text": [
      "[Saved] ../results/redis_cifar100/cifar_resnet_s122_e50_rd30.npz\n"
     ]
    },
    {
     "name": "stderr",
     "output_type": "stream",
     "text": [
      "Seed 122:  35%|███▌      | 14/40 [00:03<00:05,  4.52it/s]"
     ]
    },
    {
     "name": "stdout",
     "output_type": "stream",
     "text": [
      "[Saved] ../results/redis_cifar100/cifar_resnet_s122_e50_rd31.npz\n",
      "[Saved] ../results/redis_cifar100/cifar_resnet_s122_e50_rd36.npz\n"
     ]
    },
    {
     "name": "stderr",
     "output_type": "stream",
     "text": [
      "Seed 122:  38%|███▊      | 15/40 [00:03<00:05,  4.63it/s]"
     ]
    },
    {
     "name": "stdout",
     "output_type": "stream",
     "text": [
      "[Saved] ../results/redis_cifar100/cifar_resnet_s122_e50_rd35.npz\n"
     ]
    },
    {
     "name": "stderr",
     "output_type": "stream",
     "text": [
      "Seed 122:  42%|████▎     | 17/40 [00:03<00:04,  4.78it/s]"
     ]
    },
    {
     "name": "stdout",
     "output_type": "stream",
     "text": [
      "[Saved] ../results/redis_cifar100/cifar_resnet_s122_e50_rd39.npz\n",
      "[Saved] ../results/redis_cifar100/cifar_resnet_s122_e50_rd44.npz\n"
     ]
    },
    {
     "name": "stderr",
     "output_type": "stream",
     "text": [
      "Seed 122:  45%|████▌     | 18/40 [00:03<00:04,  4.83it/s]"
     ]
    },
    {
     "name": "stdout",
     "output_type": "stream",
     "text": [
      "[Saved] ../results/redis_cifar100/cifar_resnet_s122_e50_rd41.npz\n"
     ]
    },
    {
     "name": "stderr",
     "output_type": "stream",
     "text": [
      "Seed 122:  48%|████▊     | 19/40 [00:04<00:04,  4.84it/s]"
     ]
    },
    {
     "name": "stdout",
     "output_type": "stream",
     "text": [
      "[Saved] ../results/redis_cifar100/cifar_resnet_s122_e50_rd49.npz\n"
     ]
    },
    {
     "name": "stderr",
     "output_type": "stream",
     "text": [
      "Seed 122:  50%|█████     | 20/40 [00:04<00:04,  4.87it/s]"
     ]
    },
    {
     "name": "stdout",
     "output_type": "stream",
     "text": [
      "[Saved] ../results/redis_cifar100/cifar_resnet_s122_e50_rd48.npz\n"
     ]
    },
    {
     "name": "stderr",
     "output_type": "stream",
     "text": [
      "Seed 122:  55%|█████▌    | 22/40 [00:04<00:03,  4.76it/s]"
     ]
    },
    {
     "name": "stdout",
     "output_type": "stream",
     "text": [
      "[Saved] ../results/redis_cifar100/cifar_resnet_s122_e50_rd51.npz\n",
      "[Saved] ../results/redis_cifar100/cifar_resnet_s122_e50_rd53.npz\n"
     ]
    },
    {
     "name": "stderr",
     "output_type": "stream",
     "text": [
      "Seed 122:  57%|█████▊    | 23/40 [00:04<00:03,  4.81it/s]"
     ]
    },
    {
     "name": "stdout",
     "output_type": "stream",
     "text": [
      "[Saved] ../results/redis_cifar100/cifar_resnet_s122_e50_rd59.npz\n"
     ]
    },
    {
     "name": "stderr",
     "output_type": "stream",
     "text": [
      "Seed 122:  60%|██████    | 24/40 [00:05<00:03,  4.34it/s]"
     ]
    },
    {
     "name": "stdout",
     "output_type": "stream",
     "text": [
      "[Saved] ../results/redis_cifar100/cifar_resnet_s122_e50_rd57.npz\n"
     ]
    },
    {
     "name": "stderr",
     "output_type": "stream",
     "text": [
      "Seed 122:  62%|██████▎   | 25/40 [00:05<00:03,  4.26it/s]"
     ]
    },
    {
     "name": "stdout",
     "output_type": "stream",
     "text": [
      "[Saved] ../results/redis_cifar100/cifar_resnet_s122_e50_rd60.npz\n"
     ]
    },
    {
     "name": "stderr",
     "output_type": "stream",
     "text": [
      "Seed 122:  65%|██████▌   | 26/40 [00:05<00:03,  4.29it/s]"
     ]
    },
    {
     "name": "stdout",
     "output_type": "stream",
     "text": [
      "[Saved] ../results/redis_cifar100/cifar_resnet_s122_e50_rd61.npz\n"
     ]
    },
    {
     "name": "stderr",
     "output_type": "stream",
     "text": [
      "Seed 122:  68%|██████▊   | 27/40 [00:05<00:02,  4.38it/s]"
     ]
    },
    {
     "name": "stdout",
     "output_type": "stream",
     "text": [
      "[Saved] ../results/redis_cifar100/cifar_resnet_s122_e50_rd68.npz\n"
     ]
    },
    {
     "name": "stderr",
     "output_type": "stream",
     "text": [
      "Seed 122:  70%|███████   | 28/40 [00:06<00:02,  4.27it/s]"
     ]
    },
    {
     "name": "stdout",
     "output_type": "stream",
     "text": [
      "[Saved] ../results/redis_cifar100/cifar_resnet_s122_e50_rd67.npz\n"
     ]
    },
    {
     "name": "stderr",
     "output_type": "stream",
     "text": [
      "Seed 122:  72%|███████▎  | 29/40 [00:06<00:02,  4.41it/s]"
     ]
    },
    {
     "name": "stdout",
     "output_type": "stream",
     "text": [
      "[Saved] ../results/redis_cifar100/cifar_resnet_s122_e50_rd72.npz\n"
     ]
    },
    {
     "name": "stderr",
     "output_type": "stream",
     "text": [
      "Seed 122:  75%|███████▌  | 30/40 [00:06<00:02,  4.32it/s]"
     ]
    },
    {
     "name": "stdout",
     "output_type": "stream",
     "text": [
      "[Saved] ../results/redis_cifar100/cifar_resnet_s122_e50_rd71.npz\n"
     ]
    },
    {
     "name": "stderr",
     "output_type": "stream",
     "text": [
      "Seed 122:  78%|███████▊  | 31/40 [00:06<00:02,  4.32it/s]"
     ]
    },
    {
     "name": "stdout",
     "output_type": "stream",
     "text": [
      "[Saved] ../results/redis_cifar100/cifar_resnet_s122_e50_rd76.npz\n"
     ]
    },
    {
     "name": "stderr",
     "output_type": "stream",
     "text": [
      "Seed 122:  80%|████████  | 32/40 [00:07<00:01,  4.15it/s]"
     ]
    },
    {
     "name": "stdout",
     "output_type": "stream",
     "text": [
      "[Saved] ../results/redis_cifar100/cifar_resnet_s122_e50_rd77.npz\n"
     ]
    },
    {
     "name": "stderr",
     "output_type": "stream",
     "text": [
      "Seed 122:  82%|████████▎ | 33/40 [00:07<00:01,  3.93it/s]"
     ]
    },
    {
     "name": "stdout",
     "output_type": "stream",
     "text": [
      "[Saved] ../results/redis_cifar100/cifar_resnet_s122_e50_rd80.npz\n"
     ]
    },
    {
     "name": "stderr",
     "output_type": "stream",
     "text": [
      "Seed 122:  85%|████████▌ | 34/40 [00:07<00:01,  3.84it/s]"
     ]
    },
    {
     "name": "stdout",
     "output_type": "stream",
     "text": [
      "[Saved] ../results/redis_cifar100/cifar_resnet_s122_e50_rd84.npz\n"
     ]
    },
    {
     "name": "stderr",
     "output_type": "stream",
     "text": [
      "Seed 122:  88%|████████▊ | 35/40 [00:07<00:01,  4.01it/s]"
     ]
    },
    {
     "name": "stdout",
     "output_type": "stream",
     "text": [
      "[Saved] ../results/redis_cifar100/cifar_resnet_s122_e50_rd88.npz\n"
     ]
    },
    {
     "name": "stderr",
     "output_type": "stream",
     "text": [
      "Seed 122:  90%|█████████ | 36/40 [00:08<00:00,  4.20it/s]"
     ]
    },
    {
     "name": "stdout",
     "output_type": "stream",
     "text": [
      "[Saved] ../results/redis_cifar100/cifar_resnet_s122_e50_rd85.npz\n"
     ]
    },
    {
     "name": "stderr",
     "output_type": "stream",
     "text": [
      "Seed 122:  92%|█████████▎| 37/40 [00:08<00:00,  4.39it/s]"
     ]
    },
    {
     "name": "stdout",
     "output_type": "stream",
     "text": [
      "[Saved] ../results/redis_cifar100/cifar_resnet_s122_e50_rd92.npz\n"
     ]
    },
    {
     "name": "stderr",
     "output_type": "stream",
     "text": [
      "Seed 122:  95%|█████████▌| 38/40 [00:08<00:00,  4.01it/s]"
     ]
    },
    {
     "name": "stdout",
     "output_type": "stream",
     "text": [
      "[Saved] ../results/redis_cifar100/cifar_resnet_s122_e50_rd94.npz\n"
     ]
    },
    {
     "name": "stderr",
     "output_type": "stream",
     "text": [
      "Seed 122:  98%|█████████▊| 39/40 [00:08<00:00,  3.88it/s]"
     ]
    },
    {
     "name": "stdout",
     "output_type": "stream",
     "text": [
      "[Saved] ../results/redis_cifar100/cifar_resnet_s122_e50_rd99.npz\n"
     ]
    },
    {
     "name": "stderr",
     "output_type": "stream",
     "text": [
      "                                                         \r"
     ]
    },
    {
     "name": "stdout",
     "output_type": "stream",
     "text": [
      "[Saved] ../results/redis_cifar100/cifar_resnet_s122_e50_rd97.npz\n"
     ]
    },
    {
     "name": "stderr",
     "output_type": "stream",
     "text": [
      "Seed 336:   2%|▎         | 1/40 [00:00<00:09,  4.21it/s]"
     ]
    },
    {
     "name": "stdout",
     "output_type": "stream",
     "text": [
      "[Saved] ../results/redis_cifar100/cifar_resnet_s336_e50_rd4.npz\n"
     ]
    },
    {
     "name": "stderr",
     "output_type": "stream",
     "text": [
      "Seed 336:   5%|▌         | 2/40 [00:00<00:09,  4.10it/s]"
     ]
    },
    {
     "name": "stdout",
     "output_type": "stream",
     "text": [
      "[Saved] ../results/redis_cifar100/cifar_resnet_s336_e50_rd7.npz\n"
     ]
    },
    {
     "name": "stderr",
     "output_type": "stream",
     "text": [
      "Seed 336:   8%|▊         | 3/40 [00:00<00:08,  4.28it/s]"
     ]
    },
    {
     "name": "stdout",
     "output_type": "stream",
     "text": [
      "[Saved] ../results/redis_cifar100/cifar_resnet_s336_e50_rd6.npz\n"
     ]
    },
    {
     "name": "stderr",
     "output_type": "stream",
     "text": [
      "Seed 336:  10%|█         | 4/40 [00:00<00:08,  4.45it/s]"
     ]
    },
    {
     "name": "stdout",
     "output_type": "stream",
     "text": [
      "[Saved] ../results/redis_cifar100/cifar_resnet_s336_e50_rd11.npz\n"
     ]
    },
    {
     "name": "stderr",
     "output_type": "stream",
     "text": [
      "Seed 336:  12%|█▎        | 5/40 [00:01<00:07,  4.48it/s]"
     ]
    },
    {
     "name": "stdout",
     "output_type": "stream",
     "text": [
      "[Saved] ../results/redis_cifar100/cifar_resnet_s336_e50_rd14.npz\n"
     ]
    },
    {
     "name": "stderr",
     "output_type": "stream",
     "text": [
      "Seed 336:  15%|█▌        | 6/40 [00:01<00:07,  4.50it/s]"
     ]
    },
    {
     "name": "stdout",
     "output_type": "stream",
     "text": [
      "[Saved] ../results/redis_cifar100/cifar_resnet_s336_e50_rd15.npz\n"
     ]
    },
    {
     "name": "stderr",
     "output_type": "stream",
     "text": [
      "Seed 336:  18%|█▊        | 7/40 [00:01<00:07,  4.14it/s]"
     ]
    },
    {
     "name": "stdout",
     "output_type": "stream",
     "text": [
      "[Saved] ../results/redis_cifar100/cifar_resnet_s336_e50_rd19.npz\n"
     ]
    },
    {
     "name": "stderr",
     "output_type": "stream",
     "text": [
      "Seed 336:  20%|██        | 8/40 [00:01<00:07,  4.15it/s]"
     ]
    },
    {
     "name": "stdout",
     "output_type": "stream",
     "text": [
      "[Saved] ../results/redis_cifar100/cifar_resnet_s336_e50_rd24.npz\n"
     ]
    },
    {
     "name": "stderr",
     "output_type": "stream",
     "text": [
      "Seed 336:  22%|██▎       | 9/40 [00:02<00:07,  4.31it/s]"
     ]
    },
    {
     "name": "stdout",
     "output_type": "stream",
     "text": [
      "[Saved] ../results/redis_cifar100/cifar_resnet_s336_e50_rd23.npz\n"
     ]
    },
    {
     "name": "stderr",
     "output_type": "stream",
     "text": [
      "Seed 336:  25%|██▌       | 10/40 [00:02<00:06,  4.43it/s]"
     ]
    },
    {
     "name": "stdout",
     "output_type": "stream",
     "text": [
      "[Saved] ../results/redis_cifar100/cifar_resnet_s336_e50_rd25.npz\n"
     ]
    },
    {
     "name": "stderr",
     "output_type": "stream",
     "text": [
      "Seed 336:  28%|██▊       | 11/40 [00:02<00:06,  4.45it/s]"
     ]
    },
    {
     "name": "stdout",
     "output_type": "stream",
     "text": [
      "[Saved] ../results/redis_cifar100/cifar_resnet_s336_e50_rd29.npz\n"
     ]
    },
    {
     "name": "stderr",
     "output_type": "stream",
     "text": [
      "Seed 336:  30%|███       | 12/40 [00:02<00:06,  4.41it/s]"
     ]
    },
    {
     "name": "stdout",
     "output_type": "stream",
     "text": [
      "[Saved] ../results/redis_cifar100/cifar_resnet_s336_e50_rd30.npz\n"
     ]
    },
    {
     "name": "stderr",
     "output_type": "stream",
     "text": [
      "Seed 336:  32%|███▎      | 13/40 [00:02<00:06,  4.42it/s]"
     ]
    },
    {
     "name": "stdout",
     "output_type": "stream",
     "text": [
      "[Saved] ../results/redis_cifar100/cifar_resnet_s336_e50_rd31.npz\n"
     ]
    },
    {
     "name": "stderr",
     "output_type": "stream",
     "text": [
      "Seed 336:  35%|███▌      | 14/40 [00:03<00:05,  4.51it/s]"
     ]
    },
    {
     "name": "stdout",
     "output_type": "stream",
     "text": [
      "[Saved] ../results/redis_cifar100/cifar_resnet_s336_e50_rd36.npz\n"
     ]
    },
    {
     "name": "stderr",
     "output_type": "stream",
     "text": [
      "Seed 336:  38%|███▊      | 15/40 [00:03<00:05,  4.60it/s]"
     ]
    },
    {
     "name": "stdout",
     "output_type": "stream",
     "text": [
      "[Saved] ../results/redis_cifar100/cifar_resnet_s336_e50_rd35.npz\n"
     ]
    },
    {
     "name": "stderr",
     "output_type": "stream",
     "text": [
      "Seed 336:  40%|████      | 16/40 [00:03<00:05,  4.45it/s]"
     ]
    },
    {
     "name": "stdout",
     "output_type": "stream",
     "text": [
      "[Saved] ../results/redis_cifar100/cifar_resnet_s336_e50_rd39.npz\n"
     ]
    },
    {
     "name": "stderr",
     "output_type": "stream",
     "text": [
      "Seed 336:  42%|████▎     | 17/40 [00:03<00:05,  4.41it/s]"
     ]
    },
    {
     "name": "stdout",
     "output_type": "stream",
     "text": [
      "[Saved] ../results/redis_cifar100/cifar_resnet_s336_e50_rd44.npz\n"
     ]
    },
    {
     "name": "stderr",
     "output_type": "stream",
     "text": [
      "Seed 336:  48%|████▊     | 19/40 [00:04<00:04,  4.60it/s]"
     ]
    },
    {
     "name": "stdout",
     "output_type": "stream",
     "text": [
      "[Saved] ../results/redis_cifar100/cifar_resnet_s336_e50_rd41.npz\n",
      "[Saved] ../results/redis_cifar100/cifar_resnet_s336_e50_rd49.npz\n"
     ]
    },
    {
     "name": "stderr",
     "output_type": "stream",
     "text": [
      "Seed 336:  50%|█████     | 20/40 [00:04<00:04,  4.55it/s]"
     ]
    },
    {
     "name": "stdout",
     "output_type": "stream",
     "text": [
      "[Saved] ../results/redis_cifar100/cifar_resnet_s336_e50_rd48.npz\n"
     ]
    },
    {
     "name": "stderr",
     "output_type": "stream",
     "text": [
      "Seed 336:  52%|█████▎    | 21/40 [00:04<00:04,  4.50it/s]"
     ]
    },
    {
     "name": "stdout",
     "output_type": "stream",
     "text": [
      "[Saved] ../results/redis_cifar100/cifar_resnet_s336_e50_rd51.npz\n"
     ]
    },
    {
     "name": "stderr",
     "output_type": "stream",
     "text": [
      "Seed 336:  55%|█████▌    | 22/40 [00:04<00:03,  4.63it/s]"
     ]
    },
    {
     "name": "stdout",
     "output_type": "stream",
     "text": [
      "[Saved] ../results/redis_cifar100/cifar_resnet_s336_e50_rd53.npz\n"
     ]
    },
    {
     "name": "stderr",
     "output_type": "stream",
     "text": [
      "Seed 336:  57%|█████▊    | 23/40 [00:05<00:03,  4.56it/s]"
     ]
    },
    {
     "name": "stdout",
     "output_type": "stream",
     "text": [
      "[Saved] ../results/redis_cifar100/cifar_resnet_s336_e50_rd59.npz\n"
     ]
    },
    {
     "name": "stderr",
     "output_type": "stream",
     "text": [
      "Seed 336:  60%|██████    | 24/40 [00:05<00:03,  4.20it/s]"
     ]
    },
    {
     "name": "stdout",
     "output_type": "stream",
     "text": [
      "[Saved] ../results/redis_cifar100/cifar_resnet_s336_e50_rd57.npz\n"
     ]
    },
    {
     "name": "stderr",
     "output_type": "stream",
     "text": [
      "Seed 336:  62%|██████▎   | 25/40 [00:05<00:03,  3.94it/s]"
     ]
    },
    {
     "name": "stdout",
     "output_type": "stream",
     "text": [
      "[Saved] ../results/redis_cifar100/cifar_resnet_s336_e50_rd60.npz\n"
     ]
    },
    {
     "name": "stderr",
     "output_type": "stream",
     "text": [
      "Seed 336:  65%|██████▌   | 26/40 [00:06<00:03,  3.89it/s]"
     ]
    },
    {
     "name": "stdout",
     "output_type": "stream",
     "text": [
      "[Saved] ../results/redis_cifar100/cifar_resnet_s336_e50_rd61.npz\n"
     ]
    },
    {
     "name": "stderr",
     "output_type": "stream",
     "text": [
      "Seed 336:  68%|██████▊   | 27/40 [00:06<00:03,  4.13it/s]"
     ]
    },
    {
     "name": "stdout",
     "output_type": "stream",
     "text": [
      "[Saved] ../results/redis_cifar100/cifar_resnet_s336_e50_rd68.npz\n"
     ]
    },
    {
     "name": "stderr",
     "output_type": "stream",
     "text": [
      "Seed 336:  72%|███████▎  | 29/40 [00:06<00:02,  4.52it/s]"
     ]
    },
    {
     "name": "stdout",
     "output_type": "stream",
     "text": [
      "[Saved] ../results/redis_cifar100/cifar_resnet_s336_e50_rd67.npz\n",
      "[Saved] ../results/redis_cifar100/cifar_resnet_s336_e50_rd72.npz\n"
     ]
    },
    {
     "name": "stderr",
     "output_type": "stream",
     "text": [
      "Seed 336:  75%|███████▌  | 30/40 [00:06<00:02,  4.45it/s]"
     ]
    },
    {
     "name": "stdout",
     "output_type": "stream",
     "text": [
      "[Saved] ../results/redis_cifar100/cifar_resnet_s336_e50_rd71.npz\n"
     ]
    },
    {
     "name": "stderr",
     "output_type": "stream",
     "text": [
      "Seed 336:  78%|███████▊  | 31/40 [00:07<00:01,  4.59it/s]"
     ]
    },
    {
     "name": "stdout",
     "output_type": "stream",
     "text": [
      "[Saved] ../results/redis_cifar100/cifar_resnet_s336_e50_rd76.npz\n"
     ]
    },
    {
     "name": "stderr",
     "output_type": "stream",
     "text": [
      "Seed 336:  80%|████████  | 32/40 [00:07<00:01,  4.65it/s]"
     ]
    },
    {
     "name": "stdout",
     "output_type": "stream",
     "text": [
      "[Saved] ../results/redis_cifar100/cifar_resnet_s336_e50_rd77.npz\n"
     ]
    },
    {
     "name": "stderr",
     "output_type": "stream",
     "text": [
      "Seed 336:  82%|████████▎ | 33/40 [00:07<00:01,  4.48it/s]"
     ]
    },
    {
     "name": "stdout",
     "output_type": "stream",
     "text": [
      "[Saved] ../results/redis_cifar100/cifar_resnet_s336_e50_rd80.npz\n"
     ]
    },
    {
     "name": "stderr",
     "output_type": "stream",
     "text": [
      "Seed 336:  85%|████████▌ | 34/40 [00:07<00:01,  4.52it/s]"
     ]
    },
    {
     "name": "stdout",
     "output_type": "stream",
     "text": [
      "[Saved] ../results/redis_cifar100/cifar_resnet_s336_e50_rd84.npz\n"
     ]
    },
    {
     "name": "stderr",
     "output_type": "stream",
     "text": [
      "Seed 336:  88%|████████▊ | 35/40 [00:07<00:01,  4.58it/s]"
     ]
    },
    {
     "name": "stdout",
     "output_type": "stream",
     "text": [
      "[Saved] ../results/redis_cifar100/cifar_resnet_s336_e50_rd88.npz\n"
     ]
    },
    {
     "name": "stderr",
     "output_type": "stream",
     "text": [
      "Seed 336:  90%|█████████ | 36/40 [00:08<00:00,  4.59it/s]"
     ]
    },
    {
     "name": "stdout",
     "output_type": "stream",
     "text": [
      "[Saved] ../results/redis_cifar100/cifar_resnet_s336_e50_rd85.npz\n"
     ]
    },
    {
     "name": "stderr",
     "output_type": "stream",
     "text": [
      "Seed 336:  92%|█████████▎| 37/40 [00:08<00:00,  4.54it/s]"
     ]
    },
    {
     "name": "stdout",
     "output_type": "stream",
     "text": [
      "[Saved] ../results/redis_cifar100/cifar_resnet_s336_e50_rd92.npz\n"
     ]
    },
    {
     "name": "stderr",
     "output_type": "stream",
     "text": [
      "Seed 336:  95%|█████████▌| 38/40 [00:08<00:00,  4.51it/s]"
     ]
    },
    {
     "name": "stdout",
     "output_type": "stream",
     "text": [
      "[Saved] ../results/redis_cifar100/cifar_resnet_s336_e50_rd94.npz\n"
     ]
    },
    {
     "name": "stderr",
     "output_type": "stream",
     "text": [
      "Seed 336:  98%|█████████▊| 39/40 [00:08<00:00,  4.40it/s]"
     ]
    },
    {
     "name": "stdout",
     "output_type": "stream",
     "text": [
      "[Saved] ../results/redis_cifar100/cifar_resnet_s336_e50_rd99.npz\n"
     ]
    },
    {
     "name": "stderr",
     "output_type": "stream",
     "text": [
      "                                                         \r"
     ]
    },
    {
     "name": "stdout",
     "output_type": "stream",
     "text": [
      "[Saved] ../results/redis_cifar100/cifar_resnet_s336_e50_rd97.npz\n"
     ]
    },
    {
     "name": "stderr",
     "output_type": "stream",
     "text": [
      "Seed 93:   2%|▎         | 1/40 [00:00<00:09,  3.98it/s]"
     ]
    },
    {
     "name": "stdout",
     "output_type": "stream",
     "text": [
      "[Saved] ../results/redis_cifar100/cifar_resnet_s93_e50_rd4.npz\n"
     ]
    },
    {
     "name": "stderr",
     "output_type": "stream",
     "text": [
      "Seed 93:   5%|▌         | 2/40 [00:00<00:08,  4.30it/s]"
     ]
    },
    {
     "name": "stdout",
     "output_type": "stream",
     "text": [
      "[Saved] ../results/redis_cifar100/cifar_resnet_s93_e50_rd7.npz\n"
     ]
    },
    {
     "name": "stderr",
     "output_type": "stream",
     "text": [
      "Seed 93:   8%|▊         | 3/40 [00:00<00:08,  4.36it/s]"
     ]
    },
    {
     "name": "stdout",
     "output_type": "stream",
     "text": [
      "[Saved] ../results/redis_cifar100/cifar_resnet_s93_e50_rd6.npz\n"
     ]
    },
    {
     "name": "stderr",
     "output_type": "stream",
     "text": [
      "Seed 93:  10%|█         | 4/40 [00:00<00:08,  4.50it/s]"
     ]
    },
    {
     "name": "stdout",
     "output_type": "stream",
     "text": [
      "[Saved] ../results/redis_cifar100/cifar_resnet_s93_e50_rd11.npz\n"
     ]
    },
    {
     "name": "stderr",
     "output_type": "stream",
     "text": [
      "Seed 93:  12%|█▎        | 5/40 [00:01<00:07,  4.62it/s]"
     ]
    },
    {
     "name": "stdout",
     "output_type": "stream",
     "text": [
      "[Saved] ../results/redis_cifar100/cifar_resnet_s93_e50_rd14.npz\n"
     ]
    },
    {
     "name": "stderr",
     "output_type": "stream",
     "text": [
      "Seed 93:  15%|█▌        | 6/40 [00:01<00:07,  4.69it/s]"
     ]
    },
    {
     "name": "stdout",
     "output_type": "stream",
     "text": [
      "[Saved] ../results/redis_cifar100/cifar_resnet_s93_e50_rd15.npz\n"
     ]
    },
    {
     "name": "stderr",
     "output_type": "stream",
     "text": [
      "Seed 93:  18%|█▊        | 7/40 [00:01<00:07,  4.71it/s]"
     ]
    },
    {
     "name": "stdout",
     "output_type": "stream",
     "text": [
      "[Saved] ../results/redis_cifar100/cifar_resnet_s93_e50_rd19.npz\n"
     ]
    },
    {
     "name": "stderr",
     "output_type": "stream",
     "text": [
      "Seed 93:  20%|██        | 8/40 [00:01<00:07,  4.52it/s]"
     ]
    },
    {
     "name": "stdout",
     "output_type": "stream",
     "text": [
      "[Saved] ../results/redis_cifar100/cifar_resnet_s93_e50_rd24.npz\n"
     ]
    },
    {
     "name": "stderr",
     "output_type": "stream",
     "text": [
      "Seed 93:  22%|██▎       | 9/40 [00:02<00:07,  4.16it/s]"
     ]
    },
    {
     "name": "stdout",
     "output_type": "stream",
     "text": [
      "[Saved] ../results/redis_cifar100/cifar_resnet_s93_e50_rd23.npz\n"
     ]
    },
    {
     "name": "stderr",
     "output_type": "stream",
     "text": [
      "Seed 93:  25%|██▌       | 10/40 [00:02<00:06,  4.30it/s]"
     ]
    },
    {
     "name": "stdout",
     "output_type": "stream",
     "text": [
      "[Saved] ../results/redis_cifar100/cifar_resnet_s93_e50_rd25.npz\n"
     ]
    },
    {
     "name": "stderr",
     "output_type": "stream",
     "text": [
      "Seed 93:  28%|██▊       | 11/40 [00:02<00:06,  4.33it/s]"
     ]
    },
    {
     "name": "stdout",
     "output_type": "stream",
     "text": [
      "[Saved] ../results/redis_cifar100/cifar_resnet_s93_e50_rd29.npz\n"
     ]
    },
    {
     "name": "stderr",
     "output_type": "stream",
     "text": [
      "Seed 93:  30%|███       | 12/40 [00:02<00:06,  4.09it/s]"
     ]
    },
    {
     "name": "stdout",
     "output_type": "stream",
     "text": [
      "[Saved] ../results/redis_cifar100/cifar_resnet_s93_e50_rd30.npz\n"
     ]
    },
    {
     "name": "stderr",
     "output_type": "stream",
     "text": [
      "Seed 93:  32%|███▎      | 13/40 [00:03<00:06,  3.91it/s]"
     ]
    },
    {
     "name": "stdout",
     "output_type": "stream",
     "text": [
      "[Saved] ../results/redis_cifar100/cifar_resnet_s93_e50_rd31.npz\n"
     ]
    },
    {
     "name": "stderr",
     "output_type": "stream",
     "text": [
      "Seed 93:  35%|███▌      | 14/40 [00:03<00:06,  3.98it/s]"
     ]
    },
    {
     "name": "stdout",
     "output_type": "stream",
     "text": [
      "[Saved] ../results/redis_cifar100/cifar_resnet_s93_e50_rd36.npz\n"
     ]
    },
    {
     "name": "stderr",
     "output_type": "stream",
     "text": [
      "Seed 93:  38%|███▊      | 15/40 [00:03<00:06,  4.06it/s]"
     ]
    },
    {
     "name": "stdout",
     "output_type": "stream",
     "text": [
      "[Saved] ../results/redis_cifar100/cifar_resnet_s93_e50_rd35.npz\n"
     ]
    },
    {
     "name": "stderr",
     "output_type": "stream",
     "text": [
      "Seed 93:  40%|████      | 16/40 [00:03<00:05,  4.27it/s]"
     ]
    },
    {
     "name": "stdout",
     "output_type": "stream",
     "text": [
      "[Saved] ../results/redis_cifar100/cifar_resnet_s93_e50_rd39.npz\n"
     ]
    },
    {
     "name": "stderr",
     "output_type": "stream",
     "text": [
      "Seed 93:  42%|████▎     | 17/40 [00:04<00:05,  4.11it/s]"
     ]
    },
    {
     "name": "stdout",
     "output_type": "stream",
     "text": [
      "[Saved] ../results/redis_cifar100/cifar_resnet_s93_e50_rd44.npz\n"
     ]
    },
    {
     "name": "stderr",
     "output_type": "stream",
     "text": [
      "Seed 93:  45%|████▌     | 18/40 [00:04<00:05,  4.16it/s]"
     ]
    },
    {
     "name": "stdout",
     "output_type": "stream",
     "text": [
      "[Saved] ../results/redis_cifar100/cifar_resnet_s93_e50_rd41.npz\n"
     ]
    },
    {
     "name": "stderr",
     "output_type": "stream",
     "text": [
      "Seed 93:  50%|█████     | 20/40 [00:04<00:04,  4.50it/s]"
     ]
    },
    {
     "name": "stdout",
     "output_type": "stream",
     "text": [
      "[Saved] ../results/redis_cifar100/cifar_resnet_s93_e50_rd49.npz\n",
      "[Saved] ../results/redis_cifar100/cifar_resnet_s93_e50_rd48.npz\n"
     ]
    },
    {
     "name": "stderr",
     "output_type": "stream",
     "text": [
      "Seed 93:  52%|█████▎    | 21/40 [00:04<00:04,  4.06it/s]"
     ]
    },
    {
     "name": "stdout",
     "output_type": "stream",
     "text": [
      "[Saved] ../results/redis_cifar100/cifar_resnet_s93_e50_rd51.npz\n"
     ]
    },
    {
     "name": "stderr",
     "output_type": "stream",
     "text": [
      "Seed 93:  55%|█████▌    | 22/40 [00:05<00:04,  4.03it/s]"
     ]
    },
    {
     "name": "stdout",
     "output_type": "stream",
     "text": [
      "[Saved] ../results/redis_cifar100/cifar_resnet_s93_e50_rd53.npz\n"
     ]
    },
    {
     "name": "stderr",
     "output_type": "stream",
     "text": [
      "Seed 93:  57%|█████▊    | 23/40 [00:05<00:04,  4.07it/s]"
     ]
    },
    {
     "name": "stdout",
     "output_type": "stream",
     "text": [
      "[Saved] ../results/redis_cifar100/cifar_resnet_s93_e50_rd59.npz\n"
     ]
    },
    {
     "name": "stderr",
     "output_type": "stream",
     "text": [
      "Seed 93:  60%|██████    | 24/40 [00:05<00:03,  4.02it/s]"
     ]
    },
    {
     "name": "stdout",
     "output_type": "stream",
     "text": [
      "[Saved] ../results/redis_cifar100/cifar_resnet_s93_e50_rd57.npz\n"
     ]
    },
    {
     "name": "stderr",
     "output_type": "stream",
     "text": [
      "Seed 93:  62%|██████▎   | 25/40 [00:05<00:03,  4.01it/s]"
     ]
    },
    {
     "name": "stdout",
     "output_type": "stream",
     "text": [
      "[Saved] ../results/redis_cifar100/cifar_resnet_s93_e50_rd60.npz\n"
     ]
    },
    {
     "name": "stderr",
     "output_type": "stream",
     "text": [
      "Seed 93:  65%|██████▌   | 26/40 [00:06<00:03,  4.17it/s]"
     ]
    },
    {
     "name": "stdout",
     "output_type": "stream",
     "text": [
      "[Saved] ../results/redis_cifar100/cifar_resnet_s93_e50_rd61.npz\n"
     ]
    },
    {
     "name": "stderr",
     "output_type": "stream",
     "text": [
      "Seed 93:  68%|██████▊   | 27/40 [00:06<00:03,  4.15it/s]"
     ]
    },
    {
     "name": "stdout",
     "output_type": "stream",
     "text": [
      "[Saved] ../results/redis_cifar100/cifar_resnet_s93_e50_rd68.npz\n"
     ]
    },
    {
     "name": "stderr",
     "output_type": "stream",
     "text": [
      "Seed 93:  70%|███████   | 28/40 [00:06<00:02,  4.20it/s]"
     ]
    },
    {
     "name": "stdout",
     "output_type": "stream",
     "text": [
      "[Saved] ../results/redis_cifar100/cifar_resnet_s93_e50_rd67.npz\n"
     ]
    },
    {
     "name": "stderr",
     "output_type": "stream",
     "text": [
      "Seed 93:  72%|███████▎  | 29/40 [00:06<00:02,  4.16it/s]"
     ]
    },
    {
     "name": "stdout",
     "output_type": "stream",
     "text": [
      "[Saved] ../results/redis_cifar100/cifar_resnet_s93_e50_rd72.npz\n"
     ]
    },
    {
     "name": "stderr",
     "output_type": "stream",
     "text": [
      "Seed 93:  75%|███████▌  | 30/40 [00:07<00:02,  4.03it/s]"
     ]
    },
    {
     "name": "stdout",
     "output_type": "stream",
     "text": [
      "[Saved] ../results/redis_cifar100/cifar_resnet_s93_e50_rd71.npz\n"
     ]
    },
    {
     "name": "stderr",
     "output_type": "stream",
     "text": [
      "Seed 93:  78%|███████▊  | 31/40 [00:07<00:02,  4.18it/s]"
     ]
    },
    {
     "name": "stdout",
     "output_type": "stream",
     "text": [
      "[Saved] ../results/redis_cifar100/cifar_resnet_s93_e50_rd76.npz\n"
     ]
    },
    {
     "name": "stderr",
     "output_type": "stream",
     "text": [
      "Seed 93:  80%|████████  | 32/40 [00:07<00:01,  4.33it/s]"
     ]
    },
    {
     "name": "stdout",
     "output_type": "stream",
     "text": [
      "[Saved] ../results/redis_cifar100/cifar_resnet_s93_e50_rd77.npz\n"
     ]
    },
    {
     "name": "stderr",
     "output_type": "stream",
     "text": [
      "Seed 93:  82%|████████▎ | 33/40 [00:07<00:01,  4.47it/s]"
     ]
    },
    {
     "name": "stdout",
     "output_type": "stream",
     "text": [
      "[Saved] ../results/redis_cifar100/cifar_resnet_s93_e50_rd80.npz\n"
     ]
    },
    {
     "name": "stderr",
     "output_type": "stream",
     "text": [
      "Seed 93:  85%|████████▌ | 34/40 [00:08<00:01,  4.52it/s]"
     ]
    },
    {
     "name": "stdout",
     "output_type": "stream",
     "text": [
      "[Saved] ../results/redis_cifar100/cifar_resnet_s93_e50_rd84.npz\n"
     ]
    },
    {
     "name": "stderr",
     "output_type": "stream",
     "text": [
      "Seed 93:  88%|████████▊ | 35/40 [00:08<00:01,  4.44it/s]"
     ]
    },
    {
     "name": "stdout",
     "output_type": "stream",
     "text": [
      "[Saved] ../results/redis_cifar100/cifar_resnet_s93_e50_rd88.npz\n"
     ]
    },
    {
     "name": "stderr",
     "output_type": "stream",
     "text": [
      "Seed 93:  90%|█████████ | 36/40 [00:08<00:00,  4.45it/s]"
     ]
    },
    {
     "name": "stdout",
     "output_type": "stream",
     "text": [
      "[Saved] ../results/redis_cifar100/cifar_resnet_s93_e50_rd85.npz\n"
     ]
    },
    {
     "name": "stderr",
     "output_type": "stream",
     "text": [
      "Seed 93:  92%|█████████▎| 37/40 [00:08<00:00,  4.55it/s]"
     ]
    },
    {
     "name": "stdout",
     "output_type": "stream",
     "text": [
      "[Saved] ../results/redis_cifar100/cifar_resnet_s93_e50_rd92.npz\n"
     ]
    },
    {
     "name": "stderr",
     "output_type": "stream",
     "text": [
      "Seed 93:  95%|█████████▌| 38/40 [00:08<00:00,  4.61it/s]"
     ]
    },
    {
     "name": "stdout",
     "output_type": "stream",
     "text": [
      "[Saved] ../results/redis_cifar100/cifar_resnet_s93_e50_rd94.npz\n"
     ]
    },
    {
     "name": "stderr",
     "output_type": "stream",
     "text": [
      "Seed 93:  98%|█████████▊| 39/40 [00:09<00:00,  4.35it/s]"
     ]
    },
    {
     "name": "stdout",
     "output_type": "stream",
     "text": [
      "[Saved] ../results/redis_cifar100/cifar_resnet_s93_e50_rd99.npz\n"
     ]
    },
    {
     "name": "stderr",
     "output_type": "stream",
     "text": [
      "                                                        "
     ]
    },
    {
     "name": "stdout",
     "output_type": "stream",
     "text": [
      "[Saved] ../results/redis_cifar100/cifar_resnet_s93_e50_rd97.npz\n",
      "\n",
      "All timers saved to ../analytics/CIFAR100/timer/redistribution_timer.csv\n"
     ]
    },
    {
     "name": "stderr",
     "output_type": "stream",
     "text": [
      "\r"
     ]
    }
   ],
   "source": [
    "import os\n",
    "import numpy as np\n",
    "import pandas as pd\n",
    "from tqdm import tqdm\n",
    "import time\n",
    "\n",
    "from lib.utils import model_results_from_npz\n",
    "from lib.projection import gram_schmidt, project_confidences\n",
    "from lib.redistribute import redistribute_confidences_of_class\n",
    "\n",
    "# ===== Dataset Config =====\n",
    "# If you want explicit class names, load from your CIFAR-100 mapping.\n",
    "\n",
    "CIFAR100_CLASSES = [\n",
    "    'apple', 'aquarium_fish', 'baby', 'bear', 'beaver', \n",
    "    'bed', 'bee', 'beetle', 'bicycle', 'bottle', 'bowl', \n",
    "    'boy', 'bridge', 'bus', 'butterfly', 'camel', 'can', \n",
    "    'castle', 'caterpillar', 'cattle', 'chair', 'chimpanzee', \n",
    "    'clock', 'cloud', 'cockroach', 'couch', 'crab', 'crocodile', \n",
    "    'cup', 'dinosaur', 'dolphin', 'elephant', 'flatfish', 'forest', \n",
    "    'fox', 'girl', 'hamster', 'house', 'kangaroo', 'keyboard', 'lamp', \n",
    "    'lawn_mower', 'leopard', 'lion', 'lizard', 'lobster', 'man', \n",
    "    'maple_tree', 'motorcycle', 'mountain', 'mouse', 'mushroom', \n",
    "    'oak_tree', 'orange', 'orchid', 'otter', 'palm_tree', 'pear', \n",
    "    'pickup_truck', 'pine_tree', 'plain', 'plate', 'poppy', 'porcupine', \n",
    "    'possum', 'rabbit', 'raccoon', 'ray', 'road', 'rocket', 'rose', 'sea', \n",
    "    'seal', 'shark', 'shrew', 'skunk', 'skyscraper', 'snail', 'snake', \n",
    "    'spider', 'squirrel', 'streetcar', 'sunflower', 'sweet_pepper', 'table', \n",
    "    'tank', 'telephone', 'television', 'tiger', 'tractor', 'train', 'trout', \n",
    "    'tulip', 'turtle', 'wardrobe', 'whale', 'willow_tree', 'wolf', 'woman', 'worm'\n",
    "    ]\n",
    "NUM_CLASSES = 100\n",
    "\n",
    "SEEDS = [42, 602, 311, 637, 800, 543, 969, 122, 336, 93]   # example seeds\n",
    "EPOCHS = 50\n",
    "REMOVED_CLASSES = [\n",
    "    4, 7, 6, 11, 14, 15, 19, 24, 23, 25, 29, 30, \n",
    "    31, 36, 35, 39, 44, 41, 49, 48, 51, 53, 59, 57, 60, 61, \n",
    "    68, 67, 72, 71, 76, 77, 80, 84, 88, 85, 92, 94, 99, 97] # CIFAR-100\n",
    "\n",
    "#SEEDS = [311, 637, 969]   # example seeds\n",
    "#EPOCHS = 200\n",
    "#REMOVED_CLASSES = [14, 23, 35, 49, 53, 61, 68, 72, 88, 97]\n",
    "\n",
    "# ===== Paths =====\n",
    "DIR_ORI = \"../results/cifar100/\"\n",
    "DIR_OUT = \"../results/redis_cifar100/\"\n",
    "TIMER_DIR = \"../analytics/CIFAR100/timer/\"\n",
    "os.makedirs(DIR_OUT, exist_ok=True)\n",
    "\n",
    "# ===== Timer Store =====\n",
    "timer_records = []\n",
    "\n",
    "# ===== Redistribute Loop =====\n",
    "for seed in SEEDS:\n",
    "    file = f\"cifar100_resnet18_s{seed}_e{EPOCHS}.npz\"\n",
    "    filepath = os.path.join(DIR_ORI, file)\n",
    "    if not os.path.exists(filepath):\n",
    "        print(f\"Skip missing: {filepath}\")\n",
    "        continue\n",
    "\n",
    "    # Load original once per seed\n",
    "    model_ori = model_results_from_npz(filepath=filepath, num_classes=NUM_CLASSES)\n",
    "\n",
    "    # Precompute averages once\n",
    "    avg_confidences = np.zeros((NUM_CLASSES, NUM_CLASSES), dtype=np.float32)\n",
    "    for i in range(NUM_CLASSES):\n",
    "        avg_confidences[i] = np.mean(model_ori.confidences[i], axis=0)\n",
    "    avg_confidences_ortho = gram_schmidt(avg_confidences)\n",
    "\n",
    "    for removed_class in tqdm(REMOVED_CLASSES, desc=f\"Seed {seed}\", leave=False):\n",
    "        start_time = time.perf_counter()\n",
    "\n",
    "        proj_confidences = project_confidences(\n",
    "            model_ori.confidences,\n",
    "            avg_confidences_ortho,\n",
    "            removed_class\n",
    "        )\n",
    "\n",
    "        avg_proj_confidences = np.zeros((NUM_CLASSES, NUM_CLASSES), dtype=np.float32)\n",
    "        for i in range(NUM_CLASSES):\n",
    "            avg_proj_confidences[i] = np.mean(proj_confidences[i], axis=0)\n",
    "\n",
    "        # Redistribute per class\n",
    "        redis = {}\n",
    "        for cls in range(NUM_CLASSES):\n",
    "            redis[cls] = redistribute_confidences_of_clas(\n",
    "                conf=model_ori.confidences[cls],\n",
    "                proj_conf=proj_confidences[cls],\n",
    "                avg_proj_conf=avg_proj_confidences[cls],\n",
    "                removed_class=removed_class,\n",
    "            )\n",
    "\n",
    "        end_time = time.perf_counter()\n",
    "        # Record timing\n",
    "        duration_sec = end_time - start_time\n",
    "        timer_records.append({\n",
    "            \"seed\": seed,\n",
    "            \"removed_class\": removed_class,\n",
    "            \"removed_name\": CIFAR100_CLASSES[removed_class],\n",
    "            \"duration_sec\": duration_sec\n",
    "        })\n",
    "        \n",
    "        # Concatenate back\n",
    "        all_confs = np.vstack([redis[cls] for cls in range(NUM_CLASSES)])\n",
    "        all_targets = np.concatenate([\n",
    "            np.full(redis[cls].shape[0], cls, dtype=int) for cls in range(NUM_CLASSES)\n",
    "        ])\n",
    "        all_preds = np.argmax(all_confs, axis=1)\n",
    "\n",
    "        # Save\n",
    "        out_path = os.path.join(DIR_OUT, f\"cifar_resnet_s{seed}_e{EPOCHS}_rd{removed_class}.npz\")\n",
    "        np.savez_compressed(out_path, preds=all_preds, targets=all_targets, confs=all_confs)\n",
    "        print(f\"[Saved] {out_path}\")\n",
    "\n",
    "timer_df = pd.DataFrame(timer_records)\n",
    "timer_csv_path = os.path.join(TIMER_DIR, \"redistribution_timer.csv\")\n",
    "timer_df.to_csv(timer_csv_path, index=False)\n",
    "print(f\"\\nAll timers saved to {timer_csv_path}\")\n"
   ]
  }
 ],
 "metadata": {
  "kernelspec": {
   "display_name": "mlvenv",
   "language": "python",
   "name": "python3"
  },
  "language_info": {
   "codemirror_mode": {
    "name": "ipython",
    "version": 3
   },
   "file_extension": ".py",
   "mimetype": "text/x-python",
   "name": "python",
   "nbconvert_exporter": "python",
   "pygments_lexer": "ipython3",
   "version": "3.10.12"
  }
 },
 "nbformat": 4,
 "nbformat_minor": 5
}
