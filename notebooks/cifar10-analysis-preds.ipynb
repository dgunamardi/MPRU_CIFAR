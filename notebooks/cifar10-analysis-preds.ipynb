{
 "cells": [
  {
   "cell_type": "code",
   "execution_count": 1,
   "id": "c996485b",
   "metadata": {},
   "outputs": [
    {
     "name": "stdout",
     "output_type": "stream",
     "text": [
      "Best matching seed and removed class:\n",
      "{'seed': 311, 'removed_class': 3, 'match_ratio': np.float64(0.9233)}\n"
     ]
    }
   ],
   "source": [
    "import os\n",
    "import numpy as np\n",
    "from lib.utils import model_results_from_npz\n",
    "\n",
    "CIFAR10_CLASSES = [\n",
    "    \"airplane\",\"automobile\",\"bird\",\"cat\",\"deer\",\n",
    "    \"dog\",\"frog\",\"horse\",\"ship\",\"truck\"\n",
    "]\n",
    "NUM_CLASSES = len(CIFAR10_CLASSES)\n",
    "SEEDS = [42, 602, 311, 637, 800, 543, 969, 122, 336, 93]\n",
    "EPOCHS = 50\n",
    "\n",
    "DIR_RETRAIN = \"../results/cifar10/\"\n",
    "DIR_REDIS   = \"../results/redis_cifar10/\"\n",
    "\n",
    "best_match = {\"seed\": None, \"removed_class\": None, \"match_ratio\": -1.0}\n",
    "\n",
    "for seed in SEEDS:\n",
    "    for removed_class in range(NUM_CLASSES):\n",
    "        retrain_path = os.path.join(DIR_RETRAIN, f\"cifar_resnet_s{seed}_e{EPOCHS}_r{removed_class}.npz\")\n",
    "        redis_path   = os.path.join(DIR_REDIS, f\"cifar_resnet_s{seed}_e{EPOCHS}_rd{removed_class}.npz\")\n",
    "\n",
    "        if not os.path.exists(retrain_path) or not os.path.exists(redis_path):\n",
    "            continue\n",
    "\n",
    "        model_retrain = model_results_from_npz(retrain_path, NUM_CLASSES)\n",
    "        model_redis   = model_results_from_npz(redis_path, NUM_CLASSES)\n",
    "\n",
    "        # Concatenate all class predictions for fair comparison\n",
    "        retrain_preds = np.concatenate([model_retrain.preds[cls] for cls in range(NUM_CLASSES)])\n",
    "        redis_preds   = np.concatenate([model_redis.preds[cls] for cls in range(NUM_CLASSES)])\n",
    "\n",
    "        match_ratio = np.mean(retrain_preds == redis_preds)\n",
    "\n",
    "        if match_ratio > best_match[\"match_ratio\"]:\n",
    "            best_match.update({\"seed\": seed, \"removed_class\": removed_class, \"match_ratio\": match_ratio})\n",
    "\n",
    "print(\"Best matching seed and removed class:\")\n",
    "print(best_match)\n"
   ]
  }
 ],
 "metadata": {
  "kernelspec": {
   "display_name": "mlvenv",
   "language": "python",
   "name": "python3"
  },
  "language_info": {
   "codemirror_mode": {
    "name": "ipython",
    "version": 3
   },
   "file_extension": ".py",
   "mimetype": "text/x-python",
   "name": "python",
   "nbconvert_exporter": "python",
   "pygments_lexer": "ipython3",
   "version": "3.10.12"
  }
 },
 "nbformat": 4,
 "nbformat_minor": 5
}
